{
 "cells": [
  {
   "cell_type": "code",
   "execution_count": 2,
   "id": "3735b0ad",
   "metadata": {},
   "outputs": [],
   "source": [
    "from scipy.stats import norm\n",
    "import numpy as np\n",
    "import seaborn as sns\n",
    "import matplotlib.pyplot as plt"
   ]
  },
  {
   "cell_type": "code",
   "execution_count": 81,
   "id": "205c2aa6",
   "metadata": {},
   "outputs": [
    {
     "name": "stdout",
     "output_type": "stream",
     "text": [
      "Estimated proportion: 0.438\n",
      "Probability that we are within 0.01 of the true estimate: 0.091\n",
      "Confidence interval: [0.266, 0.609]\n"
     ]
    }
   ],
   "source": [
    "p = 0.48\n",
    "N = 32\n",
    "\n",
    "X = np.random.binomial(1, p, N)\n",
    "\n",
    "p_hat = X.mean() # Our estimate\n",
    "se_hat = np.sqrt(p_hat * (1 - p_hat) / N) # The standard deviation of our estimate, aka standard error\n",
    "std = X.std() # The standard deviation of the samples\n",
    "\n",
    "print(\"Estimated proportion: %.3f\" % p_hat)\n",
    "print(\"Probability that we are within 0.01 of the true estimate: %.3f\" % (norm.cdf(0.01/se_hat) - norm.cdf(-0.01/se_hat)))\n",
    "\n",
    "print(\"Confidence interval: [%.3f, %.3f]\" % (p_hat - 1.96*se_hat, p_hat + 1.96*se_hat))"
   ]
  },
  {
   "cell_type": "code",
   "execution_count": 82,
   "id": "88dc1054",
   "metadata": {},
   "outputs": [
    {
     "data": {
      "text/plain": [
       "0.9251"
      ]
     },
     "execution_count": 82,
     "metadata": {},
     "output_type": "execute_result"
    }
   ],
   "source": [
    "n_mc = 10000\n",
    "n_inside = 0\n",
    "\n",
    "for i_mc in range(n_mc):\n",
    "    X = np.random.binomial(1, p, N)\n",
    "\n",
    "    p_hat = X.mean() # Our estimate\n",
    "    se_hat = np.sqrt(p_hat * (1 - p_hat) / N) # The standard deviation of our estimate, aka standard error\n",
    "\n",
    "    p_is_inside = (p_hat - 1.96*se_hat <= p) & (p_hat + 1.96*se_hat >= p)\n",
    "    n_inside += p_is_inside\n",
    "    \n",
    "n_inside / n_mc"
   ]
  },
  {
   "cell_type": "code",
   "execution_count": 84,
   "id": "1e9337d0",
   "metadata": {},
   "outputs": [
    {
     "data": {
      "text/plain": [
       "0.918"
      ]
     },
     "execution_count": 84,
     "metadata": {},
     "output_type": "execute_result"
    }
   ],
   "source": [
    "import random\n",
    "\n",
    "n_boots = 5000\n",
    "\n",
    "n_mc = 1000\n",
    "n_inside = 0\n",
    "\n",
    "for i_mc in range(n_mc):\n",
    "    X = np.random.binomial(1, p, N)\n",
    "\n",
    "    boot_means = np.reshape(random.choices(X, k=N*n_boots), (N, n_boots)).mean(axis=0)\n",
    "\n",
    "    # search for the symmetric 95% confidence interval \n",
    "\n",
    "    idx_sorted_boot_means = np.argsort(boot_means)\n",
    "    # print(boot_means[:20])\n",
    "    a = boot_means[idx_sorted_boot_means[int((0.025 * n_boots))]]\n",
    "    b = boot_means[idx_sorted_boot_means[int((0.975 * n_boots))]]\n",
    "    # print(a, b)\n",
    "\n",
    "    p_is_inside = (a <= p) & (b >= p)\n",
    "    n_inside += p_is_inside\n",
    "\n",
    "n_inside / n_mc"
   ]
  },
  {
   "cell_type": "code",
   "execution_count": 58,
   "id": "de6a3e44",
   "metadata": {},
   "outputs": [
    {
     "name": "stdout",
     "output_type": "stream",
     "text": [
      "0.046\n"
     ]
    },
    {
     "data": {
      "text/plain": [
       "(0.47, 0.53)"
      ]
     },
     "execution_count": 58,
     "metadata": {},
     "output_type": "execute_result"
    },
    {
     "data": {
      "image/png": "[encoded data removed]",
      "text/plain": [
       "<Figure size 432x288 with 1 Axes>"
      ]
     },
     "metadata": {
      "needs_background": "light"
     },
     "output_type": "display_data"
    }
   ],
   "source": [
    "p = 0.49\n",
    "N = 10000\n",
    "sd_null = 0.5\n",
    "p_null = 0.5\n",
    "\n",
    "t = np.sqrt(N) * np.abs(p_null - p) / sd_null\n",
    "print(\"%5.3f\" % (1 - (norm.cdf(t) - norm.cdf(-t))))\n",
    "\n",
    "fig, ax = plt.subplots()\n",
    "\n",
    "sampdist = lambda u : 1/np.sqrt(2*np.pi*1/N*sd_null) * np.exp(-(u - p_null)**2 / (2 * 1/N*sd_null))\n",
    "u_list = np.linspace(0, 1, 10000)\n",
    "u_extreme_l = np.linspace(0, p_null - np.abs(p_null - p), 10000)\n",
    "u_extreme_r = np.flip(1 - u_extreme_l)\n",
    "\n",
    "ax.plot(u_list, sampdist(u_list), 'k', linewidth=2)\n",
    "for pval in [p, 1 - p, p_null]:\n",
    "    ax.vlines(pval, 0, sampdist(pval), 'k', linewidth=0.75)\n",
    "ax.hlines(0, 0, 1, 'k')\n",
    "ax.fill_between(u_extreme_l, sampdist(u_extreme_l), step=\"pre\", alpha=0.4)\n",
    "ax.fill_between(u_extreme_r, sampdist(u_extreme_r), step=\"pre\", alpha=0.4)\n",
    "ax.set_xlim(0.47, 0.53)\n"
   ]
  }
 ],
 "metadata": {
  "kernelspec": {
   "display_name": "Python 3 (ipykernel)",
   "language": "python",
   "name": "python3"
  },
  "language_info": {
   "codemirror_mode": {
    "name": "ipython",
    "version": 3
   },
   "file_extension": ".py",
   "mimetype": "text/x-python",
   "name": "python",
   "nbconvert_exporter": "python",
   "pygments_lexer": "ipython3",
   "version": "3.9.12"
  },
  "vscode": {
   "interpreter": {
    "hash": "40d3a090f54c6569ab1632332b64b2c03c39dcf918b08424e98f38b5ae0af88f"
   }
  }
 },
 "nbformat": 4,
 "nbformat_minor": 5
}
