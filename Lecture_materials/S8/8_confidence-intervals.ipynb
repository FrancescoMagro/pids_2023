{
 "cells": [
  {
   "cell_type": "code",
   "execution_count": 1,
   "id": "3735b0ad",
   "metadata": {},
   "outputs": [],
   "source": [
    "from scipy.stats import norm\n",
    "import numpy as np\n",
    "import seaborn as sns"
   ]
  },
  {
   "cell_type": "code",
   "execution_count": 2,
   "id": "205c2aa6",
   "metadata": {},
   "outputs": [
    {
     "name": "stdout",
     "output_type": "stream",
     "text": [
      "Estimated proportion: 0.400\n",
      "Probability that we are within 0.01 of the true estimate: 0.089\n",
      "Confidence interval: [0.225, 0.575]\n"
     ]
    }
   ],
   "source": [
    "p = 0.48\n",
    "N = 30\n",
    "\n",
    "X = np.random.binomial(1, p, N)\n",
    "\n",
    "p_hat = X.mean() # Our estimate\n",
    "se_hat = np.sqrt(p_hat * (1 - p_hat) / N) # The standard deviation of our estimate, aka standard error\n",
    "std = X.std() # The standard deviation of the samples\n",
    "\n",
    "print(\"Estimated proportion: %.3f\" % p_hat)\n",
    "print(\"Probability that we are within 0.01 of the true estimate: %.3f\" % (norm.cdf(0.01/se_hat) - norm.cdf(-0.01/se_hat)))\n",
    "\n",
    "print(\"Confidence interval: [%.3f, %.3f]\" % (p_hat - 1.96*se_hat, p_hat + 1.96*se_hat))"
   ]
  },
  {
   "cell_type": "code",
   "execution_count": 3,
   "id": "88dc1054",
   "metadata": {},
   "outputs": [
    {
     "data": {
      "text/plain": [
       "0.9386"
      ]
     },
     "execution_count": 3,
     "metadata": {},
     "output_type": "execute_result"
    }
   ],
   "source": [
    "n_mc = 10000\n",
    "n_inside = 0\n",
    "\n",
    "for i_mc in range(n_mc):\n",
    "    X = np.random.binomial(1, p, N)\n",
    "\n",
    "    p_hat = X.mean() # Our estimate\n",
    "    se_hat = np.sqrt(p_hat * (1 - p_hat) / N) # The standard deviation of our estimate, aka standard error\n",
    "\n",
    "    p_is_inside = (p_hat - 1.96*se_hat <= p) & (p_hat + 1.96*se_hat >= p)\n",
    "    n_inside += p_is_inside\n",
    "    \n",
    "n_inside / n_mc"
   ]
  }
 ],
 "metadata": {
  "kernelspec": {
   "display_name": "nf_torch",
   "language": "python",
   "name": "python3"
  },
  "language_info": {
   "codemirror_mode": {
    "name": "ipython",
    "version": 3
   },
   "file_extension": ".py",
   "mimetype": "text/x-python",
   "name": "python",
   "nbconvert_exporter": "python",
   "pygments_lexer": "ipython3",
   "version": "3.8.12"
  },
  "vscode": {
   "interpreter": {
    "hash": "07cb0c0be5d5c09ece9af089e9de2ad5458cdd62d0537c1d9b85ed67c101dd7b"
   }
  }
 },
 "nbformat": 4,
 "nbformat_minor": 5
}
