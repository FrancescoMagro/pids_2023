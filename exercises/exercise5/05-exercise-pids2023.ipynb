{
 "cells": [
  {
   "cell_type": "code",
   "execution_count": 1,
   "id": "636b4256",
   "metadata": {},
   "outputs": [],
   "source": [
    "import sys\n",
    "!{sys.executable} -m pip install nose\n",
    "!{sys.executable} -m pip install otter-grader\n",
    "!{sys.executable} -m pip install seaborn"
   ]
  },
  {
   "cell_type": "code",
   "execution_count": 2,
   "id": "b476c4c6",
   "metadata": {},
   "outputs": [],
   "source": [
    "# Initialize Otter\n",
    "import otter\n",
    "grader = otter.Notebook(\"05-exercise-pids2023.ipynb\")"
   ]
  },
  {
   "cell_type": "markdown",
   "id": "1862a9c0",
   "metadata": {
    "nbgrader": {
     "grade": false,
     "grade_id": "cell-1229f81499f5ebea",
     "locked": true,
     "schema_version": 3,
     "solution": false,
     "task": false
    }
   },
   "source": [
    "# Exercise sheet 5\n",
    "**Hello everyone!**\n",
    "\n",
    "# Points: 15 (+2 bonus)\n",
    "\n",
    "Topics of this exercise sheet are:\n",
    "* Working with probability distributions\n",
    "\n",
    "Please let us know if you have questions or problems! <br>\n",
    "Contact us during the exercise session, on [Piazza](https://piazza.com/class/leibdr4lk8n3w4), or [via email](https://sada.dmi.unibas.ch/en/teaching/pids23).\n",
    "\n",
    "Please submit this exercise sheet on **GRADESCOPE**.\n",
    "Naming conventions:\n",
    "* Name of notebook: \"05-exercise-pids2023.ipynb\"\n",
    "\n",
    "Your notebook will be automatically graded using gradescope. To get graded, you need to upload the file *05-exercise-pids2023.ipynb* to gradescope. If you are using JupyterHub, make sure you have saved the current notebook, then you can download this file by following: *File*->*Download* and save the file on you computer.\n",
    "\n",
    "The sheet is released before the exercise session on Tuesday. You have until the next exercise session on Tuesday to submit this sheet. Most of the questions of the exercise sheet can be handle during the session.\n",
    "\n",
    "**Handout date**: 28.03.2023 <br>\n",
    "**Submission date**: 04.04.2023 before 16:00 <br>\n",
    "\n",
    "\n",
    "### Please name the variables as suggested! Be careful with the type! Otherwise the grading system will fail you!"
   ]
  },
  {
   "cell_type": "markdown",
   "id": "e33dfee6",
   "metadata": {},
   "source": [
    "## Introduction:\n",
    "This exercise is designed to help you become familiar with the fundamental concepts of probability and statistics. To ensure that you have a strong grasp of these concepts, we recommend reading this article:\n",
    "https://towardsdatascience.com/an-in-depth-crash-course-on-random-variables-a3905d03e322"
   ]
  },
  {
   "cell_type": "code",
   "execution_count": 3,
   "id": "16c5cfc4",
   "metadata": {
    "nbgrader": {
     "grade": false,
     "grade_id": "cell-87e8c3397dfc076e",
     "locked": true,
     "schema_version": 3,
     "solution": false,
     "task": false
    }
   },
   "outputs": [],
   "source": [
    "import pandas as pd\n",
    "import seaborn as sns\n",
    "import matplotlib.pyplot as plt\n",
    "import numpy as np\n",
    "from scipy import stats\n",
    "from nose.tools import assert_is_instance, assert_equal, assert_almost_equal, assert_true"
   ]
  },
  {
   "cell_type": "markdown",
   "id": "76a49544",
   "metadata": {
    "nbgrader": {
     "grade": false,
     "grade_id": "cell-7ee686f735cd4d6c",
     "locked": true,
     "schema_version": 3,
     "solution": false,
     "task": false
    }
   },
   "source": [
    "## Question 1 (6 points + 1 bonus)\n",
    "\n",
    "### Binomial distribution:\n",
    "The binomial distribution with parameters $n$ and $p$ is a class of the discrete probability distributions of <b> the number of successes in a sequence of $n$ independent experiments, </b> each asking a yes–no question, and each with its own Boolean-valued outcome: success (with probability $p$) or failure (with probability $1 − p$). Let $X$ denote a random variable with binomial distribution. The probability of having $x$ times a success in $n$ trials, is:\n",
    "$$\n",
    "    p(x) = \\binom{n}{x}p^x (1-p)^{n-x} \n",
    "$$"
   ]
  },
  {
   "cell_type": "code",
   "execution_count": 4,
   "id": "eeced70d",
   "metadata": {
    "nbgrader": {
     "grade": false,
     "grade_id": "cell-cae8e70374ab5e6d",
     "locked": true,
     "schema_version": 3,
     "solution": false,
     "task": false
    }
   },
   "outputs": [],
   "source": [
    "n = 20 # The total number of trials\n",
    "p = 0.5 # The probability of success in each trial\n",
    "X = stats.binom(n, p)\n",
    "# Please check this page for more information: \n",
    "# https://docs.scipy.org/doc/scipy-0.13.0/reference/generated/scipy.stats.binom.html#scipy.stats.binom"
   ]
  },
  {
   "cell_type": "markdown",
   "id": "b62c9557",
   "metadata": {
    "nbgrader": {
     "grade": false,
     "grade_id": "cell-f30ccb790dff9fe2",
     "locked": true,
     "schema_version": 3,
     "solution": false,
     "task": false
    }
   },
   "source": [
    "### 1a) (2 points)\n",
    "Make a visual representation of the binomial distribution.\n",
    "To do that, generate 10,000 independent realizations of the random variable $X$. These 10,000 samples will be distributed as a binomial distribution with parameters $p=0.5$ and $n=20$. \n",
    "**Save the samples in a variable named 'x'**.\n",
    "\n",
    "In other words, this is equivalent to reproduce 10,000 independent experiments, where each experiment consists to flip 20 coins and count the number of times it hit 'tails' or 'heads'.\n",
    "\n",
    "Plot a histogram of the generated samples.\n",
    "\n",
    "Hint: You can use \"X.rvs(...)\" to generate independent samples from the random variable $X$."
   ]
  },
  {
   "cell_type": "code",
   "execution_count": 5,
   "id": "50aab0dc",
   "metadata": {
    "nbgrader": {
     "grade": false,
     "grade_id": "cell-67e48526cb3d882c",
     "locked": false,
     "schema_version": 3,
     "solution": true,
     "task": false
    }
   },
   "outputs": [],
   "source": [
    "n_samples=10000\n",
    "np.random.seed(0)\n",
    "\n",
    "x = ...\n",
    "..."
   ]
  },
  {
   "cell_type": "code",
   "execution_count": null,
   "id": "b7c61d11",
   "metadata": {
    "deletable": false,
    "editable": false
   },
   "outputs": [],
   "source": [
    "grader.check(\"Question 1a\")"
   ]
  },
  {
   "cell_type": "markdown",
   "id": "17d312af",
   "metadata": {
    "nbgrader": {
     "grade": false,
     "grade_id": "cell-3d9402382f967adc",
     "locked": true,
     "schema_version": 3,
     "solution": false,
     "task": false
    }
   },
   "source": [
    "### 1b (1 point)\n",
    "Calculate the probabilities $\\text{P}(X = 8)$, $\\text{P}(X = 10)$ and $\\text{P}(X = 12)$ and store them in the variables 'p8', 'p10', and 'p12', respectively.\n",
    "\n",
    "Hint: Use X.pmf()"
   ]
  },
  {
   "cell_type": "code",
   "execution_count": 9,
   "id": "3c35ae70",
   "metadata": {
    "nbgrader": {
     "grade": false,
     "grade_id": "cell-8c8767ce075ccffb",
     "locked": false,
     "schema_version": 3,
     "solution": true,
     "task": false
    }
   },
   "outputs": [],
   "source": [
    "p8 = ...\n",
    "p10 = ...\n",
    "p12 = ...\n",
    "print('P(X=8)={:.4f} \\nP(X=10)={:.4f} \\nP(X=12)={:.4f}'.format(p8, p10, p12))"
   ]
  },
  {
   "cell_type": "code",
   "execution_count": null,
   "id": "18d1f0d9",
   "metadata": {
    "deletable": false,
    "editable": false
   },
   "outputs": [],
   "source": [
    "grader.check(\"Question 1b\")"
   ]
  },
  {
   "cell_type": "markdown",
   "id": "4f4746fb",
   "metadata": {},
   "source": [
    "Which point has the highest probability? Why?"
   ]
  },
  {
   "cell_type": "markdown",
   "id": "a3015c3b",
   "metadata": {},
   "source": [
    "Your answer:\n"
   ]
  },
  {
   "cell_type": "markdown",
   "id": "f5204036",
   "metadata": {
    "nbgrader": {
     "grade": false,
     "grade_id": "cell-535e41a827712440",
     "locked": true,
     "schema_version": 3,
     "solution": false,
     "task": false
    }
   },
   "source": [
    "### 1c (1 point bonus)\n",
    "Calculate the probabilities $\\text{P}(X \\leq 8)$, $\\text{P}(X \\leq 10)$, $\\text{P}(X \\leq 12)$ and $\\text{P}(X \\leq 20)$ and store them in the variables 'p_le8', 'p_le10', 'p_le12' and 'p_le20' respectively.\n",
    "\n",
    "Hint: Use X.cdf()"
   ]
  },
  {
   "cell_type": "code",
   "execution_count": 11,
   "id": "31f47425",
   "metadata": {
    "nbgrader": {
     "grade": false,
     "grade_id": "cell-73833e6a3bef14f2",
     "locked": false,
     "schema_version": 3,
     "solution": true,
     "task": false
    }
   },
   "outputs": [],
   "source": [
    "p_le8 = ...\n",
    "p_le10 = ...\n",
    "p_le12 = ...\n",
    "p_le20 = ...\n",
    "\n",
    "print('P(X<=8)={:.4f}\\nP(X<=10)={:.4f}\\nP(X<=12)={:.4f}\\nP(X<=20)={:.4f}'.format(p_le8, p_le10, p_le12,p_le20))"
   ]
  },
  {
   "cell_type": "code",
   "execution_count": null,
   "id": "0fdc4d68",
   "metadata": {
    "deletable": false,
    "editable": false
   },
   "outputs": [],
   "source": [
    "grader.check(\"Question 1c\")"
   ]
  },
  {
   "cell_type": "markdown",
   "id": "a10d2818",
   "metadata": {},
   "source": [
    "Is there an increasing trend apparent in calculated probabilities? Also, can you explain why $\\text{P}(X \\leq 20)$ has the highest value of 1? "
   ]
  },
  {
   "cell_type": "markdown",
   "id": "ae45e713",
   "metadata": {},
   "source": [
    "Your answer:"
   ]
  },
  {
   "cell_type": "markdown",
   "id": "79c7f06f",
   "metadata": {},
   "source": []
  },
  {
   "cell_type": "markdown",
   "id": "f59b6639",
   "metadata": {
    "nbgrader": {
     "grade": false,
     "grade_id": "cell-631f01b5f3a50947",
     "locked": true,
     "schema_version": 3,
     "solution": false,
     "task": false
    }
   },
   "source": [
    "### 1d) (2 points)\n",
    "Calculate the mean, standard deviation, and median of the samples generated in the variable 'x' and store them in the variables 'mean', 'std' and 'median' respectively.\n",
    "\n",
    "Hint: use numpy package!"
   ]
  },
  {
   "cell_type": "code",
   "execution_count": 13,
   "id": "873e29dd",
   "metadata": {
    "nbgrader": {
     "grade": false,
     "grade_id": "cell-36f40a02cef87b84",
     "locked": false,
     "schema_version": 3,
     "solution": true,
     "task": false
    }
   },
   "outputs": [],
   "source": [
    "mean = ...\n",
    "std = ...\n",
    "median = ...\n",
    "\n",
    "print('Mean={:.4f} \\nStd={:.4f} \\nMedian={:.4f}'.format(mean, std, median))"
   ]
  },
  {
   "cell_type": "code",
   "execution_count": null,
   "id": "d0dc09f1",
   "metadata": {
    "deletable": false,
    "editable": false
   },
   "outputs": [],
   "source": [
    "grader.check(\"Question 1d\")"
   ]
  },
  {
   "cell_type": "markdown",
   "id": "8f44f932",
   "metadata": {},
   "source": [
    "Does the mean value appear to be close to $n \\times p$? Can you explain why we would expect this?"
   ]
  },
  {
   "cell_type": "markdown",
   "id": "9ef4745a",
   "metadata": {},
   "source": [
    "Your answer:"
   ]
  },
  {
   "cell_type": "markdown",
   "id": "8bb8cadb",
   "metadata": {},
   "source": []
  },
  {
   "cell_type": "markdown",
   "id": "a344c25e",
   "metadata": {
    "nbgrader": {
     "grade": false,
     "grade_id": "cell-74aa8649cf06473d",
     "locked": true,
     "schema_version": 3,
     "solution": false,
     "task": false
    }
   },
   "source": [
    "## Question 2 (6 points)\n",
    "### Multimodal distributions:\n",
    "We will now consider samples from two different binomial distributions with distinct values of $p$.\n",
    "\n",
    "Let $X_1$ denote a random variable with binomial distribution with parameters $p1=0.2$ and $n=20$.\n",
    "Let $X_2$ denote a random variable with binomial distribution with parameters $p2=0.82$ and $n=20$."
   ]
  },
  {
   "cell_type": "code",
   "execution_count": 21,
   "id": "fe82aeb5",
   "metadata": {},
   "outputs": [],
   "source": [
    "n = 20\n",
    "p1 = 0.2\n",
    "p2 = 0.8\n",
    "X1 = stats.binom(n, p1)\n",
    "X2 = stats.binom(n, p2)"
   ]
  },
  {
   "cell_type": "markdown",
   "id": "f166a8fb",
   "metadata": {},
   "source": [
    "### 2a) (2 points)\n",
    "\n",
    "Generate 5000 random samples from each of the two binomial distributions and store them in the variables 'x1' and 'x2', respectively. Concatenate the samples to create a unified vector 'x12', and plot a histogram of the concatenated samples."
   ]
  },
  {
   "cell_type": "code",
   "execution_count": 22,
   "id": "dc5176aa",
   "metadata": {},
   "outputs": [],
   "source": [
    "n_samples=5000\n",
    "np.random.seed(0)\n",
    "\n",
    "\n",
    "x1 = ...\n",
    "x2 = ...\n",
    "x12 = ...\n",
    "\n",
    "..."
   ]
  },
  {
   "cell_type": "code",
   "execution_count": null,
   "id": "8a19728d",
   "metadata": {
    "deletable": false,
    "editable": false
   },
   "outputs": [],
   "source": [
    "grader.check(\"Question 2a\")"
   ]
  },
  {
   "cell_type": "markdown",
   "id": "fa6c2712",
   "metadata": {},
   "source": [
    "### 2b) (4 points)\n",
    "\n",
    "Calculate the mean, median, and the first two modes of the concatenated samples in 'x', and store them in the variables 'mean', 'median', 'mode1', and 'mode2', respectively.\n",
    "\n",
    "Hint: You can use np.unique and np.argsort to find the first and the second modes"
   ]
  },
  {
   "cell_type": "code",
   "execution_count": 26,
   "id": "85e884c9",
   "metadata": {},
   "outputs": [],
   "source": [
    "mean = ...\n",
    "median = ...\n",
    "\n",
    "...\n",
    "\n",
    "mode1 = ...\n",
    "mode2 = ...\n",
    "\n",
    "\n",
    "print('Mean: {:.2f} \\nMedian: {:.2f} \\nFirst mode: {:.2f}\\nSecond mode: {:.2f}'.format(mean, median, mode1, mode2))"
   ]
  },
  {
   "cell_type": "code",
   "execution_count": null,
   "id": "03be3e9b",
   "metadata": {
    "deletable": false,
    "editable": false
   },
   "outputs": [],
   "source": [
    "grader.check(\"Question 2b\")"
   ]
  },
  {
   "cell_type": "markdown",
   "id": "7c1173fe",
   "metadata": {},
   "source": [
    "Which of these estimates (mean, median and modes) is more suitable to better represent this particular type of data? Why?"
   ]
  },
  {
   "cell_type": "markdown",
   "id": "fae54434",
   "metadata": {},
   "source": [
    "Your answer:"
   ]
  },
  {
   "cell_type": "markdown",
   "id": "14a0e5c1",
   "metadata": {},
   "source": []
  },
  {
   "cell_type": "markdown",
   "id": "09a77ef0",
   "metadata": {
    "nbgrader": {
     "grade": false,
     "grade_id": "cell-6cb3f5a1cf371788",
     "locked": true,
     "schema_version": 3,
     "solution": false,
     "task": false
    }
   },
   "source": [
    "## Question 3 (3 points + 1 bonus)\n",
    "\n",
    "### Normal distribution:\n",
    "A normal (Gaussian) distribution is a type of continuous probability distribution characterized by a bell-shaped curve and defined by its mean $\\mu$ and standard deviation $\\sigma$:\n",
    "$$\n",
    "    p(x) = \\frac{1}{\\sqrt{2\\pi\\sigma^2}} e^{-\\frac{(x - \\mu)^2}{2\\sigma^2}}\n",
    "$$"
   ]
  },
  {
   "cell_type": "code",
   "execution_count": 41,
   "id": "82b54be3",
   "metadata": {},
   "outputs": [],
   "source": [
    "mu = 3.0\n",
    "sigma = 2.0\n",
    "X = stats.norm(loc = mu , scale = sigma)\n",
    "\n",
    "# Please check this page for more information: \n",
    "# https://docs.scipy.org/doc/scipy/reference/generated/scipy.stats.norm.html"
   ]
  },
  {
   "cell_type": "markdown",
   "id": "7ae6e7e9",
   "metadata": {},
   "source": [
    "### 3a) (1 point)\n",
    "To visualize the distribution of the data plot a histogram and add a smooth curve obtained using a kernel density estimate (KDE) to the histogram.\n",
    "\n",
    "Hint: you can use sns.histplot for this"
   ]
  },
  {
   "cell_type": "code",
   "execution_count": 45,
   "id": "f72524c6",
   "metadata": {
    "nbgrader": {
     "grade": true,
     "grade_id": "cell-b705817b0aa8fe76",
     "locked": false,
     "points": 0,
     "schema_version": 3,
     "solution": true,
     "task": false
    }
   },
   "outputs": [],
   "source": [
    "n_samples=10000\n",
    "np.random.seed(0)\n",
    "\n",
    "x = ...\n",
    "..."
   ]
  },
  {
   "cell_type": "code",
   "execution_count": null,
   "id": "fcf6f283",
   "metadata": {
    "deletable": false,
    "editable": false
   },
   "outputs": [],
   "source": [
    "grader.check(\"Question 3a\")"
   ]
  },
  {
   "cell_type": "markdown",
   "id": "8215b1f1",
   "metadata": {},
   "source": [
    "### 3b) (1 point, bonus)\n",
    "Calculate the probabilities $\\text{P}(X = 2)$, $\\text{P}(X = 3)$ and $\\text{P}(X = 4)$ and store them in the variables 'p2', 'p3', and 'p4', respectively.\n"
   ]
  },
  {
   "cell_type": "code",
   "execution_count": 51,
   "id": "35d59eff",
   "metadata": {},
   "outputs": [],
   "source": [
    "p2 = ...\n",
    "p3 = ...\n",
    "p4 = ...\n",
    "\n",
    "print('P(X=2)={:.4f} \\nP(X=3)={:.4f} \\nP(X=4)={:.4f}'.format(p2, p3, p4))"
   ]
  },
  {
   "cell_type": "code",
   "execution_count": null,
   "id": "856138ad",
   "metadata": {
    "deletable": false,
    "editable": false
   },
   "outputs": [],
   "source": [
    "grader.check(\"Question 3b\")"
   ]
  },
  {
   "cell_type": "markdown",
   "id": "2988e343",
   "metadata": {},
   "source": [
    "### 3c) (1 point)\n",
    "Calculate the probabilities $\\text{P}(X \\leq 2)$, $\\text{P}(2 < X \\leq 3)$ and $\\text{P}(X \\geq 4)$ and store them in the variables 'p_le2', 'p_gr2_le3', and 'p_gr4', respectively.\n"
   ]
  },
  {
   "cell_type": "code",
   "execution_count": 53,
   "id": "11c31c93",
   "metadata": {},
   "outputs": [],
   "source": [
    "p_le2 = ...\n",
    "p_gr2_le3 = ...\n",
    "p_gr4 = ...\n",
    "\n",
    "print('P(X<=2)={:.4f}\\nP(2<X<=3)={:.4f}\\nP(X>=4)={:.4f}'.format(p_le2, p_gr2_le3, p_gr4))"
   ]
  },
  {
   "cell_type": "code",
   "execution_count": null,
   "id": "7fbe918d",
   "metadata": {
    "deletable": false,
    "editable": false
   },
   "outputs": [],
   "source": [
    "grader.check(\"Question 3c\")"
   ]
  },
  {
   "cell_type": "markdown",
   "id": "8ed372ea",
   "metadata": {},
   "source": [
    "Do the probabilities $\\text{P}(X \\leq 2)$ and $\\text{P}(X \\geq 4)$ have the same value? What is the reason for your answer?"
   ]
  },
  {
   "cell_type": "markdown",
   "id": "7ee74193",
   "metadata": {},
   "source": [
    "Your answer:"
   ]
  },
  {
   "cell_type": "markdown",
   "id": "4a0efb25",
   "metadata": {},
   "source": []
  },
  {
   "cell_type": "markdown",
   "id": "c38a6eda",
   "metadata": {},
   "source": [
    "### 3d) (1 point)\n",
    "\n",
    "Calculate the mean, standard deviation, and median of the samples generated in the variable 'x' and store them in the variables 'mean', 'std' and 'median' respectively."
   ]
  },
  {
   "cell_type": "code",
   "execution_count": 55,
   "id": "32efc723",
   "metadata": {},
   "outputs": [],
   "source": [
    "mean = ...\n",
    "std = ...\n",
    "median = ...\n",
    "\n",
    "print('Mean={:.4f} \\nStd={:.4f} \\nMedian={:.4f}'.format(mean, std, median))"
   ]
  },
  {
   "cell_type": "code",
   "execution_count": null,
   "id": "95407ead",
   "metadata": {
    "deletable": false,
    "editable": false
   },
   "outputs": [],
   "source": [
    "grader.check(\"Question 3d\")"
   ]
  },
  {
   "cell_type": "markdown",
   "id": "b52e480d",
   "metadata": {},
   "source": [
    "Are the mean and the standard deviation close to the $\\mu$ and $\\sigma$? How about the median? Why?"
   ]
  },
  {
   "cell_type": "markdown",
   "id": "60961c8a",
   "metadata": {},
   "source": [
    "Your answer:"
   ]
  },
  {
   "cell_type": "markdown",
   "id": "9e64134a",
   "metadata": {},
   "source": []
  },
  {
   "cell_type": "markdown",
   "id": "86d02500",
   "metadata": {
    "deletable": false,
    "editable": false
   },
   "source": [
    "---\n",
    "\n",
    "To double-check your work, the cell below will rerun all of the autograder tests."
   ]
  },
  {
   "cell_type": "code",
   "execution_count": null,
   "id": "fb5aa1f3",
   "metadata": {
    "deletable": false,
    "editable": false
   },
   "outputs": [],
   "source": [
    "grader.check_all()"
   ]
  }
 ],
 "metadata": {
  "celltoolbar": "Create Assignment",
  "kernelspec": {
   "display_name": "Python 3 (ipykernel)",
   "language": "python",
   "name": "python3"
  },
  "language_info": {
   "codemirror_mode": {
    "name": "ipython",
    "version": 3
   },
   "file_extension": ".py",
   "mimetype": "text/x-python",
   "name": "python",
   "nbconvert_exporter": "python",
   "pygments_lexer": "ipython3",
   "version": "3.9.13"
  },
  "vscode": {
   "interpreter": {
    "hash": "913bf538e0268f95f9c968c6389b7e7d4c9127ecd5fa78580616ce9989c49c5f"
   }
  }
 },
 "nbformat": 4,
 "nbformat_minor": 5
}
