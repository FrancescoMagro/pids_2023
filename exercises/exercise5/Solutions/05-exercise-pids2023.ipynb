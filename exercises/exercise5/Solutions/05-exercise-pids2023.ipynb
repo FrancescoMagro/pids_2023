{
 "cells": [
  {
   "cell_type": "code",
   "execution_count": 1,
   "id": "653d58d8",
   "metadata": {},
   "outputs": [
    {
     "name": "stdout",
     "output_type": "stream",
     "text": [
      "Requirement already satisfied: nose in /home/debarn0000/anaconda3/lib/python3.9/site-packages (1.3.7)\n",
      "Requirement already satisfied: otter-grader in /home/debarn0000/anaconda3/lib/python3.9/site-packages (4.3.1)\n",
      "Requirement already satisfied: requests in /home/debarn0000/anaconda3/lib/python3.9/site-packages (from otter-grader) (2.28.1)\n",
      "Requirement already satisfied: PyYAML in /home/debarn0000/anaconda3/lib/python3.9/site-packages (from otter-grader) (6.0)\n",
      "Requirement already satisfied: click in /home/debarn0000/anaconda3/lib/python3.9/site-packages (from otter-grader) (8.0.4)\n",
      "Requirement already satisfied: pandas in /home/debarn0000/anaconda3/lib/python3.9/site-packages (from otter-grader) (1.5.2)\n",
      "Requirement already satisfied: nbformat in /home/debarn0000/anaconda3/lib/python3.9/site-packages (from otter-grader) (5.7.0)\n",
      "Requirement already satisfied: jinja2 in /home/debarn0000/anaconda3/lib/python3.9/site-packages (from otter-grader) (3.1.2)\n",
      "Requirement already satisfied: python-on-whales in /home/debarn0000/anaconda3/lib/python3.9/site-packages (from otter-grader) (0.58.0)\n",
      "Requirement already satisfied: google-auth-oauthlib in /home/debarn0000/anaconda3/lib/python3.9/site-packages (from otter-grader) (0.4.4)\n",
      "Requirement already satisfied: jupytext in /home/debarn0000/anaconda3/lib/python3.9/site-packages (from otter-grader) (1.14.4)\n",
      "Requirement already satisfied: six in /home/debarn0000/anaconda3/lib/python3.9/site-packages (from otter-grader) (1.16.0)\n",
      "Requirement already satisfied: fica>=0.2.0 in /home/debarn0000/anaconda3/lib/python3.9/site-packages (from otter-grader) (0.2.2)\n",
      "Requirement already satisfied: dill in /home/debarn0000/anaconda3/lib/python3.9/site-packages (from otter-grader) (0.3.6)\n",
      "Requirement already satisfied: wrapt in /home/debarn0000/anaconda3/lib/python3.9/site-packages (from otter-grader) (1.14.1)\n",
      "Requirement already satisfied: google-api-python-client in /home/debarn0000/anaconda3/lib/python3.9/site-packages (from otter-grader) (2.78.0)\n",
      "Requirement already satisfied: ipython in /home/debarn0000/anaconda3/lib/python3.9/site-packages (from otter-grader) (8.10.0)\n",
      "Requirement already satisfied: sphinx in /home/debarn0000/anaconda3/lib/python3.9/site-packages (from fica>=0.2.0->otter-grader) (4.5.0)\n",
      "Requirement already satisfied: docutils in /home/debarn0000/anaconda3/lib/python3.9/site-packages (from fica>=0.2.0->otter-grader) (0.17.1)\n",
      "Requirement already satisfied: google-auth<3.0.0dev,>=1.19.0 in /home/debarn0000/anaconda3/lib/python3.9/site-packages (from google-api-python-client->otter-grader) (2.16.1)\n",
      "Requirement already satisfied: uritemplate<5,>=3.0.1 in /home/debarn0000/anaconda3/lib/python3.9/site-packages (from google-api-python-client->otter-grader) (4.1.1)\n",
      "Requirement already satisfied: google-auth-httplib2>=0.1.0 in /home/debarn0000/anaconda3/lib/python3.9/site-packages (from google-api-python-client->otter-grader) (0.1.0)\n",
      "Requirement already satisfied: google-api-core!=2.0.*,!=2.1.*,!=2.2.*,!=2.3.0,<3.0.0dev,>=1.31.5 in /home/debarn0000/anaconda3/lib/python3.9/site-packages (from google-api-python-client->otter-grader) (2.11.0)\n",
      "Requirement already satisfied: httplib2<1dev,>=0.15.0 in /home/debarn0000/anaconda3/lib/python3.9/site-packages (from google-api-python-client->otter-grader) (0.21.0)\n",
      "Requirement already satisfied: requests-oauthlib>=0.7.0 in /home/debarn0000/anaconda3/lib/python3.9/site-packages (from google-auth-oauthlib->otter-grader) (1.3.0)\n",
      "Requirement already satisfied: traitlets>=5 in /home/debarn0000/anaconda3/lib/python3.9/site-packages (from ipython->otter-grader) (5.7.1)\n",
      "Requirement already satisfied: backcall in /home/debarn0000/anaconda3/lib/python3.9/site-packages (from ipython->otter-grader) (0.2.0)\n",
      "Requirement already satisfied: stack-data in /home/debarn0000/anaconda3/lib/python3.9/site-packages (from ipython->otter-grader) (0.2.0)\n",
      "Requirement already satisfied: matplotlib-inline in /home/debarn0000/anaconda3/lib/python3.9/site-packages (from ipython->otter-grader) (0.1.6)\n",
      "Requirement already satisfied: pexpect>4.3 in /home/debarn0000/anaconda3/lib/python3.9/site-packages (from ipython->otter-grader) (4.8.0)\n",
      "Requirement already satisfied: prompt-toolkit<3.1.0,>=3.0.30 in /home/debarn0000/anaconda3/lib/python3.9/site-packages (from ipython->otter-grader) (3.0.36)\n",
      "Requirement already satisfied: pygments>=2.4.0 in /home/debarn0000/anaconda3/lib/python3.9/site-packages (from ipython->otter-grader) (2.11.2)\n",
      "Requirement already satisfied: decorator in /home/debarn0000/anaconda3/lib/python3.9/site-packages (from ipython->otter-grader) (5.1.1)\n",
      "Requirement already satisfied: jedi>=0.16 in /home/debarn0000/anaconda3/lib/python3.9/site-packages (from ipython->otter-grader) (0.17.2)\n",
      "Requirement already satisfied: pickleshare in /home/debarn0000/anaconda3/lib/python3.9/site-packages (from ipython->otter-grader) (0.7.5)\n",
      "Requirement already satisfied: MarkupSafe>=2.0 in /home/debarn0000/anaconda3/lib/python3.9/site-packages (from jinja2->otter-grader) (2.1.1)\n",
      "Requirement already satisfied: markdown-it-py<3.0.0,>=1.0.0 in /home/debarn0000/anaconda3/lib/python3.9/site-packages (from jupytext->otter-grader) (1.1.0)\n",
      "Requirement already satisfied: toml in /home/debarn0000/anaconda3/lib/python3.9/site-packages (from jupytext->otter-grader) (0.10.2)\n",
      "Requirement already satisfied: mdit-py-plugins in /home/debarn0000/anaconda3/lib/python3.9/site-packages (from jupytext->otter-grader) (0.2.8)\n",
      "Requirement already satisfied: jupyter-core in /home/debarn0000/anaconda3/lib/python3.9/site-packages (from nbformat->otter-grader) (5.2.0)\n",
      "Requirement already satisfied: jsonschema>=2.6 in /home/debarn0000/anaconda3/lib/python3.9/site-packages (from nbformat->otter-grader) (4.17.3)\n",
      "Requirement already satisfied: fastjsonschema in /home/debarn0000/anaconda3/lib/python3.9/site-packages (from nbformat->otter-grader) (2.16.2)\n",
      "Requirement already satisfied: python-dateutil>=2.8.1 in /home/debarn0000/anaconda3/lib/python3.9/site-packages (from pandas->otter-grader) (2.8.2)\n",
      "Requirement already satisfied: pytz>=2020.1 in /home/debarn0000/anaconda3/lib/python3.9/site-packages (from pandas->otter-grader) (2022.7)\n",
      "Requirement already satisfied: numpy>=1.20.3 in /home/debarn0000/anaconda3/lib/python3.9/site-packages (from pandas->otter-grader) (1.21.5)\n",
      "Requirement already satisfied: typing-extensions in /home/debarn0000/anaconda3/lib/python3.9/site-packages (from python-on-whales->otter-grader) (4.4.0)\n",
      "Requirement already satisfied: tqdm in /home/debarn0000/anaconda3/lib/python3.9/site-packages (from python-on-whales->otter-grader) (4.64.1)\n",
      "Requirement already satisfied: typer>=0.4.1 in /home/debarn0000/anaconda3/lib/python3.9/site-packages (from python-on-whales->otter-grader) (0.7.0)\n",
      "Requirement already satisfied: pydantic>=1.5 in /home/debarn0000/anaconda3/lib/python3.9/site-packages (from python-on-whales->otter-grader) (1.10.5)\n",
      "Requirement already satisfied: certifi>=2017.4.17 in /home/debarn0000/anaconda3/lib/python3.9/site-packages (from requests->otter-grader) (2022.12.7)\n",
      "Requirement already satisfied: urllib3<1.27,>=1.21.1 in /home/debarn0000/anaconda3/lib/python3.9/site-packages (from requests->otter-grader) (1.26.14)\n",
      "Requirement already satisfied: idna<4,>=2.5 in /home/debarn0000/anaconda3/lib/python3.9/site-packages (from requests->otter-grader) (3.4)\n",
      "Requirement already satisfied: charset-normalizer<3,>=2 in /home/debarn0000/anaconda3/lib/python3.9/site-packages (from requests->otter-grader) (2.0.4)\n",
      "Requirement already satisfied: googleapis-common-protos<2.0dev,>=1.56.2 in /home/debarn0000/anaconda3/lib/python3.9/site-packages (from google-api-core!=2.0.*,!=2.1.*,!=2.2.*,!=2.3.0,<3.0.0dev,>=1.31.5->google-api-python-client->otter-grader) (1.58.0)\n",
      "Requirement already satisfied: protobuf!=3.20.0,!=3.20.1,!=4.21.0,!=4.21.1,!=4.21.2,!=4.21.3,!=4.21.4,!=4.21.5,<5.0.0dev,>=3.19.5 in /home/debarn0000/anaconda3/lib/python3.9/site-packages (from google-api-core!=2.0.*,!=2.1.*,!=2.2.*,!=2.3.0,<3.0.0dev,>=1.31.5->google-api-python-client->otter-grader) (4.22.0)\n",
      "Requirement already satisfied: pyasn1-modules>=0.2.1 in /home/debarn0000/anaconda3/lib/python3.9/site-packages (from google-auth<3.0.0dev,>=1.19.0->google-api-python-client->otter-grader) (0.2.8)\n",
      "Requirement already satisfied: cachetools<6.0,>=2.0.0 in /home/debarn0000/anaconda3/lib/python3.9/site-packages (from google-auth<3.0.0dev,>=1.19.0->google-api-python-client->otter-grader) (4.2.2)\n",
      "Requirement already satisfied: rsa<5,>=3.1.4 in /home/debarn0000/anaconda3/lib/python3.9/site-packages (from google-auth<3.0.0dev,>=1.19.0->google-api-python-client->otter-grader) (4.7.2)\n",
      "Requirement already satisfied: pyparsing!=3.0.0,!=3.0.1,!=3.0.2,!=3.0.3,<4,>=2.4.2 in /home/debarn0000/anaconda3/lib/python3.9/site-packages (from httplib2<1dev,>=0.15.0->google-api-python-client->otter-grader) (3.0.9)\n",
      "Requirement already satisfied: parso<0.8.0,>=0.7.0 in /home/debarn0000/anaconda3/lib/python3.9/site-packages (from jedi>=0.16->ipython->otter-grader) (0.7.0)\n"
     ]
    },
    {
     "name": "stdout",
     "output_type": "stream",
     "text": [
      "Requirement already satisfied: attrs>=17.4.0 in /home/debarn0000/anaconda3/lib/python3.9/site-packages (from jsonschema>=2.6->nbformat->otter-grader) (21.4.0)\n",
      "Requirement already satisfied: pyrsistent!=0.17.0,!=0.17.1,!=0.17.2,>=0.14.0 in /home/debarn0000/anaconda3/lib/python3.9/site-packages (from jsonschema>=2.6->nbformat->otter-grader) (0.18.0)\n",
      "Requirement already satisfied: ptyprocess>=0.5 in /home/debarn0000/anaconda3/lib/python3.9/site-packages (from pexpect>4.3->ipython->otter-grader) (0.7.0)\n",
      "Requirement already satisfied: wcwidth in /home/debarn0000/anaconda3/lib/python3.9/site-packages (from prompt-toolkit<3.1.0,>=3.0.30->ipython->otter-grader) (0.2.5)\n",
      "Requirement already satisfied: oauthlib>=3.0.0 in /home/debarn0000/anaconda3/lib/python3.9/site-packages (from requests-oauthlib>=0.7.0->google-auth-oauthlib->otter-grader) (3.2.1)\n",
      "Requirement already satisfied: platformdirs>=2.5 in /home/debarn0000/anaconda3/lib/python3.9/site-packages (from jupyter-core->nbformat->otter-grader) (2.5.2)\n",
      "Requirement already satisfied: sphinxcontrib-devhelp in /home/debarn0000/anaconda3/lib/python3.9/site-packages (from sphinx->fica>=0.2.0->otter-grader) (1.0.2)\n",
      "Requirement already satisfied: babel>=1.3 in /home/debarn0000/anaconda3/lib/python3.9/site-packages (from sphinx->fica>=0.2.0->otter-grader) (2.11.0)\n",
      "Requirement already satisfied: alabaster<0.8,>=0.7 in /home/debarn0000/anaconda3/lib/python3.9/site-packages (from sphinx->fica>=0.2.0->otter-grader) (0.7.12)\n",
      "Requirement already satisfied: sphinxcontrib-htmlhelp>=2.0.0 in /home/debarn0000/anaconda3/lib/python3.9/site-packages (from sphinx->fica>=0.2.0->otter-grader) (2.0.0)\n",
      "Requirement already satisfied: sphinxcontrib-jsmath in /home/debarn0000/anaconda3/lib/python3.9/site-packages (from sphinx->fica>=0.2.0->otter-grader) (1.0.1)\n",
      "Requirement already satisfied: imagesize in /home/debarn0000/anaconda3/lib/python3.9/site-packages (from sphinx->fica>=0.2.0->otter-grader) (1.4.1)\n",
      "Requirement already satisfied: sphinxcontrib-applehelp in /home/debarn0000/anaconda3/lib/python3.9/site-packages (from sphinx->fica>=0.2.0->otter-grader) (1.0.2)\n",
      "Requirement already satisfied: sphinxcontrib-qthelp in /home/debarn0000/anaconda3/lib/python3.9/site-packages (from sphinx->fica>=0.2.0->otter-grader) (1.0.3)\n",
      "Requirement already satisfied: sphinxcontrib-serializinghtml>=1.1.5 in /home/debarn0000/anaconda3/lib/python3.9/site-packages (from sphinx->fica>=0.2.0->otter-grader) (1.1.5)\n",
      "Requirement already satisfied: importlib-metadata>=4.4 in /home/debarn0000/anaconda3/lib/python3.9/site-packages (from sphinx->fica>=0.2.0->otter-grader) (4.11.3)\n",
      "Requirement already satisfied: snowballstemmer>=1.1 in /home/debarn0000/anaconda3/lib/python3.9/site-packages (from sphinx->fica>=0.2.0->otter-grader) (2.2.0)\n",
      "Requirement already satisfied: packaging in /home/debarn0000/anaconda3/lib/python3.9/site-packages (from sphinx->fica>=0.2.0->otter-grader) (22.0)\n",
      "Requirement already satisfied: pure-eval in /home/debarn0000/anaconda3/lib/python3.9/site-packages (from stack-data->ipython->otter-grader) (0.2.2)\n",
      "Requirement already satisfied: asttokens in /home/debarn0000/anaconda3/lib/python3.9/site-packages (from stack-data->ipython->otter-grader) (2.0.5)\n",
      "Requirement already satisfied: executing in /home/debarn0000/anaconda3/lib/python3.9/site-packages (from stack-data->ipython->otter-grader) (0.8.3)\n",
      "Requirement already satisfied: zipp>=0.5 in /home/debarn0000/anaconda3/lib/python3.9/site-packages (from importlib-metadata>=4.4->sphinx->fica>=0.2.0->otter-grader) (3.11.0)\n",
      "Requirement already satisfied: pyasn1<0.5.0,>=0.4.6 in /home/debarn0000/anaconda3/lib/python3.9/site-packages (from pyasn1-modules>=0.2.1->google-auth<3.0.0dev,>=1.19.0->google-api-python-client->otter-grader) (0.4.8)\n",
      "Requirement already satisfied: seaborn in /home/debarn0000/anaconda3/lib/python3.9/site-packages (0.12.2)\n",
      "Requirement already satisfied: numpy!=1.24.0,>=1.17 in /home/debarn0000/anaconda3/lib/python3.9/site-packages (from seaborn) (1.21.5)\n",
      "Requirement already satisfied: matplotlib!=3.6.1,>=3.1 in /home/debarn0000/anaconda3/lib/python3.9/site-packages (from seaborn) (3.6.2)\n",
      "Requirement already satisfied: pandas>=0.25 in /home/debarn0000/anaconda3/lib/python3.9/site-packages (from seaborn) (1.5.2)\n",
      "Requirement already satisfied: cycler>=0.10 in /home/debarn0000/anaconda3/lib/python3.9/site-packages (from matplotlib!=3.6.1,>=3.1->seaborn) (0.11.0)\n",
      "Requirement already satisfied: contourpy>=1.0.1 in /home/debarn0000/anaconda3/lib/python3.9/site-packages (from matplotlib!=3.6.1,>=3.1->seaborn) (1.0.5)\n",
      "Requirement already satisfied: pillow>=6.2.0 in /home/debarn0000/anaconda3/lib/python3.9/site-packages (from matplotlib!=3.6.1,>=3.1->seaborn) (9.2.0)\n",
      "Requirement already satisfied: fonttools>=4.22.0 in /home/debarn0000/anaconda3/lib/python3.9/site-packages (from matplotlib!=3.6.1,>=3.1->seaborn) (4.25.0)\n",
      "Requirement already satisfied: packaging>=20.0 in /home/debarn0000/anaconda3/lib/python3.9/site-packages (from matplotlib!=3.6.1,>=3.1->seaborn) (22.0)\n",
      "Requirement already satisfied: pyparsing>=2.2.1 in /home/debarn0000/anaconda3/lib/python3.9/site-packages (from matplotlib!=3.6.1,>=3.1->seaborn) (3.0.9)\n",
      "Requirement already satisfied: python-dateutil>=2.7 in /home/debarn0000/anaconda3/lib/python3.9/site-packages (from matplotlib!=3.6.1,>=3.1->seaborn) (2.8.2)\n",
      "Requirement already satisfied: kiwisolver>=1.0.1 in /home/debarn0000/anaconda3/lib/python3.9/site-packages (from matplotlib!=3.6.1,>=3.1->seaborn) (1.4.4)\n",
      "Requirement already satisfied: pytz>=2020.1 in /home/debarn0000/anaconda3/lib/python3.9/site-packages (from pandas>=0.25->seaborn) (2022.7)\n",
      "Requirement already satisfied: six>=1.5 in /home/debarn0000/anaconda3/lib/python3.9/site-packages (from python-dateutil>=2.7->matplotlib!=3.6.1,>=3.1->seaborn) (1.16.0)\n"
     ]
    }
   ],
   "source": [
    "import sys\n",
    "!{sys.executable} -m pip install nose\n",
    "!{sys.executable} -m pip install otter-grader\n",
    "!{sys.executable} -m pip install seaborn"
   ]
  },
  {
   "cell_type": "code",
   "execution_count": 2,
   "id": "3317ac70",
   "metadata": {},
   "outputs": [],
   "source": [
    "# Initialize Otter\n",
    "import otter\n",
    "grader = otter.Notebook(\"05-exercise-pids2023.ipynb\")"
   ]
  },
  {
   "cell_type": "markdown",
   "id": "db527abe",
   "metadata": {
    "nbgrader": {
     "grade": false,
     "grade_id": "cell-7274cf8cc984024a",
     "locked": true,
     "schema_version": 3,
     "solution": false,
     "task": false
    }
   },
   "source": [
    "```\n",
    "BEGIN ASSIGNMENT\n",
    "requirements: requirements.txt\n",
    "init_cell: false\n",
    "export_cell: false\n",
    "template_pdf: false\n",
    "generate:\n",
    "    token: ''\n",
    "    course_id: 62982        # required\n",
    "    assignment_id: 5    # required\n",
    "    filtering: true # true is the default\n",
    "generate:\n",
    "    seed: 42\n",
    "    show_stdout: true\n",
    "    show_hidden: true\n",
    "    show_all_public: true\n",
    "    visibility: visible\n",
    "```"
   ]
  },
  {
   "cell_type": "markdown",
   "id": "48264173",
   "metadata": {
    "nbgrader": {
     "grade": false,
     "grade_id": "cell-1229f81499f5ebea",
     "locked": true,
     "schema_version": 3,
     "solution": false,
     "task": false
    }
   },
   "source": [
    "# Exercise sheet 5\n",
    "**Hello everyone!**\n",
    "\n",
    "# Points: 15 (+2 bonus)\n",
    "\n",
    "Topics of this exercise sheet are:\n",
    "* Working with probability distributions\n",
    "\n",
    "Please let us know if you have questions or problems! <br>\n",
    "Contact us during the exercise session, on [Piazza](https://piazza.com/class/leibdr4lk8n3w4), or [via email](https://sada.dmi.unibas.ch/en/teaching/pids23).\n",
    "\n",
    "Please submit this exercise sheet on **GRADESCOPE**.\n",
    "Naming conventions:\n",
    "* Name of notebook: \"05-exercise-pids2023.ipynb\"\n",
    "\n",
    "Your notebook will be automatically graded using gradescope. To get graded, you need to upload the file *05-exercise-pids2023.ipynb* to gradescope. If you are using JupyterHub, make sure you have saved the current notebook, then you can download this file by following: *File*->*Download* and save the file on you computer.\n",
    "\n",
    "The sheet is released before the exercise session on Tuesday. You have until the next exercise session on Tuesday to submit this sheet. Most of the questions of the exercise sheet can be handle during the session.\n",
    "\n",
    "**Handout date**: 28.03.2023 <br>\n",
    "**Submission date**: 04.04.2023 before 16:00 <br>\n",
    "\n",
    "\n",
    "### Please name the variables as suggested! Be careful with the type! Otherwise the grading system will fail you!"
   ]
  },
  {
   "cell_type": "markdown",
   "id": "0fdf90b6",
   "metadata": {},
   "source": [
    "## Introduction:\n",
    "This exercise is designed to help you become familiar with the fundamental concepts of probability and statistics. To ensure that you have a strong grasp of these concepts, we recommend reading this article:\n",
    "https://towardsdatascience.com/an-in-depth-crash-course-on-random-variables-a3905d03e322"
   ]
  },
  {
   "cell_type": "code",
   "execution_count": 3,
   "id": "685f4fc5",
   "metadata": {
    "nbgrader": {
     "grade": false,
     "grade_id": "cell-87e8c3397dfc076e",
     "locked": true,
     "schema_version": 3,
     "solution": false,
     "task": false
    }
   },
   "outputs": [],
   "source": [
    "import pandas as pd\n",
    "import seaborn as sns\n",
    "import matplotlib.pyplot as plt\n",
    "import numpy as np\n",
    "from scipy import stats\n",
    "from nose.tools import assert_is_instance, assert_equal, assert_almost_equal, assert_true"
   ]
  },
  {
   "cell_type": "markdown",
   "id": "cb13e475",
   "metadata": {
    "nbgrader": {
     "grade": false,
     "grade_id": "cell-7ee686f735cd4d6c",
     "locked": true,
     "schema_version": 3,
     "solution": false,
     "task": false
    }
   },
   "source": [
    "## Question 1 (6 points + 1 bonus)\n",
    "\n",
    "### Binomial distribution:\n",
    "The binomial distribution with parameters $n$ and $p$ is a class of the discrete probability distributions of <b> the number of successes in a sequence of $n$ independent experiments, </b> each asking a yes–no question, and each with its own Boolean-valued outcome: success (with probability $p$) or failure (with probability $1 − p$). Let $X$ denote a random variable with binomial distribution. The probability of having $x$ times a success in $n$ trials, is:\n",
    "$$\n",
    "    p(x) = \\binom{n}{x}p^x (1-p)^{n-x} \n",
    "$$"
   ]
  },
  {
   "cell_type": "code",
   "execution_count": 4,
   "id": "b4c9d15d",
   "metadata": {
    "nbgrader": {
     "grade": false,
     "grade_id": "cell-cae8e70374ab5e6d",
     "locked": true,
     "schema_version": 3,
     "solution": false,
     "task": false
    }
   },
   "outputs": [],
   "source": [
    "n = 20 # The total number of trials\n",
    "p = 0.5 # The probability of success in each trial\n",
    "X = stats.binom(n, p)\n",
    "# Please check this page for more information: \n",
    "# https://docs.scipy.org/doc/scipy-0.13.0/reference/generated/scipy.stats.binom.html#scipy.stats.binom"
   ]
  },
  {
   "cell_type": "markdown",
   "id": "17cc4458",
   "metadata": {
    "nbgrader": {
     "grade": false,
     "grade_id": "cell-f30ccb790dff9fe2",
     "locked": true,
     "schema_version": 3,
     "solution": false,
     "task": false
    }
   },
   "source": [
    "### 1a) (2 points)\n",
    "Make a visual representation of the binomial distribution.\n",
    "To do that, generate 10,000 independent realizations of the random variable $X$. These 10,000 samples will be distributed as a binomial distribution with parameters $p=0.5$ and $n=20$. \n",
    "**Save the samples in a variable named 'x'**.\n",
    "\n",
    "In other words, this is equivalent to reproduce 10,000 independent experiments, where each experiment consists of flipping 20 coins and counting the number of times it hit 'tails' or 'heads'.\n",
    "\n",
    "Plot a histogram of the generated samples.\n",
    "\n",
    "Hint: You can use \"X.rvs(...)\" to generate independent samples from the random variable $X$."
   ]
  },
  {
   "cell_type": "markdown",
   "id": "0964abac",
   "metadata": {
    "nbgrader": {
     "grade": false,
     "grade_id": "cell-4bd1225e599adaed",
     "locked": true,
     "schema_version": 3,
     "solution": false,
     "task": false
    }
   },
   "source": [
    "```\n",
    "BEGIN QUESTION\n",
    "name: Question 1a      # (required) the path to a requirements.txt file\n",
    "manual: false     # whether this is a manually-graded question\n",
    "points: 2      # how many points this question is worth; defaults to 1 internally\n",
    "check_cell: true  # whether to include a check cell after this question (for autograded questions only)\n",
    "```"
   ]
  },
  {
   "cell_type": "code",
   "execution_count": 5,
   "id": "ad4c4a01",
   "metadata": {
    "nbgrader": {
     "grade": false,
     "grade_id": "cell-67e48526cb3d882c",
     "locked": false,
     "schema_version": 3,
     "solution": true,
     "task": false
    }
   },
   "outputs": [
    {
     "data": {
      "text/plain": [
       "<AxesSubplot: ylabel='Count'>"
      ]
     },
     "execution_count": 5,
     "metadata": {},
     "output_type": "execute_result"
    },
    {
     "data": {
      "image/png": "[encoded data removed]",
      "text/plain": [
       "<Figure size 640x480 with 1 Axes>"
      ]
     },
     "metadata": {},
     "output_type": "display_data"
    }
   ],
   "source": [
    "n_samples=10000\n",
    "np.random.seed(0)\n",
    "\n",
    "x = X.rvs(n_samples) # SOLUTION \n",
    "# BEGIN SOLUTION\n",
    "sns.histplot(x)\n",
    "# END SOLUTION"
   ]
  },
  {
   "cell_type": "code",
   "execution_count": 6,
   "id": "19ccef8a",
   "metadata": {
    "nbgrader": {
     "grade": true,
     "grade_id": "cell-424c1572d1adec05",
     "locked": true,
     "points": 2,
     "schema_version": 3,
     "solution": false,
     "task": false
    }
   },
   "outputs": [],
   "source": [
    "## test ##\n",
    "assert_equal(len(x), n_samples)\n",
    "assert_almost_equal(x.mean(), 9.968 , places=2)\n",
    "assert_almost_equal(x.std() , 2.249 , places=2)"
   ]
  },
  {
   "cell_type": "markdown",
   "id": "3727997c",
   "metadata": {
    "nbgrader": {
     "grade": false,
     "grade_id": "cell-3d9402382f967adc",
     "locked": true,
     "schema_version": 3,
     "solution": false,
     "task": false
    }
   },
   "source": [
    "### 1b (1 point)\n",
    "Calculate the probabilities $\\text{P}(X = 8)$, $\\text{P}(X = 10)$ and $\\text{P}(X = 12)$ and store them in the variables 'p8', 'p10', and 'p12', respectively.\n",
    "\n",
    "Hint: Use X.pmf()"
   ]
  },
  {
   "cell_type": "markdown",
   "id": "080954d9",
   "metadata": {
    "nbgrader": {
     "grade": false,
     "grade_id": "cell-91315eb4316eeda4",
     "locked": true,
     "schema_version": 3,
     "solution": false,
     "task": false
    }
   },
   "source": [
    "```\n",
    "BEGIN QUESTION\n",
    "name: Question 1b      # (required) the path to a requirements.txt file\n",
    "manual: false     # whether this is a manually-graded question\n",
    "points: 1      # how many points this question is worth; defaults to 1 internally\n",
    "check_cell: true  # whether to include a check cell after this question (for autograded questions only)\n",
    "```"
   ]
  },
  {
   "cell_type": "code",
   "execution_count": 7,
   "id": "c4ecf36a",
   "metadata": {
    "nbgrader": {
     "grade": false,
     "grade_id": "cell-8c8767ce075ccffb",
     "locked": false,
     "schema_version": 3,
     "solution": true,
     "task": false
    }
   },
   "outputs": [
    {
     "name": "stdout",
     "output_type": "stream",
     "text": [
      "P(X=8)=0.1201 \n",
      "P(X=10)=0.1762 \n",
      "P(X=12)=0.1201\n"
     ]
    }
   ],
   "source": [
    "p8 = X.pmf(8) # SOLUTION\n",
    "p10 = X.pmf(10) # SOLUTION\n",
    "p12 = X.pmf(12) # SOLUTION\n",
    "print('P(X=8)={:.4f} \\nP(X=10)={:.4f} \\nP(X=12)={:.4f}'.format(p8, p10, p12))"
   ]
  },
  {
   "cell_type": "code",
   "execution_count": 8,
   "id": "1340651f",
   "metadata": {
    "nbgrader": {
     "grade": true,
     "grade_id": "cell-8dae05d4d8a340bd",
     "locked": true,
     "points": 1,
     "schema_version": 3,
     "solution": false,
     "task": false
    }
   },
   "outputs": [],
   "source": [
    "## test ##\n",
    "assert_almost_equal((p8 - p12)/p10, 0)\n",
    "assert_almost_equal((p10*p12)+p8, 0.141 , places=2)"
   ]
  },
  {
   "cell_type": "markdown",
   "id": "fa9e5887",
   "metadata": {},
   "source": [
    "Which point has the highest probability? Why?"
   ]
  },
  {
   "cell_type": "markdown",
   "id": "a1766883",
   "metadata": {},
   "source": [
    "Your answer:\n"
   ]
  },
  {
   "cell_type": "markdown",
   "id": "dd5fd27c",
   "metadata": {
    "nbgrader": {
     "grade": false,
     "grade_id": "cell-535e41a827712440",
     "locked": true,
     "schema_version": 3,
     "solution": false,
     "task": false
    }
   },
   "source": [
    "### 1c (1 point bonus)\n",
    "Calculate the probabilities $\\text{P}(X \\leq 8)$, $\\text{P}(X \\leq 10)$, $\\text{P}(X \\leq 12)$ and $\\text{P}(X \\leq 20)$ and store them in the variables 'p_le8', 'p_le10', 'p_le12' and 'p_le20' respectively.\n",
    "\n",
    "Hint: Use X.cdf()"
   ]
  },
  {
   "cell_type": "markdown",
   "id": "2a0947ac",
   "metadata": {
    "nbgrader": {
     "grade": false,
     "grade_id": "cell-0c9bc8bd4e18334d",
     "locked": true,
     "schema_version": 3,
     "solution": false,
     "task": false
    }
   },
   "source": [
    "```\n",
    "BEGIN QUESTION\n",
    "name: Question 1c      # (required) the path to a requirements.txt file\n",
    "manual: false     # whether this is a manually-graded question\n",
    "points: 1      # how many points this question is worth; defaults to 1 internally\n",
    "check_cell: true  # whether to include a check cell after this question (for autograded questions only)\n",
    "```"
   ]
  },
  {
   "cell_type": "code",
   "execution_count": 9,
   "id": "aa644d7a",
   "metadata": {
    "nbgrader": {
     "grade": false,
     "grade_id": "cell-73833e6a3bef14f2",
     "locked": false,
     "schema_version": 3,
     "solution": true,
     "task": false
    }
   },
   "outputs": [
    {
     "name": "stdout",
     "output_type": "stream",
     "text": [
      "P(X<=8)=0.2517\n",
      "P(X<=10)=0.5881\n",
      "P(X<=12)=0.8684\n",
      "P(X<=20)=1.0000\n"
     ]
    }
   ],
   "source": [
    "p_le8 = X.cdf(8) # SOLUTION\n",
    "p_le10 = X.cdf(10) # SOLUTION\n",
    "p_le12 = X.cdf(12) # SOLUTION\n",
    "p_le20 = X.cdf(20) # SOLUTION\n",
    "\n",
    "print('P(X<=8)={:.4f}\\nP(X<=10)={:.4f}\\nP(X<=12)={:.4f}\\nP(X<=20)={:.4f}'.format(p_le8, p_le10, p_le12,p_le20))"
   ]
  },
  {
   "cell_type": "code",
   "execution_count": 10,
   "id": "db1ee3c1",
   "metadata": {
    "nbgrader": {
     "grade": true,
     "grade_id": "cell-e333f63dd1f2318a",
     "locked": true,
     "points": 0,
     "schema_version": 3,
     "solution": false,
     "task": false
    }
   },
   "outputs": [],
   "source": [
    "## test ##\n",
    "assert_almost_equal(p_le10 - p_le8, 0.336 , places=2)\n",
    "assert_almost_equal((p_le12 - p_le20)/p_le8 , -0.522 , places=2)"
   ]
  },
  {
   "cell_type": "markdown",
   "id": "dd4a1fa7",
   "metadata": {},
   "source": [
    "Is there an increasing trend apparent in calculated probabilities? Also, can you explain why $\\text{P}(X \\leq 20)$ has the highest value of 1? "
   ]
  },
  {
   "cell_type": "markdown",
   "id": "04cba251",
   "metadata": {},
   "source": [
    "Your answer:"
   ]
  },
  {
   "cell_type": "markdown",
   "id": "256e32a7",
   "metadata": {},
   "source": []
  },
  {
   "cell_type": "markdown",
   "id": "8ab1695d",
   "metadata": {
    "nbgrader": {
     "grade": false,
     "grade_id": "cell-631f01b5f3a50947",
     "locked": true,
     "schema_version": 3,
     "solution": false,
     "task": false
    }
   },
   "source": [
    "### 1d) (2 points)\n",
    "Calculate the mean, standard deviation, and median of the samples generated in the variable 'x' (question 1,a) and store them in the variables 'mean', 'std' and 'median' respectively.\n",
    "\n",
    "Hint: use numpy package!"
   ]
  },
  {
   "cell_type": "markdown",
   "id": "7ec25976",
   "metadata": {
    "nbgrader": {
     "grade": false,
     "grade_id": "cell-0f50fbf5f0d26281",
     "locked": true,
     "schema_version": 3,
     "solution": false,
     "task": false
    }
   },
   "source": [
    "```\n",
    "BEGIN QUESTION\n",
    "name: Question 1d      # (required) the path to a requirements.txt file\n",
    "manual: false     # whether this is a manually-graded question\n",
    "points: 2      # how many points this question is worth; defaults to 1 internally\n",
    "check_cell: true  # whether to include a check cell after this question (for autograded questions only)\n",
    "```"
   ]
  },
  {
   "cell_type": "code",
   "execution_count": 11,
   "id": "11c7e436",
   "metadata": {
    "nbgrader": {
     "grade": false,
     "grade_id": "cell-36f40a02cef87b84",
     "locked": false,
     "schema_version": 3,
     "solution": true,
     "task": false
    }
   },
   "outputs": [
    {
     "name": "stdout",
     "output_type": "stream",
     "text": [
      "Mean=9.9682 \n",
      "Std=2.2495 \n",
      "Median=10.0000\n"
     ]
    }
   ],
   "source": [
    "mean = np.mean(x) # SOLUTION\n",
    "std = np.std(x) # SOLUTION\n",
    "median = np.median(x) # SOLUTION\n",
    "\n",
    "print('Mean={:.4f} \\nStd={:.4f} \\nMedian={:.4f}'.format(mean, std, median))"
   ]
  },
  {
   "cell_type": "code",
   "execution_count": 12,
   "id": "ef8898d5",
   "metadata": {
    "nbgrader": {
     "grade": true,
     "grade_id": "cell-4623025f67354f71",
     "locked": true,
     "points": 1,
     "schema_version": 3,
     "solution": false,
     "task": false
    }
   },
   "outputs": [],
   "source": [
    "## test ##\n",
    "assert_almost_equal((mean - std)/median, 0.771 , places=2)\n",
    "assert_almost_equal((mean ** std)+ median, 186.349 , places=2)"
   ]
  },
  {
   "cell_type": "markdown",
   "id": "0fbcd72a",
   "metadata": {},
   "source": [
    "Does the mean value appear to be close to $n \\times p$? Can you explain why we would expect this?"
   ]
  },
  {
   "cell_type": "markdown",
   "id": "9a7a4c2d",
   "metadata": {},
   "source": [
    "Your answer:"
   ]
  },
  {
   "cell_type": "markdown",
   "id": "a5d07d16",
   "metadata": {},
   "source": []
  },
  {
   "cell_type": "markdown",
   "id": "ef85bea2",
   "metadata": {
    "nbgrader": {
     "grade": false,
     "grade_id": "cell-74aa8649cf06473d",
     "locked": true,
     "schema_version": 3,
     "solution": false,
     "task": false
    }
   },
   "source": [
    "## Question 2 (6 points)\n",
    "### Multimodal distributions:\n",
    "We will now consider samples from two different binomial distributions with distinct values of $p$.\n",
    "\n",
    "Let $X_1$ denote a random variable with binomial distribution with parameters $p1=0.2$ and $n=20$.\n",
    "Let $X_2$ denote a random variable with binomial distribution with parameters $p2=0.82$ and $n=20$."
   ]
  },
  {
   "cell_type": "code",
   "execution_count": 13,
   "id": "c6bd2edd",
   "metadata": {},
   "outputs": [],
   "source": [
    "n = 20\n",
    "p1 = 0.2\n",
    "p2 = 0.8\n",
    "X1 = stats.binom(n, p1)\n",
    "X2 = stats.binom(n, p2)"
   ]
  },
  {
   "cell_type": "markdown",
   "id": "671430be",
   "metadata": {},
   "source": [
    "### 2a) (2 points)\n",
    "\n",
    "Generate 5000 random samples from each of the two binomial distributions and store them in the variables 'x1' and 'x2', respectively. Concatenate the samples to create a unified vector 'x12', and plot a histogram of the concatenated samples."
   ]
  },
  {
   "cell_type": "markdown",
   "id": "130323a5",
   "metadata": {
    "nbgrader": {
     "grade": false,
     "grade_id": "cell-a87310bacd77f388",
     "locked": true,
     "schema_version": 3,
     "solution": false,
     "task": false
    }
   },
   "source": [
    "```\n",
    "BEGIN QUESTION\n",
    "name: Question 2a    # (required) the path to a requirements.txt file\n",
    "manual: false     # whether this is a manually-graded question\n",
    "points: 2     # how many points this question is worth; defaults to 1 internally\n",
    "check_cell: true  # whether to include a check cell after this question (for autograded questions only)\n",
    "```"
   ]
  },
  {
   "cell_type": "code",
   "execution_count": 14,
   "id": "ede5e9f4",
   "metadata": {},
   "outputs": [
    {
     "data": {
      "text/plain": [
       "<AxesSubplot: ylabel='Count'>"
      ]
     },
     "execution_count": 14,
     "metadata": {},
     "output_type": "execute_result"
    },
    {
     "data": {
      "image/png": "[encoded data removed]",
      "text/plain": [
       "<Figure size 640x480 with 1 Axes>"
      ]
     },
     "metadata": {},
     "output_type": "display_data"
    }
   ],
   "source": [
    "n_samples=5000\n",
    "np.random.seed(0)\n",
    "\n",
    "\n",
    "x1 = X1.rvs(n_samples) # SOLUTION\n",
    "x2 = X2.rvs(n_samples) # SOLUTION\n",
    "x12 = np.concatenate([x1,x2]) # SOLUTION\n",
    "\n",
    "# BEGIN SOLUTION\n",
    "sns.histplot(x12)\n",
    "# END SOLUTION"
   ]
  },
  {
   "cell_type": "code",
   "execution_count": 15,
   "id": "68c28688",
   "metadata": {},
   "outputs": [],
   "source": [
    "## test ##\n",
    "assert_almost_equal((x1.mean() + x2.mean())/x12.mean(), 2.000 , places=2)"
   ]
  },
  {
   "cell_type": "code",
   "execution_count": 16,
   "id": "427739a6",
   "metadata": {},
   "outputs": [],
   "source": [
    "## test ##\n",
    "assert_almost_equal((x1.mean() - x2.mean())*x12.mean(), -120.670 , places=2)"
   ]
  },
  {
   "cell_type": "markdown",
   "id": "63a1cba7",
   "metadata": {},
   "source": [
    "### 2b) (4 points)\n",
    "\n",
    "Calculate the mean, median, and the first two modes of the concatenated samples in 'x', and store them in the variables 'mean', 'median', 'mode1', and 'mode2', respectively.\n",
    "\n",
    "Hint: You can use np.unique and np.argsort to find the first and the second modes"
   ]
  },
  {
   "cell_type": "markdown",
   "id": "1a3d7838",
   "metadata": {},
   "source": [
    "```\n",
    "BEGIN QUESTION\n",
    "name: Question 2b    # (required) the path to a requirements.txt file\n",
    "manual: false     # whether this is a manually-graded question\n",
    "points: 4     # how many points this question is worth; defaults to 1 internally\n",
    "check_cell: true  # whether to include a check cell after this question (for autograded questions only)\n",
    "```"
   ]
  },
  {
   "cell_type": "code",
   "execution_count": 17,
   "id": "3e320bdd",
   "metadata": {},
   "outputs": [
    {
     "name": "stdout",
     "output_type": "stream",
     "text": [
      "Mean: 10.01 \n",
      "Median: 10.00 \n",
      "First mode: 16.00\n",
      "Second mode: 4.00\n"
     ]
    }
   ],
   "source": [
    "mean = np.mean(x12) # SOLUTION\n",
    "median = np.median(x12) # SOLUTION\n",
    "\n",
    "# BEGIN SOLUTION\n",
    "vals, counts = np.unique(x12, return_counts=True)\n",
    "counts = np.argsort(counts)[::-1]\n",
    "# END SOLUTION\n",
    "\n",
    "mode1 = counts[0] # SOLUTION\n",
    "mode2 = counts[1] # SOLUTION\n",
    "\n",
    "\n",
    "print('Mean: {:.2f} \\nMedian: {:.2f} \\nFirst mode: {:.2f}\\nSecond mode: {:.2f}'.format(mean, median, mode1, mode2))"
   ]
  },
  {
   "cell_type": "code",
   "execution_count": 18,
   "id": "be838bcd",
   "metadata": {},
   "outputs": [],
   "source": [
    "## test ##\n",
    "assert_almost_equal((mean - median)/mode1, 0.000 , places=2)"
   ]
  },
  {
   "cell_type": "code",
   "execution_count": 19,
   "id": "f4628ce7",
   "metadata": {},
   "outputs": [],
   "source": [
    "## test ##\n",
    "assert_almost_equal((mode1 - mode2)/ mean, 1.198 , places=2)"
   ]
  },
  {
   "cell_type": "markdown",
   "id": "5d50849b",
   "metadata": {},
   "source": [
    "Which of these estimates (mean, median and modes) is more suitable to better represent this particular type of data? Why?"
   ]
  },
  {
   "cell_type": "markdown",
   "id": "f5830888",
   "metadata": {},
   "source": [
    "Your answer:"
   ]
  },
  {
   "cell_type": "markdown",
   "id": "a473bf65",
   "metadata": {},
   "source": []
  },
  {
   "cell_type": "markdown",
   "id": "956a4861",
   "metadata": {
    "nbgrader": {
     "grade": false,
     "grade_id": "cell-6cb3f5a1cf371788",
     "locked": true,
     "schema_version": 3,
     "solution": false,
     "task": false
    }
   },
   "source": [
    "## Question 3 (3 points + 1 bonus)\n",
    "\n",
    "### Normal distribution:\n",
    "A normal (Gaussian) distribution is a type of continuous probability distribution characterized by a bell-shaped curve and defined by its mean $\\mu$ and standard deviation $\\sigma$:\n",
    "$$\n",
    "    p(y) = \\frac{1}{\\sqrt{2\\pi\\sigma^2}} e^{-\\frac{(y - \\mu)^2}{2\\sigma^2}}\n",
    "$$\n",
    "We let $Y$ denote a random variable following this distribution."
   ]
  },
  {
   "cell_type": "code",
   "execution_count": 20,
   "id": "4b63b2ee",
   "metadata": {},
   "outputs": [],
   "source": [
    "mu = 3.0\n",
    "sigma = 2.0\n",
    "Y = stats.norm(loc = mu , scale = sigma)\n",
    "\n",
    "# Please check this page for more information: \n",
    "# https://docs.scipy.org/doc/scipy/reference/generated/scipy.stats.norm.html"
   ]
  },
  {
   "cell_type": "markdown",
   "id": "5aad8ca7",
   "metadata": {},
   "source": [
    "### 3a) (1 point)\n",
    "Generate 10,000 independent samples in a variable named 'y'.\n",
    "\n",
    "Visualize the distribution of the data plot using an histogram. Add a smooth curve obtained using a kernel density estimate (KDE) to the histogram.\n",
    "\n",
    "Hint: you can use sns.histplot."
   ]
  },
  {
   "cell_type": "markdown",
   "id": "28b08e66",
   "metadata": {},
   "source": [
    "```\n",
    "BEGIN QUESTION\n",
    "name: Question 3a      # (required) the path to a requirements.txt file\n",
    "manual: false     # whether this is a manually-graded question\n",
    "points: 1     # how many points this question is worth; defaults to 1 internally\n",
    "check_cell: true  # whether to include a check cell after this question (for autograded questions only)\n",
    "```"
   ]
  },
  {
   "cell_type": "code",
   "execution_count": 21,
   "id": "12b6de6d",
   "metadata": {
    "nbgrader": {
     "grade": true,
     "grade_id": "cell-b705817b0aa8fe76",
     "locked": false,
     "points": 0,
     "schema_version": 3,
     "solution": true,
     "task": false
    }
   },
   "outputs": [
    {
     "data": {
      "text/plain": [
       "<AxesSubplot: ylabel='Count'>"
      ]
     },
     "execution_count": 21,
     "metadata": {},
     "output_type": "execute_result"
    },
    {
     "data": {
      "image/png": "[encoded data removed]",
      "text/plain": [
       "<Figure size 640x480 with 1 Axes>"
      ]
     },
     "metadata": {},
     "output_type": "display_data"
    }
   ],
   "source": [
    "n_samples=10000\n",
    "np.random.seed(0)\n",
    "\n",
    "y = Y.rvs(n_samples) # SOLUTION\n",
    "# BEGIN SOLUTION\n",
    "sns.histplot(y, kde = True)\n",
    "# END SOLUTION"
   ]
  },
  {
   "cell_type": "code",
   "execution_count": 22,
   "id": "7033a0f1",
   "metadata": {},
   "outputs": [],
   "source": [
    "## test ##\n",
    "assert_equal(len(y), n_samples)"
   ]
  },
  {
   "cell_type": "code",
   "execution_count": 23,
   "id": "d8255da5",
   "metadata": {},
   "outputs": [],
   "source": [
    "## test ##\n",
    "assert_almost_equal(y.mean(), 2.963 , places=2)"
   ]
  },
  {
   "cell_type": "code",
   "execution_count": 24,
   "id": "1bfa1b12",
   "metadata": {},
   "outputs": [],
   "source": [
    "## test ##\n",
    "assert_almost_equal(y.std() , 1.975 , places=2)"
   ]
  },
  {
   "cell_type": "markdown",
   "id": "fadd6525",
   "metadata": {},
   "source": [
    "### 3b) (1 point, bonus)\n",
    "Calculate the probabilities $\\text{P}(Y = 2)$, $\\text{P}(Y = 3)$ and $\\text{P}(Y = 4)$ and store them in the variables 'p2', 'p3', and 'p4', respectively.\n"
   ]
  },
  {
   "cell_type": "markdown",
   "id": "3c1de927",
   "metadata": {},
   "source": [
    "```\n",
    "BEGIN QUESTION\n",
    "name: Question 3b      # (required) the path to a requirements.txt file\n",
    "manual: false     # whether this is a manually-graded question\n",
    "points: 1     # how many points this question is worth; defaults to 1 internally\n",
    "check_cell: true  # whether to include a check cell after this question (for autograded questions only)\n",
    "```"
   ]
  },
  {
   "cell_type": "code",
   "execution_count": 31,
   "id": "93ee973a",
   "metadata": {},
   "outputs": [
    {
     "name": "stdout",
     "output_type": "stream",
     "text": [
      "P(Y=2)=0.0000 \n",
      "P(Y=3)=0.0000 \n",
      "P(Y=4)=0.0000\n"
     ]
    }
   ],
   "source": [
    "p2 = 0 # SOLUTION\n",
    "p3 = 0 # SOLUTION\n",
    "p4 = 0 # SOLUTION\n",
    "\n",
    "print('P(Y=2)={:.4f} \\nP(Y=3)={:.4f} \\nP(Y=4)={:.4f}'.format(p2, p3, p4))"
   ]
  },
  {
   "cell_type": "code",
   "execution_count": 32,
   "id": "cbff279d",
   "metadata": {},
   "outputs": [],
   "source": [
    "## test ##\n",
    "assert_equal((p2 - p3), 0)\n",
    "assert_equal((p2*p3)+p4, 0)"
   ]
  },
  {
   "cell_type": "markdown",
   "id": "e5c512ad",
   "metadata": {},
   "source": [
    "### 3c) (1 point)\n",
    "Calculate the probabilities $\\text{P}(Y \\leq 2)$, $\\text{P}(2 < Y \\leq 3)$ and $\\text{P}(Y \\geq 4)$ and store them in the variables 'p_le2', 'p_gr2_le3', and 'p_gr4', respectively.\n"
   ]
  },
  {
   "cell_type": "markdown",
   "id": "4ed0ef63",
   "metadata": {},
   "source": [
    "```\n",
    "BEGIN QUESTION\n",
    "name: Question 3c      # (required) the path to a requirements.txt file\n",
    "manual: false     # whether this is a manually-graded question\n",
    "points: 1     # how many points this question is worth; defaults to 1 internally\n",
    "check_cell: true  # whether to include a check cell after this question (for autograded questions only)\n",
    "```"
   ]
  },
  {
   "cell_type": "code",
   "execution_count": 33,
   "id": "f44045a7",
   "metadata": {},
   "outputs": [
    {
     "name": "stdout",
     "output_type": "stream",
     "text": [
      "P(Y<=2)=0.3085\n",
      "P(2<Y<=3)=0.1915\n",
      "P(Y>=4)=0.3085\n"
     ]
    }
   ],
   "source": [
    "p_le2 = Y.cdf(2) # SOLUTION\n",
    "p_gr2_le3 = Y.cdf(3) - Y.cdf(2) # SOLUTION\n",
    "p_gr4 = 1 - Y.cdf(4) # SOLUTION\n",
    "\n",
    "print('P(Y<=2)={:.4f}\\nP(2<Y<=3)={:.4f}\\nP(Y>=4)={:.4f}'.format(p_le2, p_gr2_le3, p_gr4))"
   ]
  },
  {
   "cell_type": "code",
   "execution_count": 34,
   "id": "c93f0f35",
   "metadata": {},
   "outputs": [],
   "source": [
    "## test ##\n",
    "assert_equal(p_le2 - p_gr4, 0)\n",
    "assert_almost_equal((p_gr2_le3 - p_le2)/p_gr4 , -0.379 , places=2)"
   ]
  },
  {
   "cell_type": "markdown",
   "id": "60797a97",
   "metadata": {},
   "source": [
    "Do the probabilities $\\text{P}(Y \\leq 2)$ and $\\text{P}(Y \\geq 4)$ have the same value? What is the reason for your answer?"
   ]
  },
  {
   "cell_type": "markdown",
   "id": "5135dd7a",
   "metadata": {},
   "source": [
    "Your answer:"
   ]
  },
  {
   "cell_type": "markdown",
   "id": "6fe6c0c5",
   "metadata": {},
   "source": []
  },
  {
   "cell_type": "markdown",
   "id": "c14deb7f",
   "metadata": {},
   "source": [
    "### 3d) (1 point)\n",
    "\n",
    "Calculate the mean, standard deviation, and median of the samples generated in the variable 'y' and store them in the variables 'mean_gauss', 'std_gauss' and 'median_gauss' respectively."
   ]
  },
  {
   "cell_type": "markdown",
   "id": "7ccad325",
   "metadata": {},
   "source": [
    "```\n",
    "BEGIN QUESTION\n",
    "name: Question 3d      # (required) the path to a requirements.txt file\n",
    "manual: false     # whether this is a manually-graded question\n",
    "points: 1     # how many points this question is worth; defaults to 1 internally\n",
    "check_cell: true  # whether to include a check cell after this question (for autograded questions only)\n",
    "```"
   ]
  },
  {
   "cell_type": "code",
   "execution_count": 35,
   "id": "c785d8d7",
   "metadata": {},
   "outputs": [
    {
     "name": "stdout",
     "output_type": "stream",
     "text": [
      "Mean=2.9631 \n",
      "Std=1.9751 \n",
      "Median=2.9459\n"
     ]
    }
   ],
   "source": [
    "mean_gauss = np.mean(y) # SOLUTION\n",
    "std_gauss = np.std(y) # SOLUTION\n",
    "median_gauss = np.median(y) # SOLUTION\n",
    "\n",
    "print('Mean={:.4f} \\nStd={:.4f} \\nMedian={:.4f}'.format(mean_gauss, std_gauss, median_gauss))"
   ]
  },
  {
   "cell_type": "code",
   "execution_count": 37,
   "id": "86e7d9cd",
   "metadata": {},
   "outputs": [],
   "source": [
    "## test ##\n",
    "assert_almost_equal((mean_gauss - std_gauss)/median_gauss, 0.335 , places=2)\n",
    "assert_almost_equal((mean_gauss ** std_gauss)+ median_gauss, 11.491 , places=2)"
   ]
  },
  {
   "cell_type": "markdown",
   "id": "560f625a",
   "metadata": {},
   "source": [
    "Are the mean and the standard deviation close to the $\\mu$ and $\\sigma$? How about the median? Why?"
   ]
  },
  {
   "cell_type": "markdown",
   "id": "2a734bb9",
   "metadata": {},
   "source": [
    "Your answer:"
   ]
  },
  {
   "cell_type": "markdown",
   "id": "031273e0",
   "metadata": {},
   "source": []
  }
 ],
 "metadata": {
  "celltoolbar": "Create Assignment",
  "kernelspec": {
   "display_name": "Python 3 (ipykernel)",
   "language": "python",
   "name": "python3"
  },
  "language_info": {
   "codemirror_mode": {
    "name": "ipython",
    "version": 3
   },
   "file_extension": ".py",
   "mimetype": "text/x-python",
   "name": "python",
   "nbconvert_exporter": "python",
   "pygments_lexer": "ipython3",
   "version": "3.9.13"
  },
  "vscode": {
   "interpreter": {
    "hash": "913bf538e0268f95f9c968c6389b7e7d4c9127ecd5fa78580616ce9989c49c5f"
   }
  }
 },
 "nbformat": 4,
 "nbformat_minor": 5
}
