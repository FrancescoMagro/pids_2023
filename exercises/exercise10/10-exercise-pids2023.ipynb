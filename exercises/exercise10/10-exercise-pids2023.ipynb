{
 "cells": [
  {
   "cell_type": "markdown",
   "id": "6e35c8eb",
   "metadata": {},
   "source": [
    "# Exercise sheet 10\n",
    "**Hello everyone!**\n",
    "\n",
    "**Points: 15**\n",
    "\n",
    "Please let us know if you have questions or problems! <br>\n",
    "Contact us during the exercise session, on [Piazza](https://piazza.com/class/leibdr4lk8n3w4), or [via email](https://sada.dmi.unibas.ch/en/teaching/pids23).\n",
    "\n",
    "Please submit this exercise sheet on **GRADESCOPE**.\n",
    "Naming conventions:\n",
    "* Name of notebook: \"10-exercise-pids2023.ipynb\"\n",
    "\n",
    "Your notebook will be automatically graded using gradescope. To get graded, you need to upload the file *10-exercise-pids2023.ipynb* to gradescope. If you are using JupyterHub, make sure you have saved the current notebook, then you can download this file by following: *File*->*Download* and save the file on you computer.\n",
    "\n",
    "The sheet is released before the exercise session on Tuesday. You have until the next exercise session on Tuesday to submit this sheet. Most of the questions of the exercise sheet can be handle during the session.\n",
    "\n",
    "**Handout date**: 08.05.2023 <br>\n",
    "**Submission date**: 16.05.2023 <br>\n",
    "\n",
    "### Please name the variables as suggested! Be careful with the type! Otherwise the grading system will fail you!"
   ]
  },
  {
   "cell_type": "code",
   "execution_count": 1,
   "id": "e1bce01c",
   "metadata": {},
   "outputs": [],
   "source": [
    "import pandas as pd\n",
    "import seaborn as sns\n",
    "import matplotlib.pyplot as plt\n",
    "import numpy as np\n",
    "from scipy import stats\n",
    "from scipy.stats import norm\n",
    "from nose.tools import assert_is_instance, assert_equal, assert_almost_equal, assert_true"
   ]
  },
  {
   "cell_type": "markdown",
   "id": "7592ad18",
   "metadata": {},
   "source": [
    "<p><a href=\"https://commons.wikimedia.org/wiki/File:Basel_-_M%C3%BCnsterpfalz3.jpg#/media/Datei:Basel_-_Münsterpfalz3.jpg\"><img src=\"https://upload.wikimedia.org/wikipedia/commons/1/18/Basel_-_M%C3%BCnsterpfalz3.jpg\" alt=\"Basler Münster mit Pfalz und der Mittleren Rheinbrücke\" height=\"486\" width=\"1280\"></a></p>"
   ]
  },
  {
   "cell_type": "markdown",
   "id": "e0e7361b",
   "metadata": {},
   "source": [
    "# Basel's neighborhoods\n",
    "We are working with a dataset containing information about Basel and its neighborhoods. You can find it here: https://opendata.swiss/de/dataset/kennzahlen-zu-den-basler-wohnvierteln-und-landgemeinden. It's also uploaded as a csv to this folder."
   ]
  },
  {
   "cell_type": "code",
   "execution_count": 2,
   "id": "7c1610bb",
   "metadata": {},
   "outputs": [],
   "source": [
    "bs = pd.read_csv(\"basel_neighborhoods.csv\", sep=\";\")\n",
    "bs.head()"
   ]
  },
  {
   "cell_type": "markdown",
   "id": "efa8f9b6",
   "metadata": {},
   "source": [
    "## Question 1) P value (10 points)\n",
    "Let's see if there's an answer to the following question: Did the amount of green spaces in Basel's neighborhoods increase *significantly* between 2015 and 2021? <br>\n",
    "\n",
    "The column that measures the amount of green spaces (parks and such) is called \"*anteil_gruenflaechen*\"."
   ]
  },
  {
   "cell_type": "markdown",
   "id": "dfda1795",
   "metadata": {},
   "source": [
    "### 1a) Observed difference (1 point)\n",
    "What is the observed difference between the mean of the amount of green spaces in 2015 and in 2021? <br>\n",
    "Assign the mean of the amount of green spaces for the years 2015 and 2021 to the variables mean_2015 and mean_2021 respectively.\n",
    "\n",
    "(Hint: You can average over all neighborhoods)"
   ]
  },
  {
   "cell_type": "code",
   "execution_count": 3,
   "id": "4b687412",
   "metadata": {
    "nbgrader": {
     "grade": false,
     "grade_id": "cell-c1d5d57296720457",
     "locked": false,
     "schema_version": 3,
     "solution": true,
     "task": false
    }
   },
   "outputs": [],
   "source": [
    "mean_2015 = ...\n",
    "mean_2021 = ...\n",
    "\n",
    "print(mean_2021 - mean_2015)"
   ]
  },
  {
   "cell_type": "code",
   "execution_count": null,
   "id": "678e4397",
   "metadata": {
    "deletable": false,
    "editable": false
   },
   "outputs": [],
   "source": [
    "grader.check(\"Question 1a\")"
   ]
  },
  {
   "cell_type": "markdown",
   "id": "f7ca1ff5",
   "metadata": {},
   "source": [
    "### 1b) Artificial variables (3 points)\n",
    "Let's make a new dataframe called \"*neighborhoods*\" containing the neighborhoods of Basel in a column called \"*wohnviertel_name*\". Additionally, it should have a column called \"increase_green_space\" that has \n",
    "* the number 1 if the amount of green space increased between 2015 and 2021 for this neighborhood\n",
    "* the number 0 otherwise"
   ]
  },
  {
   "cell_type": "code",
   "execution_count": 13,
   "id": "ba0e61f1",
   "metadata": {
    "nbgrader": {
     "grade": false,
     "grade_id": "cell-ce997035c2a68011",
     "locked": false,
     "schema_version": 3,
     "solution": true,
     "task": false
    }
   },
   "outputs": [],
   "source": [
    "...\n",
    "\n",
    "...\n",
    "neighborhoods.head()"
   ]
  },
  {
   "cell_type": "code",
   "execution_count": null,
   "id": "f70c0fca",
   "metadata": {
    "deletable": false,
    "editable": false
   },
   "outputs": [],
   "source": [
    "grader.check(\"Question 1b\")"
   ]
  },
  {
   "cell_type": "markdown",
   "id": "5cef5dae",
   "metadata": {},
   "source": [
    "### 1c) Amount of neighborhoods with an increase in green spaces (2 points)"
   ]
  },
  {
   "cell_type": "markdown",
   "id": "77303e92",
   "metadata": {},
   "source": [
    "We want to verify if there was an increase or decrease in green spaces. For this we work under the null hypothesis:\n",
    "$$ \\mathbb{P}(\\text{green spaces increase}) -0.5 = 0. $$\n",
    "\n",
    "\n",
    "What is the percentage of neighborhoods that had an increase in green spaces from 2015 to 2021? Save this decimal number (float) in the variable called \"*increase_2021*\". This value will let us calculate the difference to our null hypothesis value since it is our $ \\mathbb{P}(\\text{green spaces increase})$. Assigne the difference of increase_2021 to our null hypothesis value (0.5) to the variable called \"*difference_null_hypothesis*\" (float)."
   ]
  },
  {
   "cell_type": "code",
   "execution_count": 16,
   "id": "c75aea36",
   "metadata": {
    "nbgrader": {
     "grade": false,
     "grade_id": "cell-707efa52cfcacb2c",
     "locked": false,
     "schema_version": 3,
     "solution": true,
     "task": false
    }
   },
   "outputs": [],
   "source": [
    "increase_2021 = ...\n",
    "difference_null_hypothesis = ...\n",
    "print(increase_2021, difference_null_hypothesis)"
   ]
  },
  {
   "cell_type": "code",
   "execution_count": null,
   "id": "83eb5e62",
   "metadata": {
    "deletable": false,
    "editable": false
   },
   "outputs": [],
   "source": [
    "grader.check(\"Question 1c\")"
   ]
  },
  {
   "cell_type": "markdown",
   "id": "b0b5a213",
   "metadata": {},
   "source": [
    "### 1d) Calculate the p value (3 points)\n",
    "What is the p value for there being a significant difference in the amount of green space between 2015 and 2021? <br>\n",
    "In other words: What is the p value for $P(|mean2021 - 0.5| > \\text{observed_difference}) $?\n",
    "\n",
    "Assign the p-vlaue to the variable called \"*p_value*\".\n",
    "\n",
    "Hint: Have a look at the slides from lecture 8 to find an example."
   ]
  },
  {
   "cell_type": "code",
   "execution_count": 25,
   "id": "90d1eacd",
   "metadata": {
    "nbgrader": {
     "grade": false,
     "grade_id": "cell-07f7fc5a4f401a11",
     "locked": false,
     "schema_version": 3,
     "solution": true,
     "task": false
    }
   },
   "outputs": [],
   "source": [
    "...\n",
    "p_value = ...\n",
    "p_value"
   ]
  },
  {
   "cell_type": "code",
   "execution_count": null,
   "id": "615d3df6",
   "metadata": {
    "deletable": false,
    "editable": false
   },
   "outputs": [],
   "source": [
    "grader.check(\"Question 1d\")"
   ]
  },
  {
   "cell_type": "markdown",
   "id": "c7b00f4a",
   "metadata": {},
   "source": [
    "### 1e) Do we reject or fail to reject the null hypothesis based on our p value? (1 points)\n",
    "Here our significance value is 0.05.\n",
    "\n",
    "Please write your answer like this:\n",
    "* If we reject the null hypothesis: null_hypothesis = \"reject\"\n",
    "* If we can not reject the null hypothesis: null_hypothesis = \"fail to reject\"\n",
    "\n",
    "(Hint: Read the question carefully and google it if you're not sure what it means:https://statisticsbyjim.com/hypothesis-testing/failing-reject-null-hypothesis/)"
   ]
  },
  {
   "cell_type": "markdown",
   "id": "16af24f2",
   "metadata": {
    "deletable": false,
    "editable": false
   },
   "source": [
    "<!-- BEGIN QUESTION -->\n",
    "\n",
    "<!--\n",
    "BEGIN QUESTION\n",
    "name: Question 1e      # (required) the path to a requirements.txt file\n",
    "manual: true     # whether this is a manually-graded question\n",
    "points: 1      # how many points this question is worth; defaults to 1 internally\n",
    "check_cell: false  # whether to include a check cell after this question (for autograded questions only)\n",
    "-->"
   ]
  },
  {
   "cell_type": "code",
   "execution_count": 1,
   "id": "903f15a4",
   "metadata": {
    "nbgrader": {
     "grade": false,
     "grade_id": "cell-e09f38db783d9e60",
     "locked": false,
     "schema_version": 3,
     "solution": true,
     "task": false
    }
   },
   "outputs": [],
   "source": [
    "null_hypothesis = \"...\""
   ]
  },
  {
   "cell_type": "markdown",
   "id": "568bd0bb",
   "metadata": {},
   "source": [
    "<!-- END QUESTION -->\n",
    "\n",
    "\n",
    "\n",
    "## Question 2) Regression (5 points)\n",
    "### 2a) Plot correlation (2 points)\n",
    "Make a plot that shows you how income tax (*einkommenssteuer_pro_veranlagung*) and apartment size (*flaeche_pro_wohnung*) are correlated in the year 2021 i.e: make a scatter plot for the year 2021 with *einkommenssteuer_pro_veranlagung* on the *x*-axis and  *flaeche_pro_wohnung* on the *y*-axis."
   ]
  },
  {
   "cell_type": "markdown",
   "id": "b7572550",
   "metadata": {
    "deletable": false,
    "editable": false
   },
   "source": [
    "<!-- BEGIN QUESTION -->\n",
    "\n",
    "<!--\n",
    "BEGIN QUESTION\n",
    "name: Question 2a      # (required) the path to a requirements.txt file\n",
    "manual: true     # whether this is a manually-graded question\n",
    "points: 2     # how many points this question is worth; defaults to 1 internally\n",
    "check_cell: false  # whether to include a check cell after this question (for autograded questions only)\n",
    "-->"
   ]
  },
  {
   "cell_type": "code",
   "execution_count": 29,
   "id": "d59b5ae1",
   "metadata": {
    "nbgrader": {
     "grade": true,
     "grade_id": "cell-30fc240c2ed71fb4",
     "locked": false,
     "points": 0,
     "schema_version": 3,
     "solution": true,
     "task": false
    }
   },
   "outputs": [],
   "source": [
    "..."
   ]
  },
  {
   "cell_type": "markdown",
   "id": "570e537a",
   "metadata": {},
   "source": [
    "<!-- END QUESTION -->\n",
    "\n",
    "\n",
    "\n",
    "### 2b) Correlation coefficient (1 point)\n",
    "What is the correlation coefficient between income tax and apartments size in Basel for 2021? Assign this number (float) to the variable called \"*corr_coeff*\"."
   ]
  },
  {
   "cell_type": "code",
   "execution_count": 30,
   "id": "0d7826ad",
   "metadata": {
    "nbgrader": {
     "grade": false,
     "grade_id": "cell-5a5ef833de831dee",
     "locked": false,
     "schema_version": 3,
     "solution": true,
     "task": false
    }
   },
   "outputs": [],
   "source": [
    "corr_coeff = ...\n",
    "corr_coeff"
   ]
  },
  {
   "cell_type": "code",
   "execution_count": null,
   "id": "a3988694",
   "metadata": {
    "deletable": false,
    "editable": false
   },
   "outputs": [],
   "source": [
    "grader.check(\"Question 2b\")"
   ]
  },
  {
   "cell_type": "markdown",
   "id": "3933daa3",
   "metadata": {},
   "source": [
    "### 2c) Plot another correlation (1 point)\n",
    "Make a plot that shows you how living space per person (*wohnflaeche_pro_person*) and apartment size (*flaeche_pro_wohnung*) are correlated (a scatter plot) for the year 2021."
   ]
  },
  {
   "cell_type": "markdown",
   "id": "c7e39fb0",
   "metadata": {
    "deletable": false,
    "editable": false
   },
   "source": [
    "<!-- BEGIN QUESTION -->\n",
    "\n",
    "<!--\n",
    "BEGIN QUESTION\n",
    "name: Question 2c      # (required) the path to a requirements.txt file\n",
    "manual: true     # whether this is a manually-graded question\n",
    "points: 1    # how many points this question is worth; defaults to 1 internally\n",
    "check_cell: false  # whether to include a check cell after this question (for autograded questions only)\n",
    "-->"
   ]
  },
  {
   "cell_type": "code",
   "execution_count": null,
   "id": "4f1fc7d1",
   "metadata": {
    "nbgrader": {
     "grade": true,
     "grade_id": "cell-c1967853363f5c89",
     "locked": false,
     "points": 0,
     "schema_version": 3,
     "solution": true,
     "task": false
    }
   },
   "outputs": [],
   "source": [
    "..."
   ]
  },
  {
   "cell_type": "markdown",
   "id": "58b3c7b3",
   "metadata": {},
   "source": [
    "<!-- END QUESTION -->\n",
    "\n",
    "\n",
    "\n",
    "What do you notice on this plot, what kind of correlation do you observe? What could be problematic about this correlation?\n",
    "Write your answer in the cell below as a comment (use #)."
   ]
  },
  {
   "cell_type": "code",
   "execution_count": null,
   "id": "d7341fdf",
   "metadata": {
    "nbgrader": {
     "grade": true,
     "grade_id": "cell-bbd1af1856fa03f5",
     "locked": false,
     "points": 0,
     "schema_version": 3,
     "solution": true,
     "task": false
    }
   },
   "outputs": [],
   "source": [
    "..."
   ]
  },
  {
   "cell_type": "markdown",
   "id": "5f6a7362",
   "metadata": {},
   "source": [
    "### 2d) Expectations (1 points)\n",
    "What is the expected value $\\hat E$ (mean) for the amount of living space for a random person (*wohnflaeche_pro_person*) living in Basel in 2021?\n",
    "\n",
    "Assign this value (float) to the variable called \"*living_space*\"."
   ]
  },
  {
   "cell_type": "code",
   "execution_count": null,
   "id": "24ae159e",
   "metadata": {
    "nbgrader": {
     "grade": false,
     "grade_id": "cell-540ceba74e68d292",
     "locked": false,
     "schema_version": 3,
     "solution": true,
     "task": false
    }
   },
   "outputs": [],
   "source": [
    "living_space = ..."
   ]
  },
  {
   "cell_type": "code",
   "execution_count": null,
   "id": "cea212ad",
   "metadata": {
    "deletable": false,
    "editable": false
   },
   "outputs": [],
   "source": [
    "grader.check(\"Question 2d\")"
   ]
  },
  {
   "cell_type": "markdown",
   "id": "657c6a21",
   "metadata": {
    "deletable": false,
    "editable": false
   },
   "source": [
    "---\n",
    "\n",
    "To double-check your work, the cell below will rerun all of the autograder tests."
   ]
  },
  {
   "cell_type": "code",
   "execution_count": null,
   "id": "4b1358b6",
   "metadata": {
    "deletable": false,
    "editable": false
   },
   "outputs": [],
   "source": [
    "grader.check_all()"
   ]
  }
 ],
 "metadata": {
  "celltoolbar": "Create Assignment",
  "kernelspec": {
   "display_name": "Python 3 (ipykernel)",
   "language": "python",
   "name": "python3"
  },
  "language_info": {
   "codemirror_mode": {
    "name": "ipython",
    "version": 3
   },
   "file_extension": ".py",
   "mimetype": "text/x-python",
   "name": "python",
   "nbconvert_exporter": "python",
   "pygments_lexer": "ipython3",
   "version": "3.10.9"
  }
 },
 "nbformat": 4,
 "nbformat_minor": 5
}
