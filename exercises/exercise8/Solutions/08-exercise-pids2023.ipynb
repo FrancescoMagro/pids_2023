{
 "cells": [
  {
   "cell_type": "code",
   "execution_count": 1,
   "id": "d21424e5",
   "metadata": {},
   "outputs": [],
   "source": [
    "# Initialize Otter\n",
    "import otter\n",
    "grader = otter.Notebook(\"08-exercise-pids2023.ipynb\")"
   ]
  },
  {
   "attachments": {},
   "cell_type": "markdown",
   "id": "a5561fb1",
   "metadata": {},
   "source": [
    "```\n",
    "BEGIN ASSIGNMENT\n",
    "requirements: requirements.txt\n",
    "init_cell: false\n",
    "export_cell: false\n",
    "template_pdf: false\n",
    "generate:\n",
    "    token: ''\n",
    "    course_id: 62982        # required\n",
    "    assignment_id: 8    # required\n",
    "    filtering: true # true is the default\n",
    "generate:\n",
    "    seed: 42\n",
    "    show_stdout: true\n",
    "    show_hidden: true\n",
    "    show_all_public: true\n",
    "    visibility: visible\n",
    "```"
   ]
  },
  {
   "attachments": {},
   "cell_type": "markdown",
   "id": "8c2c97e2",
   "metadata": {
    "nbgrader": {
     "grade": false,
     "grade_id": "cell-525c2fd5f3e93d2b",
     "locked": true,
     "schema_version": 3,
     "solution": false,
     "task": false
    }
   },
   "source": [
    "# Exercise sheet 8\n",
    "**Hello everyone!**\n",
    "\n",
    "**Points: 15**\n",
    "\n",
    "Topics of this exercise sheet are:\n",
    "* Central Limit Theorem\n",
    "* Confidence Interval\n",
    "\n",
    "\n",
    "Please let us know if you have questions or problems! <br>\n",
    "Contact us during the exercise session, on [Piazza](https://piazza.com/class/leibdr4lk8n3w4), or [via email](https://sada.dmi.unibas.ch/en/teaching/pids23).\n",
    "\n",
    "Please submit this exercise sheet on **GRADESCOPE**.\n",
    "Naming conventions:\n",
    "* Name of notebook: \"08-exercise-pids2023.ipynb\"\n",
    "\n",
    "Your notebook will be automatically graded using gradescope. To get graded, you need to upload the file *08-exercise-pids2023.ipynb* to gradescope. If you are using JupyterHub, make sure you have saved the current notebook, then you can download this file by following: *File*->*Download* and save the file on you computer.\n",
    "\n",
    "The sheet is released before the exercise session on Tuesday. You have until the next exercise session on Tuesday to submit this sheet. Most of the questions of the exercise sheet can be handle during the session.\n",
    "\n",
    "**Handout date**: 25.04.2023 <br>\n",
    "**Submission date**: 02.05.2023 before 16:00 <br>\n",
    "\n",
    "\n",
    "### Please name the variables as suggested! Be careful with the type! Otherwise the grading system will fail you!\n",
    "\n"
   ]
  },
  {
   "cell_type": "code",
   "execution_count": 2,
   "id": "be708224",
   "metadata": {
    "nbgrader": {
     "grade": false,
     "grade_id": "cell-41524afeb7ebe206",
     "locked": true,
     "schema_version": 3,
     "solution": false,
     "task": false
    }
   },
   "outputs": [],
   "source": [
    "import pandas as pd\n",
    "import seaborn as sns\n",
    "import matplotlib.pyplot as plt\n",
    "import numpy as np\n",
    "from scipy import stats\n",
    "from nose.tools import assert_is_instance, assert_equal, assert_almost_equal, assert_true"
   ]
  },
  {
   "cell_type": "markdown",
   "id": "498579d5",
   "metadata": {
    "nbgrader": {
     "grade": false,
     "grade_id": "cell-53460d34058f3491",
     "locked": true,
     "schema_version": 3,
     "solution": false,
     "task": false
    }
   },
   "source": [
    "# 1 (8 points)\n",
    "We define a random variable $X_\\text{mean}$ as follows:\n",
    "$$\n",
    "X_\\text{mean} = \\dfrac{1}{N} \\sum_{i=1}^N X_i \n",
    "$$\n",
    "Where $X_i \\sim$ Binomial($n,p$). As discussed in the last lecture, we can analytically compute the mean and variance of this random variable:\n",
    "$$\n",
    "\\mathbb{E}[X_\\text{mean}] = \\dfrac{1}{N} \\sum_{i=1}^N \\mathbb{E}[X_i] = np\n",
    "$$\n",
    "$$\n",
    "\\text{Var}[X_\\text{mean}] = \\dfrac{1}{N^2} \\sum_{i=1}^N \\text{Var}[X_i] = \\dfrac{np(1-p)}{N}\n",
    "$$\n",
    "In this exercise, we want to verify the analytical results experimentally.\n",
    "As the first step, let's define a Binomial random variable:"
   ]
  },
  {
   "cell_type": "code",
   "execution_count": 3,
   "id": "a8589db0",
   "metadata": {
    "nbgrader": {
     "grade": false,
     "grade_id": "cell-de32fce7c84d1792",
     "locked": true,
     "schema_version": 3,
     "solution": false,
     "task": false
    }
   },
   "outputs": [],
   "source": [
    "n = 20 # The total number of trials\n",
    "p = 0.5 # The probability of success in each trial\n",
    "X = stats.binom(n, p)\n",
    "# Please check this page for more information: \n",
    "# https://docs.scipy.org/doc/scipy-0.13.0/reference/generated/scipy.stats.binom.html#scipy.stats.binom"
   ]
  },
  {
   "attachments": {},
   "cell_type": "markdown",
   "id": "7aabf916",
   "metadata": {
    "nbgrader": {
     "grade": false,
     "grade_id": "cell-5d9cbb87ed2f5e87",
     "locked": true,
     "schema_version": 3,
     "solution": false,
     "task": false
    }
   },
   "source": [
    "### 1a (2 points)\n",
    "Generate a matrix with size $m \\times N$ containing samples from the given Binomial distribution and store the matrix in variable 'x'. Then calculate the mean of each row of matrix 'x' and and store the row-wise means in a vector with size $m$ and call it 'mean'. Plot the histogram of the calculated 'mean' vector.\n",
    "\n",
    "**Important**: Please do not make a new cell for the plot. Plot the histogram in the same cell.\n",
    "\n",
    "**Important**: Please do not use a \"for-loop\" for sample generation; X.rvs can take the shape of the matrix and generate it."
   ]
  },
  {
   "attachments": {},
   "cell_type": "markdown",
   "id": "ede37cba",
   "metadata": {},
   "source": [
    "```\n",
    "BEGIN QUESTION\n",
    "name: Question 1a      # (required) the path to a requirements.txt file\n",
    "manual: false     # whether this is a manually-graded question\n",
    "points: 2      # how many points this question is worth; defaults to 1 internally\n",
    "check_cell: true  # whether to include a check cell after this question (for autograded questions only)\n",
    "```"
   ]
  },
  {
   "cell_type": "code",
   "execution_count": 4,
   "id": "72f57098",
   "metadata": {
    "nbgrader": {
     "grade": false,
     "grade_id": "cell-cda45808f0efe171",
     "locked": false,
     "schema_version": 3,
     "solution": true,
     "task": false
    }
   },
   "outputs": [
    {
     "data": {
      "text/plain": [
       "<AxesSubplot:ylabel='Count'>"
      ]
     },
     "execution_count": 4,
     "metadata": {},
     "output_type": "execute_result"
    },
    {
     "data": {
      "image/png": "[encoded data removed]",
      "text/plain": [
       "<Figure size 432x288 with 1 Axes>"
      ]
     },
     "metadata": {
      "needs_background": "light"
     },
     "output_type": "display_data"
    }
   ],
   "source": [
    "m = 100\n",
    "N = 10\n",
    "np.random.seed(0)\n",
    "# BEGIN SOLUTION\n",
    "x = X.rvs([m,N])\n",
    "mean = x.mean(axis = 1)\n",
    "sns.histplot(mean)\n",
    "# END SOLUTION"
   ]
  },
  {
   "cell_type": "code",
   "execution_count": 5,
   "id": "eeec3f26",
   "metadata": {
    "nbgrader": {
     "grade": true,
     "grade_id": "cell-c9ddc644dd40e1eb",
     "locked": true,
     "points": 2,
     "schema_version": 3,
     "solution": false,
     "task": false
    }
   },
   "outputs": [],
   "source": [
    "## test ##\n",
    "assert_equal(len(x), m)\n",
    "assert_almost_equal(mean.mean(), 9.983 , places=2)\n",
    "assert_almost_equal(mean.std() , 0.836 , places=2)"
   ]
  },
  {
   "cell_type": "markdown",
   "id": "8feb2026",
   "metadata": {
    "nbgrader": {
     "grade": false,
     "grade_id": "cell-6fcab90fcffa4ae2",
     "locked": true,
     "schema_version": 3,
     "solution": false,
     "task": false
    }
   },
   "source": [
    "### 1b (4 points)\n",
    "Now we want to repeat this process for $N=\\{1,2,...,k\\}$ instead of a single $N=10$. So write a code to generate the mean for each $N$ (as you did for $N=10$) and store all the calculated means in \"means\" which would be a matrix with size $k \\times m$.\n",
    "\n",
    "**Important**: Please do not use a \"for-loop\" for sample generation; X.rvs can take the shape of the matrix and generate it. You can use \"for-loop\" anywhere else."
   ]
  },
  {
   "attachments": {},
   "cell_type": "markdown",
   "id": "bbfb94a0",
   "metadata": {},
   "source": [
    "```\n",
    "BEGIN QUESTION\n",
    "name: Question 1b      # (required) the path to a requirements.txt file\n",
    "manual: false     # whether this is a manually-graded question\n",
    "points: 4      # how many points this question is worth; defaults to 1 internally\n",
    "check_cell: true  # whether to include a check cell after this question (for autograded questions only)\n",
    "```"
   ]
  },
  {
   "cell_type": "code",
   "execution_count": 6,
   "id": "5a8ff075",
   "metadata": {
    "nbgrader": {
     "grade": false,
     "grade_id": "cell-0f3266550e4db393",
     "locked": false,
     "schema_version": 3,
     "solution": true,
     "task": false
    }
   },
   "outputs": [],
   "source": [
    "m = 100\n",
    "k = 50\n",
    "np.random.seed(0)\n",
    "means = np.zeros([k,m])\n",
    "# BEGIN SOLUTION\n",
    "for i in range(k):\n",
    "    x = X.rvs([m,i+1])\n",
    "    means[i] = x.mean(axis = 1)\n",
    "# END SOLUTION"
   ]
  },
  {
   "cell_type": "code",
   "execution_count": 7,
   "id": "25ece6b6",
   "metadata": {
    "nbgrader": {
     "grade": true,
     "grade_id": "cell-bf5d9fe64b7e6143",
     "locked": true,
     "points": 4,
     "schema_version": 3,
     "solution": false,
     "task": false
    }
   },
   "outputs": [],
   "source": [
    "## test ##\n",
    "assert_equal(len(means), k)\n",
    "assert_almost_equal(means.mean(), 9.992 , places=2)\n",
    "assert_almost_equal(means.std() , 0.677 , places=2)"
   ]
  },
  {
   "attachments": {},
   "cell_type": "markdown",
   "id": "be2c8a73",
   "metadata": {
    "nbgrader": {
     "grade": false,
     "grade_id": "cell-0682fdc8882d815c",
     "locked": true,
     "schema_version": 3,
     "solution": false,
     "task": false
    }
   },
   "source": [
    "### 1c (2 points)\n",
    "Now calculate the variance of the mean for a given N. This means that you need to calculate the variance of each row of the matrix \"means\" in 1b. Store the variances in a vector with size k and call this vector \"variences\". Plot the vector \"variences\" with respect to $N=\\{1,2,...,k\\}$."
   ]
  },
  {
   "attachments": {},
   "cell_type": "markdown",
   "id": "00c93bb4",
   "metadata": {},
   "source": [
    "```\n",
    "BEGIN QUESTION\n",
    "name: Question 1c      # (required) the path to a requirements.txt file\n",
    "manual: false     # whether this is a manually-graded question\n",
    "points: 2      # how many points this question is worth; defaults to 1 internally\n",
    "check_cell: true  # whether to include a check cell after this question (for autograded questions only)\n",
    "```"
   ]
  },
  {
   "cell_type": "code",
   "execution_count": 17,
   "id": "91daec13",
   "metadata": {
    "nbgrader": {
     "grade": false,
     "grade_id": "cell-183fea12257ba84f",
     "locked": false,
     "schema_version": 3,
     "solution": true,
     "task": false
    }
   },
   "outputs": [
    {
     "name": "stdout",
     "output_type": "stream",
     "text": [
      "(50,)\n"
     ]
    },
    {
     "data": {
      "text/plain": [
       "[<matplotlib.lines.Line2D at 0x7ffa1fc249d0>]"
      ]
     },
     "execution_count": 17,
     "metadata": {},
     "output_type": "execute_result"
    },
    {
     "data": {
      "image/png": "[encoded data removed]",
      "text/plain": [
       "<Figure size 432x288 with 1 Axes>"
      ]
     },
     "metadata": {
      "needs_background": "light"
     },
     "output_type": "display_data"
    }
   ],
   "source": [
    "# BEGIN SOLUTION\n",
    "variances = np.var(means , axis = 1)\n",
    "print(variances.shape)\n",
    "plt.plot(variances)\n",
    "# END SOLUTION"
   ]
  },
  {
   "cell_type": "code",
   "execution_count": 9,
   "id": "09c417fd",
   "metadata": {
    "nbgrader": {
     "grade": true,
     "grade_id": "cell-b16bddc2f8788742",
     "locked": true,
     "points": 2,
     "schema_version": 3,
     "solution": false,
     "task": false
    }
   },
   "outputs": [],
   "source": [
    "## test ##\n",
    "assert_almost_equal(variances.mean(), 0.455 , places=2)\n",
    "assert_almost_equal(variances.var(), 0.646 , places=2)"
   ]
  },
  {
   "cell_type": "markdown",
   "id": "618b4352",
   "metadata": {
    "nbgrader": {
     "grade": false,
     "grade_id": "cell-3b593abf923267bc",
     "locked": true,
     "schema_version": 3,
     "solution": false,
     "task": false
    }
   },
   "source": [
    "Does the variance decrease as we increase the number of samples ($N$)? Why?"
   ]
  },
  {
   "cell_type": "markdown",
   "id": "7b6f879e",
   "metadata": {
    "nbgrader": {
     "grade": true,
     "grade_id": "cell-dfab7379a295c647",
     "locked": false,
     "points": 0,
     "schema_version": 3,
     "solution": true,
     "task": false
    }
   },
   "source": []
  },
  {
   "cell_type": "markdown",
   "id": "c8990891",
   "metadata": {
    "nbgrader": {
     "grade": false,
     "grade_id": "cell-bf218f2a711395fc",
     "locked": true,
     "schema_version": 3,
     "solution": false,
     "task": false
    }
   },
   "source": [
    "# 2 (7 points)\n",
    "## Confidence Interval\n",
    "In this exercise, we work on confidence interval calculation using bottstrap technique.\n",
    "Let's generate $N$ samples from Gaussian distribution:"
   ]
  },
  {
   "cell_type": "code",
   "execution_count": 10,
   "id": "08614a3a",
   "metadata": {
    "nbgrader": {
     "grade": false,
     "grade_id": "cell-feab5992c895e9e3",
     "locked": true,
     "schema_version": 3,
     "solution": false,
     "task": false
    }
   },
   "outputs": [
    {
     "data": {
      "text/plain": [
       "<AxesSubplot:ylabel='Count'>"
      ]
     },
     "execution_count": 10,
     "metadata": {},
     "output_type": "execute_result"
    },
    {
     "data": {
      "image/png": "[encoded data removed]",
      "text/plain": [
       "<Figure size 432x288 with 1 Axes>"
      ]
     },
     "metadata": {
      "needs_background": "light"
     },
     "output_type": "display_data"
    }
   ],
   "source": [
    "mu = 0.0\n",
    "sigma = 1.0\n",
    "N = 400\n",
    "\n",
    "np.random.seed(0)\n",
    "X = stats.norm(loc = mu , scale = sigma)\n",
    "x = X.rvs(N)\n",
    "sns.histplot(x)\n",
    "\n",
    "# Please check this page for more information: \n",
    "# https://docs.scipy.org/doc/scipy/reference/generated/scipy.stats.norm.html"
   ]
  },
  {
   "attachments": {},
   "cell_type": "markdown",
   "id": "e6557b68",
   "metadata": {},
   "source": [
    "### 2a (3 points)\n",
    "\n",
    "As discussed in the previous lecture, we can use the bootstrap technique to find the confidence interval. In this exersice, we are going to estimate the confidence interval using bootstrap technique. For this we use the bootstrap function from the scipy.stats module.\n",
    "\n",
    "Given $N$ samples and a confidence level of 0.95, the scipy bootstrap function does the following steps to calculate the confidence interval:\n",
    "1. Randomly select $N$ samples with replacement from the given samples. Sampling with replacement allows us to generate different batches of samples with size $N$ from a single set.\n",
    "2. Calculate the mean of the $N$ selected samples.\n",
    "3. Repeat steps 1 and 2 for a total of $k$ times and store the means in a vector.\n",
    "4. Calculate the 2.5th and 97.5th percentiles of the means vector and store them in the 'CI' variable.\n",
    "\n",
    "This function calculates the confidence interval of a given statistic, such as mean or median. Let's use the scipy bootstrap function to estimate the confidence interval and store the function output in 'bootstrap_ci' variable. Note that we are estimating the 'mean' and using the 'percentile' method.\n",
    "Please visit [this](https://docs.scipy.org/doc/scipy/reference/generated/scipy.stats.bootstrap.html) website for further information."
   ]
  },
  {
   "attachments": {},
   "cell_type": "markdown",
   "id": "0218c537",
   "metadata": {},
   "source": [
    "```\n",
    "BEGIN QUESTION\n",
    "name: Question 2a      # (required) the path to a requirements.txt file\n",
    "manual: false     # whether this is a manually-graded question\n",
    "points: 3      # how many points this question is worth; defaults to 1 internally\n",
    "check_cell: true  # whether to include a check cell after this question (for autograded questions only)\n",
    "```"
   ]
  },
  {
   "cell_type": "code",
   "execution_count": 11,
   "id": "3a058493",
   "metadata": {},
   "outputs": [
    {
     "name": "stdout",
     "output_type": "stream",
     "text": [
      "The 0.95 confidence interval for N=400 is: [-0.141, 0.073].\n"
     ]
    }
   ],
   "source": [
    "from scipy.stats import bootstrap\n",
    "import numpy as np\n",
    "\n",
    "k = 50\n",
    "confidence_level = 0.95\n",
    "np.random.seed(0)\n",
    "\n",
    "# BEGIN SOLUTION\n",
    "data = (x,)\n",
    "bootstrap_ci = bootstrap(data, np.mean, n_resamples = k,\n",
    "                         confidence_level= confidence_level,\n",
    "                         method='percentile')\n",
    "# END SOLUTION\n",
    "\n",
    "CI_scipy = [bootstrap_ci.confidence_interval[0], bootstrap_ci.confidence_interval[1]]\n",
    "print(\"The {} confidence interval for N={} is: [{:.3f}, {:.3f}].\".format(confidence_level, N,CI_scipy[0], CI_scipy[1]))"
   ]
  },
  {
   "cell_type": "code",
   "execution_count": 12,
   "id": "508777a3",
   "metadata": {},
   "outputs": [],
   "source": [
    "## test ##\n",
    "assert_equal(len(CI_scipy), 2)\n",
    "assert_almost_equal(CI_scipy[1] - CI_scipy[0], 0.21 , places=2)\n",
    "assert_almost_equal(np.std(CI_scipy) , 0.107 , places=2)"
   ]
  },
  {
   "attachments": {},
   "cell_type": "markdown",
   "id": "58d5cd39",
   "metadata": {},
   "source": [
    "### 2b (1 points)\n",
    "Compute the confidence interval for $N = 4000$ (instead of 400) and store the function output in 'bootstrap_ci_4000'."
   ]
  },
  {
   "attachments": {},
   "cell_type": "markdown",
   "id": "0431fc28",
   "metadata": {},
   "source": [
    "```\n",
    "BEGIN QUESTION\n",
    "name: Question 2b      # (required) the path to a requirements.txt file\n",
    "manual: false     # whether this is a manually-graded question\n",
    "points: 1      # how many points this question is worth; defaults to 1 internally\n",
    "check_cell: true  # whether to include a check cell after this question (for autograded questions only)\n",
    "```"
   ]
  },
  {
   "cell_type": "code",
   "execution_count": 13,
   "id": "b9d51019",
   "metadata": {},
   "outputs": [
    {
     "name": "stdout",
     "output_type": "stream",
     "text": [
      "The 0.95 confidence interval for N=4000 is: [-0.049, 0.006].\n"
     ]
    },
    {
     "data": {
      "image/png": "[encoded data removed]",
      "text/plain": [
       "<Figure size 432x288 with 1 Axes>"
      ]
     },
     "metadata": {
      "needs_background": "light"
     },
     "output_type": "display_data"
    }
   ],
   "source": [
    "from scipy.stats import bootstrap\n",
    "import numpy as np\n",
    "\n",
    "mu = 0.0\n",
    "sigma = 1.0\n",
    "N = 4000 # previously 400\n",
    "\n",
    "np.random.seed(0)\n",
    "X = stats.norm(loc = mu , scale = sigma)\n",
    "x = X.rvs(N)\n",
    "sns.histplot(x)\n",
    "\n",
    "k = 50\n",
    "confidence_level = 0.95\n",
    "\n",
    "# BEGIN SOLUTION\n",
    "data = (x,)\n",
    "bootstrap_ci_4000 = bootstrap(data, np.mean, n_resamples = k,\n",
    "                         confidence_level= confidence_level,\n",
    "                         method='percentile')\n",
    "# END SOLUTION\n",
    "\n",
    "CI_scipy_4000 = [bootstrap_ci_4000.confidence_interval[0], bootstrap_ci_4000.confidence_interval[1]]\n",
    "print(\"The {} confidence interval for N={} is: [{:.3f}, {:.3f}].\".format(confidence_level,\n",
    "                                                                         N,CI_scipy_4000[0],\n",
    "                                                                         CI_scipy_4000[1]))"
   ]
  },
  {
   "cell_type": "code",
   "execution_count": 14,
   "id": "36fc5454",
   "metadata": {},
   "outputs": [],
   "source": [
    "## test ##\n",
    "assert_equal(len(CI_scipy_4000), 2)\n",
    "assert_almost_equal(CI_scipy_4000[1] - CI_scipy_4000[0], 0.054 , places=2)\n",
    "assert_almost_equal(np.std(CI_scipy_4000) , 0.027 , places=2)"
   ]
  },
  {
   "attachments": {},
   "cell_type": "markdown",
   "id": "adfcb461",
   "metadata": {},
   "source": [
    "Does the confidencence interval shrinke by increasing the number of samples ($N$)? Why?"
   ]
  },
  {
   "cell_type": "markdown",
   "id": "7c325782",
   "metadata": {},
   "source": []
  },
  {
   "attachments": {},
   "cell_type": "markdown",
   "id": "7b5a1dbd",
   "metadata": {
    "nbgrader": {
     "grade": false,
     "grade_id": "cell-a7768c9418cb5405",
     "locked": true,
     "schema_version": 3,
     "solution": false,
     "task": false
    }
   },
   "source": [
    "### 2c (3 points)\n",
    "\n",
    "In this exercise, we will implement the bootstrap technique from scratch to estimate the confidence interval of a given set of samples. Please implement the steps explained in question 2a. This will allow us to compare our implementation with the one provided by scipy.stats module. Please store the estimated confidence interval in the 'CI' variable."
   ]
  },
  {
   "attachments": {},
   "cell_type": "markdown",
   "id": "03987b33",
   "metadata": {},
   "source": [
    "```\n",
    "BEGIN QUESTION\n",
    "name: Question 2c      # (required) the path to a requirements.txt file\n",
    "manual: false     # whether this is a manually-graded question\n",
    "points: 3      # how many points this question is worth; defaults to 1 internally\n",
    "check_cell: true  # whether to include a check cell after this question (for autograded questions only)\n",
    "```"
   ]
  },
  {
   "cell_type": "code",
   "execution_count": 15,
   "id": "97d1b6e5",
   "metadata": {
    "nbgrader": {
     "grade": false,
     "grade_id": "cell-5b337223591e2e4e",
     "locked": false,
     "schema_version": 3,
     "solution": true,
     "task": false
    }
   },
   "outputs": [
    {
     "name": "stdout",
     "output_type": "stream",
     "text": [
      "The 0.95 confidence interval for N=4000 is: [-0.049, 0.006].\n"
     ]
    }
   ],
   "source": [
    "N = 4000 # previously 400\n",
    "\n",
    "np.random.seed(0)\n",
    "X = stats.norm(loc = mu , scale = sigma)\n",
    "x = X.rvs(N)\n",
    "\n",
    "k = 50\n",
    "confidence_level = 0.95\n",
    "\n",
    "# BEGIN SOLUTION\n",
    "values = [np.random.choice(x,size=len(x),replace=True).mean() for i in range(k)] \n",
    "CI = np.percentile(values,[100*(1-confidence_level)/2,100*(1-(1-confidence_level)/2)]) \n",
    "# END SOLUTION\n",
    "\n",
    "print(\"The {} confidence interval for N={} is: [{:.3f}, {:.3f}].\".format(confidence_level, N,CI[0], CI[1]))"
   ]
  },
  {
   "cell_type": "code",
   "execution_count": 16,
   "id": "996c6be2",
   "metadata": {
    "nbgrader": {
     "grade": true,
     "grade_id": "cell-6f0a7cf4470fcd2c",
     "locked": true,
     "points": 6,
     "schema_version": 3,
     "solution": false,
     "task": false
    }
   },
   "outputs": [],
   "source": [
    "## test ##\n",
    "assert_equal(len(CI), 2)\n",
    "assert_almost_equal(CI[1] - CI[0], 0.054 , places=2)\n",
    "assert_almost_equal(np.std(CI) , 0.027 , places=2)"
   ]
  }
 ],
 "metadata": {
  "celltoolbar": "Create Assignment",
  "kernelspec": {
   "display_name": "nf_torch",
   "language": "python",
   "name": "python3"
  },
  "language_info": {
   "codemirror_mode": {
    "name": "ipython",
    "version": 3
   },
   "file_extension": ".py",
   "mimetype": "text/x-python",
   "name": "python",
   "nbconvert_exporter": "python",
   "pygments_lexer": "ipython3",
   "version": "3.8.12"
  },
  "vscode": {
   "interpreter": {
    "hash": "07cb0c0be5d5c09ece9af089e9de2ad5458cdd62d0537c1d9b85ed67c101dd7b"
   }
  }
 },
 "nbformat": 4,
 "nbformat_minor": 5
}
