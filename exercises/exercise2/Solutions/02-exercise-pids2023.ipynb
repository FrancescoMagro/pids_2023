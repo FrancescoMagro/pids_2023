{
 "cells": [
  {
   "cell_type": "markdown",
   "id": "3c5e67b8",
   "metadata": {},
   "source": [
    "```\n",
    "BEGIN ASSIGNMENT\n",
    "requirements: requirements.txt\n",
    "init_cell: true\n",
    "export_cell: true\n",
    "files:\n",
    "    - billboard_intermediate.csv\n",
    "    - population_data.csv\n",
    "    - height_2022.csv\n",
    "generate:\n",
    "    token: ''\n",
    "    course_id: 62982        # required\n",
    "    assignment_id: 2    # required\n",
    "    filtering: true        # true is the default\n",
    "    show_stdout: true\n",
    "    show_hidden: true\n",
    "    show_all_public: true\n",
    "    visibility: visible\n",
    "```"
   ]
  },
  {
   "cell_type": "code",
   "execution_count": 1,
   "id": "af6d78cf",
   "metadata": {},
   "outputs": [],
   "source": [
    "import numpy as np\n",
    "from pandas import DataFrame as df\n",
    "from nose.tools import assert_is_instance, assert_equal, assert_almost_equal, assert_true\n",
    "import otter\n",
    "grader = otter.Notebook()"
   ]
  },
  {
   "cell_type": "markdown",
   "id": "7bf58660",
   "metadata": {},
   "source": [
    "# Exercise sheet 2\n",
    "**Hello everyone!**\n",
    "\n",
    "This is the first graded exercise sheet. <br>\n",
    "**Points: 15 **\n",
    "\n",
    "Topics of this exercise sheet are:\n",
    "* Work with Jupyter\n",
    "* See autograding\n",
    "* Lecture 2: Tidy data, pandas\n",
    "\n",
    "Please let us know if you have questions or problems! <br>\n",
    "Contact us during the exercise session, on [ADAM](https://adam.unibas.ch/goto_adam_crs_1266890.html), [Piazza](https://piazza.com/unibas.ch/spring2023/63982), or [via email](https://sada.dmi.unibas.ch/en/teaching/pids23).\n",
    "\n",
    "Your notebook will be automatically graded using gradescope. Before the exercise session, you should have received an email saying that you were registered to a course in gradescope. If this is not the case, please contact us.\n",
    "\n",
    "The sheet is released before the exercise session on Tuesday. You have until the next exercise session on Tuesday to submit this sheet. Most of the questions of the exercise sheet can be handle during the session.\n",
    "\n",
    "**Handout date**: 2023/03/7 <br>\n",
    "**Submission date**: 2023/03/14 (before 4pm)<br>\n",
    "**Discussion date**: 2023/03/14"
   ]
  },
  {
   "cell_type": "markdown",
   "id": "99709f63",
   "metadata": {},
   "source": [
    "## 1 - Tidy data (9 points)\n",
    "\n",
    "### A (2 points)\n",
    "We will use data published by the [World Bank](https://data.worldbank.org/indicator/SP.POP.TOTL) about population in countries."
   ]
  },
  {
   "cell_type": "code",
   "execution_count": 2,
   "id": "9ce1ea88",
   "metadata": {},
   "outputs": [
    {
     "data": {
      "text/html": [
       "<div>\n",
       "<style scoped>\n",
       "    .dataframe tbody tr th:only-of-type {\n",
       "        vertical-align: middle;\n",
       "    }\n",
       "\n",
       "    .dataframe tbody tr th {\n",
       "        vertical-align: top;\n",
       "    }\n",
       "\n",
       "    .dataframe thead th {\n",
       "        text-align: right;\n",
       "    }\n",
       "</style>\n",
       "<table border=\"1\" class=\"dataframe\">\n",
       "  <thead>\n",
       "    <tr style=\"text-align: right;\">\n",
       "      <th></th>\n",
       "      <th>Country Name</th>\n",
       "      <th>Country Code</th>\n",
       "      <th>Indicator Name</th>\n",
       "      <th>Indicator Code</th>\n",
       "      <th>1960</th>\n",
       "      <th>1961</th>\n",
       "      <th>1962</th>\n",
       "      <th>1963</th>\n",
       "      <th>1964</th>\n",
       "      <th>1965</th>\n",
       "      <th>...</th>\n",
       "      <th>2011</th>\n",
       "      <th>2012</th>\n",
       "      <th>2013</th>\n",
       "      <th>2014</th>\n",
       "      <th>2015</th>\n",
       "      <th>2016</th>\n",
       "      <th>2017</th>\n",
       "      <th>2018</th>\n",
       "      <th>2019</th>\n",
       "      <th>2020</th>\n",
       "    </tr>\n",
       "  </thead>\n",
       "  <tbody>\n",
       "    <tr>\n",
       "      <th>0</th>\n",
       "      <td>Aruba</td>\n",
       "      <td>ABW</td>\n",
       "      <td>Population, total</td>\n",
       "      <td>SP.POP.TOTL</td>\n",
       "      <td>54208.0</td>\n",
       "      <td>55434.0</td>\n",
       "      <td>56234.0</td>\n",
       "      <td>56699.0</td>\n",
       "      <td>57029.0</td>\n",
       "      <td>57357.0</td>\n",
       "      <td>...</td>\n",
       "      <td>102050.0</td>\n",
       "      <td>102565.0</td>\n",
       "      <td>103165.0</td>\n",
       "      <td>103776.0</td>\n",
       "      <td>104339.0</td>\n",
       "      <td>104865.0</td>\n",
       "      <td>105361.0</td>\n",
       "      <td>105846.0</td>\n",
       "      <td>106310.0</td>\n",
       "      <td>106766.0</td>\n",
       "    </tr>\n",
       "    <tr>\n",
       "      <th>1</th>\n",
       "      <td>Africa Eastern and Southern</td>\n",
       "      <td>AFE</td>\n",
       "      <td>Population, total</td>\n",
       "      <td>SP.POP.TOTL</td>\n",
       "      <td>130836765.0</td>\n",
       "      <td>134159786.0</td>\n",
       "      <td>137614644.0</td>\n",
       "      <td>141202036.0</td>\n",
       "      <td>144920186.0</td>\n",
       "      <td>148769974.0</td>\n",
       "      <td>...</td>\n",
       "      <td>532760424.0</td>\n",
       "      <td>547482863.0</td>\n",
       "      <td>562601578.0</td>\n",
       "      <td>578075373.0</td>\n",
       "      <td>593871847.0</td>\n",
       "      <td>609978946.0</td>\n",
       "      <td>626392880.0</td>\n",
       "      <td>643090131.0</td>\n",
       "      <td>660046272.0</td>\n",
       "      <td>677243299.0</td>\n",
       "    </tr>\n",
       "    <tr>\n",
       "      <th>2</th>\n",
       "      <td>Afghanistan</td>\n",
       "      <td>AFG</td>\n",
       "      <td>Population, total</td>\n",
       "      <td>SP.POP.TOTL</td>\n",
       "      <td>8996967.0</td>\n",
       "      <td>9169406.0</td>\n",
       "      <td>9351442.0</td>\n",
       "      <td>9543200.0</td>\n",
       "      <td>9744772.0</td>\n",
       "      <td>9956318.0</td>\n",
       "      <td>...</td>\n",
       "      <td>30117411.0</td>\n",
       "      <td>31161378.0</td>\n",
       "      <td>32269592.0</td>\n",
       "      <td>33370804.0</td>\n",
       "      <td>34413603.0</td>\n",
       "      <td>35383028.0</td>\n",
       "      <td>36296111.0</td>\n",
       "      <td>37171922.0</td>\n",
       "      <td>38041757.0</td>\n",
       "      <td>38928341.0</td>\n",
       "    </tr>\n",
       "    <tr>\n",
       "      <th>3</th>\n",
       "      <td>Africa Western and Central</td>\n",
       "      <td>AFW</td>\n",
       "      <td>Population, total</td>\n",
       "      <td>SP.POP.TOTL</td>\n",
       "      <td>96396419.0</td>\n",
       "      <td>98407221.0</td>\n",
       "      <td>100506960.0</td>\n",
       "      <td>102691339.0</td>\n",
       "      <td>104953470.0</td>\n",
       "      <td>107289875.0</td>\n",
       "      <td>...</td>\n",
       "      <td>360285439.0</td>\n",
       "      <td>370243017.0</td>\n",
       "      <td>380437896.0</td>\n",
       "      <td>390882979.0</td>\n",
       "      <td>401586651.0</td>\n",
       "      <td>412551299.0</td>\n",
       "      <td>423769930.0</td>\n",
       "      <td>435229381.0</td>\n",
       "      <td>446911598.0</td>\n",
       "      <td>458803476.0</td>\n",
       "    </tr>\n",
       "    <tr>\n",
       "      <th>4</th>\n",
       "      <td>Angola</td>\n",
       "      <td>AGO</td>\n",
       "      <td>Population, total</td>\n",
       "      <td>SP.POP.TOTL</td>\n",
       "      <td>5454938.0</td>\n",
       "      <td>5531451.0</td>\n",
       "      <td>5608499.0</td>\n",
       "      <td>5679409.0</td>\n",
       "      <td>5734995.0</td>\n",
       "      <td>5770573.0</td>\n",
       "      <td>...</td>\n",
       "      <td>24220660.0</td>\n",
       "      <td>25107925.0</td>\n",
       "      <td>26015786.0</td>\n",
       "      <td>26941773.0</td>\n",
       "      <td>27884380.0</td>\n",
       "      <td>28842482.0</td>\n",
       "      <td>29816769.0</td>\n",
       "      <td>30809787.0</td>\n",
       "      <td>31825299.0</td>\n",
       "      <td>32866268.0</td>\n",
       "    </tr>\n",
       "  </tbody>\n",
       "</table>\n",
       "<p>5 rows × 65 columns</p>\n",
       "</div>"
      ],
      "text/plain": [
       "                  Country Name Country Code     Indicator Name Indicator Code  \\\n",
       "0                        Aruba          ABW  Population, total    SP.POP.TOTL   \n",
       "1  Africa Eastern and Southern          AFE  Population, total    SP.POP.TOTL   \n",
       "2                  Afghanistan          AFG  Population, total    SP.POP.TOTL   \n",
       "3   Africa Western and Central          AFW  Population, total    SP.POP.TOTL   \n",
       "4                       Angola          AGO  Population, total    SP.POP.TOTL   \n",
       "\n",
       "          1960         1961         1962         1963         1964  \\\n",
       "0      54208.0      55434.0      56234.0      56699.0      57029.0   \n",
       "1  130836765.0  134159786.0  137614644.0  141202036.0  144920186.0   \n",
       "2    8996967.0    9169406.0    9351442.0    9543200.0    9744772.0   \n",
       "3   96396419.0   98407221.0  100506960.0  102691339.0  104953470.0   \n",
       "4    5454938.0    5531451.0    5608499.0    5679409.0    5734995.0   \n",
       "\n",
       "          1965  ...         2011         2012         2013         2014  \\\n",
       "0      57357.0  ...     102050.0     102565.0     103165.0     103776.0   \n",
       "1  148769974.0  ...  532760424.0  547482863.0  562601578.0  578075373.0   \n",
       "2    9956318.0  ...   30117411.0   31161378.0   32269592.0   33370804.0   \n",
       "3  107289875.0  ...  360285439.0  370243017.0  380437896.0  390882979.0   \n",
       "4    5770573.0  ...   24220660.0   25107925.0   26015786.0   26941773.0   \n",
       "\n",
       "          2015         2016         2017         2018         2019  \\\n",
       "0     104339.0     104865.0     105361.0     105846.0     106310.0   \n",
       "1  593871847.0  609978946.0  626392880.0  643090131.0  660046272.0   \n",
       "2   34413603.0   35383028.0   36296111.0   37171922.0   38041757.0   \n",
       "3  401586651.0  412551299.0  423769930.0  435229381.0  446911598.0   \n",
       "4   27884380.0   28842482.0   29816769.0   30809787.0   31825299.0   \n",
       "\n",
       "          2020  \n",
       "0     106766.0  \n",
       "1  677243299.0  \n",
       "2   38928341.0  \n",
       "3  458803476.0  \n",
       "4   32866268.0  \n",
       "\n",
       "[5 rows x 65 columns]"
      ]
     },
     "execution_count": 2,
     "metadata": {},
     "output_type": "execute_result"
    }
   ],
   "source": [
    "import pandas as pd\n",
    "\n",
    "population = pd.read_csv(\"population_data.csv\", skiprows=3).dropna(how='all', axis=1)\n",
    "population.head()"
   ]
  },
  {
   "cell_type": "markdown",
   "id": "009b4f7a",
   "metadata": {},
   "source": [
    "**Question 1**:\n",
    "Manipulate the dataframe \"population\" to be tidy. Currently, column headers are values, not variable names.\n",
    "\n",
    "* Make a new dataframe \"population_melted\" that contains the same data as \"population\", but\n",
    "    * it has a new column \"Year\" containing the year of the observation\n",
    "    * it has a new column \"Population\" containing the number of inhabitants of the country in this year\n",
    "    * otherwise, it has exactly the same columns and data as \"population\"\n",
    "*Hint*: you can use 'pd.melt'."
   ]
  },
  {
   "cell_type": "markdown",
   "id": "55e71f5d",
   "metadata": {},
   "source": [
    "```\n",
    "BEGIN QUESTION\n",
    "name: Question 1        # (required) the path to a requirements.txt file\n",
    "manual: false     # whether this is a manually-graded question\n",
    "points: 1      # how many points this question is worth; defaults to 1 internally\n",
    "check_cell: true  # whether to include a check cell after this question (for autograded questions only)\n",
    "```"
   ]
  },
  {
   "cell_type": "code",
   "execution_count": 3,
   "id": "17dfeaba",
   "metadata": {},
   "outputs": [],
   "source": [
    "population_melted = pd.melt(frame=population, # SOLUTION\n",
    "# BEGIN SOLUTION\n",
    "                            id_vars=[\"Country Name\", \"Country Code\", \"Indicator Name\", \"Indicator Code\"], \n",
    "                            value_vars=population.columns[4:], # melt from 4th column (so only years)\n",
    "                            var_name=\"Year\", \n",
    "                            value_name=\"Population\")\n",
    "# END SOLUTION"
   ]
  },
  {
   "cell_type": "code",
   "execution_count": 4,
   "id": "72f596d6",
   "metadata": {
    "nbgrader": {
     "grade": false,
     "grade_id": "cell-8425c8e5ab3ddda3",
     "locked": false,
     "schema_version": 3,
     "solution": true,
     "task": false
    }
   },
   "outputs": [],
   "source": [
    "## test ##\n",
    "assert_equal(len(population_melted['Year']), 16226)"
   ]
  },
  {
   "cell_type": "code",
   "execution_count": 5,
   "id": "cc5a3f8d",
   "metadata": {},
   "outputs": [],
   "source": [
    "## test ##\n",
    "assert_equal(len(population_melted['Country Name']),16226)"
   ]
  },
  {
   "cell_type": "code",
   "execution_count": 6,
   "id": "58d747b6",
   "metadata": {},
   "outputs": [],
   "source": [
    "## test ##\n",
    "assert_is_instance(population_melted,pd.DataFrame)"
   ]
  },
  {
   "cell_type": "code",
   "execution_count": 7,
   "id": "ca3f2bc5",
   "metadata": {},
   "outputs": [],
   "source": [
    "## test ##\n",
    "tmp = population_melted[(population_melted[\"Country Code\"]=='ABW') & (population_melted[\"Year\"]=='1965')]\n",
    "assert_equal(np.squeeze(tmp['Population'].values), 57357)"
   ]
  },
  {
   "cell_type": "code",
   "execution_count": 8,
   "id": "74b4f19e",
   "metadata": {},
   "outputs": [],
   "source": [
    "## test ##\n",
    "assert_equal(population_melted.loc[(population_melted[\"Country Name\"] == \"Switzerland\") & (population_melted[\"Year\"] == \"1960\")][\"Population\"].values[0], 5327827.0)"
   ]
  },
  {
   "cell_type": "markdown",
   "id": "21735556",
   "metadata": {},
   "source": [
    "**Question 2**: Sort the dataframe population_melted by \"Country Name\" and \"Year\""
   ]
  },
  {
   "cell_type": "markdown",
   "id": "9df5c142",
   "metadata": {},
   "source": [
    "```\n",
    "BEGIN QUESTION\n",
    "name: Question 2        # (required) the path to a requirements.txt file\n",
    "manual: false     # whether this is a manually-graded question\n",
    "points: 1      # how many points this question is worth; defaults to 1 internally\n",
    "check_cell: false  # whether to include a check cell after this question (for autograded questions only)\n",
    "```"
   ]
  },
  {
   "cell_type": "code",
   "execution_count": 9,
   "id": "2b638efc",
   "metadata": {},
   "outputs": [],
   "source": [
    "population_melted_sort = population_melted.sort_values(by=[\"Country Name\", \"Year\"]) # SOLUTION"
   ]
  },
  {
   "cell_type": "code",
   "execution_count": 10,
   "id": "939f8f93",
   "metadata": {},
   "outputs": [],
   "source": [
    "## test ##\n",
    "assert_true(df.equals(population_melted_sort,pd.melt(frame=population, \n",
    "                            id_vars=[\"Country Name\", \"Country Code\", \"Indicator Name\", \"Indicator Code\"], \n",
    "                            value_vars=population.columns[4:], # melt from 4th column (so only years)\n",
    "                            var_name=\"Year\", \n",
    "                            value_name=\"Population\").sort_values(by=[\"Country Name\", \"Year\"])))"
   ]
  },
  {
   "cell_type": "markdown",
   "id": "f4f52eeb",
   "metadata": {},
   "source": [
    "### B (3 points)\n",
    "We will use data about the average height in countries around the world. It comes from [Kaggle](https://www.kaggle.com/majyhain/height-of-male-and-female-by-country-2022)."
   ]
  },
  {
   "cell_type": "code",
   "execution_count": 11,
   "id": "9083b5ec",
   "metadata": {},
   "outputs": [
    {
     "data": {
      "text/html": [
       "<div>\n",
       "<style scoped>\n",
       "    .dataframe tbody tr th:only-of-type {\n",
       "        vertical-align: middle;\n",
       "    }\n",
       "\n",
       "    .dataframe tbody tr th {\n",
       "        vertical-align: top;\n",
       "    }\n",
       "\n",
       "    .dataframe thead th {\n",
       "        text-align: right;\n",
       "    }\n",
       "</style>\n",
       "<table border=\"1\" class=\"dataframe\">\n",
       "  <thead>\n",
       "    <tr style=\"text-align: right;\">\n",
       "      <th></th>\n",
       "      <th>Rank</th>\n",
       "      <th>Country Name</th>\n",
       "      <th>Male Height in Cm</th>\n",
       "      <th>Female Height in Cm</th>\n",
       "      <th>Male Height in Ft</th>\n",
       "      <th>Female Height in Ft</th>\n",
       "    </tr>\n",
       "  </thead>\n",
       "  <tbody>\n",
       "    <tr>\n",
       "      <th>0</th>\n",
       "      <td>1</td>\n",
       "      <td>Netherlands</td>\n",
       "      <td>183.78</td>\n",
       "      <td>170.36</td>\n",
       "      <td>6.03</td>\n",
       "      <td>5.59</td>\n",
       "    </tr>\n",
       "    <tr>\n",
       "      <th>1</th>\n",
       "      <td>2</td>\n",
       "      <td>Montenegro</td>\n",
       "      <td>183.30</td>\n",
       "      <td>169.96</td>\n",
       "      <td>6.01</td>\n",
       "      <td>5.58</td>\n",
       "    </tr>\n",
       "    <tr>\n",
       "      <th>2</th>\n",
       "      <td>3</td>\n",
       "      <td>Estonia</td>\n",
       "      <td>182.79</td>\n",
       "      <td>168.66</td>\n",
       "      <td>6.00</td>\n",
       "      <td>5.53</td>\n",
       "    </tr>\n",
       "    <tr>\n",
       "      <th>3</th>\n",
       "      <td>4</td>\n",
       "      <td>Bosnia and Herzegovina</td>\n",
       "      <td>182.47</td>\n",
       "      <td>167.47</td>\n",
       "      <td>5.99</td>\n",
       "      <td>5.49</td>\n",
       "    </tr>\n",
       "    <tr>\n",
       "      <th>4</th>\n",
       "      <td>5</td>\n",
       "      <td>Iceland</td>\n",
       "      <td>182.10</td>\n",
       "      <td>168.91</td>\n",
       "      <td>5.97</td>\n",
       "      <td>5.54</td>\n",
       "    </tr>\n",
       "    <tr>\n",
       "      <th>...</th>\n",
       "      <td>...</td>\n",
       "      <td>...</td>\n",
       "      <td>...</td>\n",
       "      <td>...</td>\n",
       "      <td>...</td>\n",
       "      <td>...</td>\n",
       "    </tr>\n",
       "    <tr>\n",
       "      <th>193</th>\n",
       "      <td>194</td>\n",
       "      <td>Guatemala</td>\n",
       "      <td>164.36</td>\n",
       "      <td>150.91</td>\n",
       "      <td>5.39</td>\n",
       "      <td>4.95</td>\n",
       "    </tr>\n",
       "    <tr>\n",
       "      <th>194</th>\n",
       "      <td>195</td>\n",
       "      <td>Mozambique</td>\n",
       "      <td>164.30</td>\n",
       "      <td>155.42</td>\n",
       "      <td>5.39</td>\n",
       "      <td>5.10</td>\n",
       "    </tr>\n",
       "    <tr>\n",
       "      <th>195</th>\n",
       "      <td>196</td>\n",
       "      <td>Papua New Guinea</td>\n",
       "      <td>163.10</td>\n",
       "      <td>156.89</td>\n",
       "      <td>5.35</td>\n",
       "      <td>5.15</td>\n",
       "    </tr>\n",
       "    <tr>\n",
       "      <th>196</th>\n",
       "      <td>197</td>\n",
       "      <td>Solomon Islands</td>\n",
       "      <td>163.07</td>\n",
       "      <td>156.79</td>\n",
       "      <td>5.35</td>\n",
       "      <td>5.14</td>\n",
       "    </tr>\n",
       "    <tr>\n",
       "      <th>197</th>\n",
       "      <td>198</td>\n",
       "      <td>Laos</td>\n",
       "      <td>162.78</td>\n",
       "      <td>153.10</td>\n",
       "      <td>5.34</td>\n",
       "      <td>5.02</td>\n",
       "    </tr>\n",
       "  </tbody>\n",
       "</table>\n",
       "<p>198 rows × 6 columns</p>\n",
       "</div>"
      ],
      "text/plain": [
       "     Rank            Country Name  Male Height in Cm  Female Height in Cm  \\\n",
       "0       1             Netherlands             183.78               170.36   \n",
       "1       2              Montenegro             183.30               169.96   \n",
       "2       3                 Estonia             182.79               168.66   \n",
       "3       4  Bosnia and Herzegovina             182.47               167.47   \n",
       "4       5                 Iceland             182.10               168.91   \n",
       "..    ...                     ...                ...                  ...   \n",
       "193   194               Guatemala             164.36               150.91   \n",
       "194   195              Mozambique             164.30               155.42   \n",
       "195   196        Papua New Guinea             163.10               156.89   \n",
       "196   197         Solomon Islands             163.07               156.79   \n",
       "197   198                    Laos             162.78               153.10   \n",
       "\n",
       "     Male Height in Ft  Female Height in Ft  \n",
       "0                 6.03                 5.59  \n",
       "1                 6.01                 5.58  \n",
       "2                 6.00                 5.53  \n",
       "3                 5.99                 5.49  \n",
       "4                 5.97                 5.54  \n",
       "..                 ...                  ...  \n",
       "193               5.39                 4.95  \n",
       "194               5.39                 5.10  \n",
       "195               5.35                 5.15  \n",
       "196               5.35                 5.14  \n",
       "197               5.34                 5.02  \n",
       "\n",
       "[198 rows x 6 columns]"
      ]
     },
     "execution_count": 11,
     "metadata": {},
     "output_type": "execute_result"
    }
   ],
   "source": [
    "height = pd.read_csv(\"height_2022.csv\")\n",
    "height.head(-1)"
   ]
  },
  {
   "cell_type": "markdown",
   "id": "c28ea9b8",
   "metadata": {},
   "source": [
    "**Question 3**: Make a new dataframe \"height_tidy\" where you removed the columns \"Male Height in Ft\", \"Female Height in Ft\""
   ]
  },
  {
   "cell_type": "markdown",
   "id": "e593c4a0",
   "metadata": {},
   "source": [
    "```\n",
    "BEGIN QUESTION\n",
    "name: Question 3        # (required) the path to a requirements.txt file\n",
    "manual: false     # whether this is a manually-graded question\n",
    "points: 1      # how many points this question is worth; defaults to 1 internally\n",
    "check_cell: true  # whether to include a check cell after this question (for autograded questions only)\n",
    "```"
   ]
  },
  {
   "cell_type": "code",
   "execution_count": 12,
   "id": "caee8587",
   "metadata": {},
   "outputs": [],
   "source": [
    "height_tidy = height.drop([\"Male Height in Ft\", \"Female Height in Ft\"], axis=1) # SOLUTION"
   ]
  },
  {
   "cell_type": "code",
   "execution_count": 13,
   "id": "568f6366",
   "metadata": {},
   "outputs": [],
   "source": [
    "## test ##\n",
    "if 'Male Height in Ft' in height_tidy:\n",
    "    assert_true(False)"
   ]
  },
  {
   "cell_type": "code",
   "execution_count": 14,
   "id": "d4926e62",
   "metadata": {},
   "outputs": [],
   "source": [
    "## test ##\n",
    "if 'Female Height in Ft' in height_tidy:\n",
    "    assert_true(False)"
   ]
  },
  {
   "cell_type": "code",
   "execution_count": 15,
   "id": "c0241271",
   "metadata": {},
   "outputs": [
    {
     "data": {
      "text/html": [
       "<div>\n",
       "<style scoped>\n",
       "    .dataframe tbody tr th:only-of-type {\n",
       "        vertical-align: middle;\n",
       "    }\n",
       "\n",
       "    .dataframe tbody tr th {\n",
       "        vertical-align: top;\n",
       "    }\n",
       "\n",
       "    .dataframe thead th {\n",
       "        text-align: right;\n",
       "    }\n",
       "</style>\n",
       "<table border=\"1\" class=\"dataframe\">\n",
       "  <thead>\n",
       "    <tr style=\"text-align: right;\">\n",
       "      <th></th>\n",
       "      <th>Rank</th>\n",
       "      <th>Country Name</th>\n",
       "      <th>Male Height in Cm</th>\n",
       "      <th>Female Height in Cm</th>\n",
       "    </tr>\n",
       "  </thead>\n",
       "  <tbody>\n",
       "    <tr>\n",
       "      <th>0</th>\n",
       "      <td>1</td>\n",
       "      <td>Netherlands</td>\n",
       "      <td>183.78</td>\n",
       "      <td>170.36</td>\n",
       "    </tr>\n",
       "    <tr>\n",
       "      <th>1</th>\n",
       "      <td>2</td>\n",
       "      <td>Montenegro</td>\n",
       "      <td>183.30</td>\n",
       "      <td>169.96</td>\n",
       "    </tr>\n",
       "    <tr>\n",
       "      <th>2</th>\n",
       "      <td>3</td>\n",
       "      <td>Estonia</td>\n",
       "      <td>182.79</td>\n",
       "      <td>168.66</td>\n",
       "    </tr>\n",
       "    <tr>\n",
       "      <th>3</th>\n",
       "      <td>4</td>\n",
       "      <td>Bosnia and Herzegovina</td>\n",
       "      <td>182.47</td>\n",
       "      <td>167.47</td>\n",
       "    </tr>\n",
       "    <tr>\n",
       "      <th>4</th>\n",
       "      <td>5</td>\n",
       "      <td>Iceland</td>\n",
       "      <td>182.10</td>\n",
       "      <td>168.91</td>\n",
       "    </tr>\n",
       "  </tbody>\n",
       "</table>\n",
       "</div>"
      ],
      "text/plain": [
       "   Rank            Country Name  Male Height in Cm  Female Height in Cm\n",
       "0     1             Netherlands             183.78               170.36\n",
       "1     2              Montenegro             183.30               169.96\n",
       "2     3                 Estonia             182.79               168.66\n",
       "3     4  Bosnia and Herzegovina             182.47               167.47\n",
       "4     5                 Iceland             182.10               168.91"
      ]
     },
     "execution_count": 15,
     "metadata": {},
     "output_type": "execute_result"
    }
   ],
   "source": [
    "height_tidy.head()"
   ]
  },
  {
   "cell_type": "markdown",
   "id": "11745767",
   "metadata": {},
   "source": [
    "**Question 4**: Manipulate the dataframe \"height_tidy\" to be tidy. Currently, multiple variables are stored in one column.\n",
    "\n",
    "* Make a new dataframe \"height_melt\" that contains the same data as \"height_tidy\", but\n",
    "    * it has a new column \"Sex\" containing a single character \"M\" or \"F\" for \"male\"/\"female\"\n",
    "    * it has a new column \"Height in Cm\" containing data about the height in cm"
   ]
  },
  {
   "cell_type": "markdown",
   "id": "6f3aabf6",
   "metadata": {},
   "source": [
    "```\n",
    "BEGIN QUESTION\n",
    "name: Question 4        # (required) the path to a requirements.txt file\n",
    "manual: false     # whether this is a manually-graded question\n",
    "points: 2      # how many points this question is worth; defaults to 1 internally\n",
    "check_cell: true  # whether to include a check cell after this question (for autograded questions only)\n",
    "```"
   ]
  },
  {
   "cell_type": "code",
   "execution_count": 16,
   "id": "5970a8e7",
   "metadata": {
    "nbgrader": {
     "grade": false,
     "grade_id": "cell-b774d9d556851043",
     "locked": false,
     "schema_version": 3,
     "solution": true,
     "task": false
    }
   },
   "outputs": [
    {
     "data": {
      "text/html": [
       "<div>\n",
       "<style scoped>\n",
       "    .dataframe tbody tr th:only-of-type {\n",
       "        vertical-align: middle;\n",
       "    }\n",
       "\n",
       "    .dataframe tbody tr th {\n",
       "        vertical-align: top;\n",
       "    }\n",
       "\n",
       "    .dataframe thead th {\n",
       "        text-align: right;\n",
       "    }\n",
       "</style>\n",
       "<table border=\"1\" class=\"dataframe\">\n",
       "  <thead>\n",
       "    <tr style=\"text-align: right;\">\n",
       "      <th></th>\n",
       "      <th>Rank</th>\n",
       "      <th>Country Name</th>\n",
       "      <th>Sex</th>\n",
       "      <th>Height in Cm</th>\n",
       "    </tr>\n",
       "  </thead>\n",
       "  <tbody>\n",
       "    <tr>\n",
       "      <th>0</th>\n",
       "      <td>1</td>\n",
       "      <td>Netherlands</td>\n",
       "      <td>M</td>\n",
       "      <td>183.78</td>\n",
       "    </tr>\n",
       "    <tr>\n",
       "      <th>1</th>\n",
       "      <td>2</td>\n",
       "      <td>Montenegro</td>\n",
       "      <td>M</td>\n",
       "      <td>183.30</td>\n",
       "    </tr>\n",
       "    <tr>\n",
       "      <th>2</th>\n",
       "      <td>3</td>\n",
       "      <td>Estonia</td>\n",
       "      <td>M</td>\n",
       "      <td>182.79</td>\n",
       "    </tr>\n",
       "    <tr>\n",
       "      <th>3</th>\n",
       "      <td>4</td>\n",
       "      <td>Bosnia and Herzegovina</td>\n",
       "      <td>M</td>\n",
       "      <td>182.47</td>\n",
       "    </tr>\n",
       "    <tr>\n",
       "      <th>4</th>\n",
       "      <td>5</td>\n",
       "      <td>Iceland</td>\n",
       "      <td>M</td>\n",
       "      <td>182.10</td>\n",
       "    </tr>\n",
       "  </tbody>\n",
       "</table>\n",
       "</div>"
      ],
      "text/plain": [
       "   Rank            Country Name Sex  Height in Cm\n",
       "0     1             Netherlands   M        183.78\n",
       "1     2              Montenegro   M        183.30\n",
       "2     3                 Estonia   M        182.79\n",
       "3     4  Bosnia and Herzegovina   M        182.47\n",
       "4     5                 Iceland   M        182.10"
      ]
     },
     "execution_count": 16,
     "metadata": {},
     "output_type": "execute_result"
    }
   ],
   "source": [
    "height_melt = pd.melt(frame=height_tidy, # SOLUTION\n",
    "# BEGIN SOLUTION\n",
    "                      id_vars=[\"Rank\", \"Country Name\"], \n",
    "                      value_vars=height_tidy.columns[2:], # melt the height data in cm\n",
    "                      var_name=\"Sex\", \n",
    "                      value_name=\"Height in Cm\") \n",
    "# END SOLUTION\n",
    "\n",
    "# shrink the data on gender to one letter\n",
    "height_melt[\"Sex\"] = height_melt[\"Sex\"].str[0] # SOLUTION\n",
    "\n",
    "# show that it works\n",
    "height_melt.head(5)"
   ]
  },
  {
   "cell_type": "code",
   "execution_count": 17,
   "id": "43656528",
   "metadata": {},
   "outputs": [],
   "source": [
    "## test ##\n",
    "assert_true(isinstance(height_melt,pd.DataFrame))"
   ]
  },
  {
   "cell_type": "code",
   "execution_count": 18,
   "id": "741320cb",
   "metadata": {},
   "outputs": [],
   "source": [
    "## test ##\n",
    "assert_true(len(height_melt)== 398)"
   ]
  },
  {
   "cell_type": "code",
   "execution_count": 19,
   "id": "e1d3142e",
   "metadata": {},
   "outputs": [],
   "source": [
    "## test ##\n",
    "assert_true(len(height_melt[height_melt[\"Sex\"] == \"M\"]) == len(height_melt[height_melt[\"Sex\"] == \"F\"]))"
   ]
  },
  {
   "cell_type": "code",
   "execution_count": 20,
   "id": "c11c24f6",
   "metadata": {},
   "outputs": [],
   "source": [
    "## test ##\n",
    "assert_true(height_melt.loc[(height_melt[\"Country Name\"] == \"Switzerland\") & (height_melt[\"Sex\"] == \"F\")][\"Height in Cm\"].values[0] == 164.33)"
   ]
  },
  {
   "cell_type": "code",
   "execution_count": 21,
   "id": "40088d5f",
   "metadata": {},
   "outputs": [],
   "source": [
    "## test ##\n",
    "assert_true(height_melt.loc[(height_melt[\"Country Name\"] == \"Switzerland\") & (height_melt[\"Sex\"] == \"M\")][\"Height in Cm\"].values[0] == 178.73)"
   ]
  },
  {
   "cell_type": "markdown",
   "id": "25960220",
   "metadata": {},
   "source": [
    "### C (4 points)\n",
    "We will work with data about billboards in the 2000s (as in the lecture)."
   ]
  },
  {
   "cell_type": "code",
   "execution_count": 39,
   "id": "c909af90",
   "metadata": {},
   "outputs": [
    {
     "data": {
      "text/html": [
       "<div>\n",
       "<style scoped>\n",
       "    .dataframe tbody tr th:only-of-type {\n",
       "        vertical-align: middle;\n",
       "    }\n",
       "\n",
       "    .dataframe tbody tr th {\n",
       "        vertical-align: top;\n",
       "    }\n",
       "\n",
       "    .dataframe thead th {\n",
       "        text-align: right;\n",
       "    }\n",
       "</style>\n",
       "<table border=\"1\" class=\"dataframe\">\n",
       "  <thead>\n",
       "    <tr style=\"text-align: right;\">\n",
       "      <th></th>\n",
       "      <th>year</th>\n",
       "      <th>artist.inverted</th>\n",
       "      <th>track</th>\n",
       "      <th>time</th>\n",
       "      <th>genre</th>\n",
       "      <th>date</th>\n",
       "      <th>date.peaked</th>\n",
       "      <th>week</th>\n",
       "      <th>rank</th>\n",
       "    </tr>\n",
       "  </thead>\n",
       "  <tbody>\n",
       "    <tr>\n",
       "      <th>0</th>\n",
       "      <td>2000</td>\n",
       "      <td>Nelly</td>\n",
       "      <td>(Hot S**t) Country Grammar</td>\n",
       "      <td>4:17</td>\n",
       "      <td>Rap</td>\n",
       "      <td>2000-04-29</td>\n",
       "      <td>2000-09-16</td>\n",
       "      <td>1</td>\n",
       "      <td>100.0</td>\n",
       "    </tr>\n",
       "    <tr>\n",
       "      <th>1</th>\n",
       "      <td>2000</td>\n",
       "      <td>Nelly</td>\n",
       "      <td>(Hot S**t) Country Grammar</td>\n",
       "      <td>4:17</td>\n",
       "      <td>Rap</td>\n",
       "      <td>2000-05-06</td>\n",
       "      <td>2000-09-16</td>\n",
       "      <td>2</td>\n",
       "      <td>99.0</td>\n",
       "    </tr>\n",
       "    <tr>\n",
       "      <th>2</th>\n",
       "      <td>2000</td>\n",
       "      <td>Nelly</td>\n",
       "      <td>(Hot S**t) Country Grammar</td>\n",
       "      <td>4:17</td>\n",
       "      <td>Rap</td>\n",
       "      <td>2000-05-13</td>\n",
       "      <td>2000-09-16</td>\n",
       "      <td>3</td>\n",
       "      <td>96.0</td>\n",
       "    </tr>\n",
       "    <tr>\n",
       "      <th>3</th>\n",
       "      <td>2000</td>\n",
       "      <td>Nelly</td>\n",
       "      <td>(Hot S**t) Country Grammar</td>\n",
       "      <td>4:17</td>\n",
       "      <td>Rap</td>\n",
       "      <td>2000-05-20</td>\n",
       "      <td>2000-09-16</td>\n",
       "      <td>4</td>\n",
       "      <td>76.0</td>\n",
       "    </tr>\n",
       "    <tr>\n",
       "      <th>4</th>\n",
       "      <td>2000</td>\n",
       "      <td>Nelly</td>\n",
       "      <td>(Hot S**t) Country Grammar</td>\n",
       "      <td>4:17</td>\n",
       "      <td>Rap</td>\n",
       "      <td>2000-05-27</td>\n",
       "      <td>2000-09-16</td>\n",
       "      <td>5</td>\n",
       "      <td>55.0</td>\n",
       "    </tr>\n",
       "  </tbody>\n",
       "</table>\n",
       "</div>"
      ],
      "text/plain": [
       "   year artist.inverted                       track  time genre        date  \\\n",
       "0  2000           Nelly  (Hot S**t) Country Grammar  4:17   Rap  2000-04-29   \n",
       "1  2000           Nelly  (Hot S**t) Country Grammar  4:17   Rap  2000-05-06   \n",
       "2  2000           Nelly  (Hot S**t) Country Grammar  4:17   Rap  2000-05-13   \n",
       "3  2000           Nelly  (Hot S**t) Country Grammar  4:17   Rap  2000-05-20   \n",
       "4  2000           Nelly  (Hot S**t) Country Grammar  4:17   Rap  2000-05-27   \n",
       "\n",
       "  date.peaked  week   rank  \n",
       "0  2000-09-16     1  100.0  \n",
       "1  2000-09-16     2   99.0  \n",
       "2  2000-09-16     3   96.0  \n",
       "3  2000-09-16     4   76.0  \n",
       "4  2000-09-16     5   55.0  "
      ]
     },
     "execution_count": 39,
     "metadata": {},
     "output_type": "execute_result"
    }
   ],
   "source": [
    "billboard = pd.read_csv(\"billboard_intermediate.csv\")\n",
    "billboard.head()"
   ]
  },
  {
   "cell_type": "markdown",
   "id": "eb81c0a3",
   "metadata": {},
   "source": [
    "**Question 5:**: Manipulate the dataframe \"billboard\" into two dataframes that each store one observational unit.\n",
    "\n",
    "* Make a new dataframe \"billboard_songs\" that contains information about the songs\n",
    "    * It should contain these columns from the \"billboard\" dataframe: \"artist.inverted\", \"track\", \"time\", \"genre\"\n",
    "* Make a new dataframe \"billboard_charts\" that contains information about the chart performance of the songs\n",
    "    * It should contain these columns from the \"billboard\" dataframe: \"date\", \"date.peaked\", \"week\", \"rank\"\n",
    "* Additionally, both dataframes should contain a column named \"track_id\" that gives each track a unique ID and links the information in the two dataframes.\n",
    "\n",
    "(Hint: Pandas has a function [.groupby().ngroup()](https://stackoverflow.com/questions/39665374/how-to-make-a-group-id-using-pandas) that could help you with the track id)"
   ]
  },
  {
   "cell_type": "markdown",
   "id": "cb6da456",
   "metadata": {},
   "source": [
    "```\n",
    "BEGIN QUESTION\n",
    "name: Question 5        # (required) the path to a requirements.txt file\n",
    "manual: false     # whether this is a manually-graded question\n",
    "points: 4      # how many points this question is worth; defaults to 1 internally\n",
    "check_cell: true  # whether to include a check cell after this question (for autograded questions only)\n",
    "```"
   ]
  },
  {
   "cell_type": "code",
   "execution_count": 23,
   "id": "45202fe9",
   "metadata": {
    "nbgrader": {
     "grade": false,
     "grade_id": "cell-262fb79928ed7861",
     "locked": false,
     "schema_version": 3,
     "solution": true,
     "task": false
    }
   },
   "outputs": [
    {
     "data": {
      "text/html": [
       "<div>\n",
       "<style scoped>\n",
       "    .dataframe tbody tr th:only-of-type {\n",
       "        vertical-align: middle;\n",
       "    }\n",
       "\n",
       "    .dataframe tbody tr th {\n",
       "        vertical-align: top;\n",
       "    }\n",
       "\n",
       "    .dataframe thead th {\n",
       "        text-align: right;\n",
       "    }\n",
       "</style>\n",
       "<table border=\"1\" class=\"dataframe\">\n",
       "  <thead>\n",
       "    <tr style=\"text-align: right;\">\n",
       "      <th></th>\n",
       "      <th>track_id</th>\n",
       "      <th>date</th>\n",
       "      <th>date.peaked</th>\n",
       "      <th>week</th>\n",
       "      <th>rank</th>\n",
       "    </tr>\n",
       "  </thead>\n",
       "  <tbody>\n",
       "    <tr>\n",
       "      <th>0</th>\n",
       "      <td>222</td>\n",
       "      <td>2000-04-29</td>\n",
       "      <td>2000-09-16</td>\n",
       "      <td>1</td>\n",
       "      <td>100.0</td>\n",
       "    </tr>\n",
       "    <tr>\n",
       "      <th>1</th>\n",
       "      <td>222</td>\n",
       "      <td>2000-05-06</td>\n",
       "      <td>2000-09-16</td>\n",
       "      <td>2</td>\n",
       "      <td>99.0</td>\n",
       "    </tr>\n",
       "    <tr>\n",
       "      <th>2</th>\n",
       "      <td>222</td>\n",
       "      <td>2000-05-13</td>\n",
       "      <td>2000-09-16</td>\n",
       "      <td>3</td>\n",
       "      <td>96.0</td>\n",
       "    </tr>\n",
       "    <tr>\n",
       "      <th>3</th>\n",
       "      <td>222</td>\n",
       "      <td>2000-05-20</td>\n",
       "      <td>2000-09-16</td>\n",
       "      <td>4</td>\n",
       "      <td>76.0</td>\n",
       "    </tr>\n",
       "    <tr>\n",
       "      <th>4</th>\n",
       "      <td>222</td>\n",
       "      <td>2000-05-27</td>\n",
       "      <td>2000-09-16</td>\n",
       "      <td>5</td>\n",
       "      <td>55.0</td>\n",
       "    </tr>\n",
       "  </tbody>\n",
       "</table>\n",
       "</div>"
      ],
      "text/plain": [
       "   track_id        date date.peaked  week   rank\n",
       "0       222  2000-04-29  2000-09-16     1  100.0\n",
       "1       222  2000-05-06  2000-09-16     2   99.0\n",
       "2       222  2000-05-13  2000-09-16     3   96.0\n",
       "3       222  2000-05-20  2000-09-16     4   76.0\n",
       "4       222  2000-05-27  2000-09-16     5   55.0"
      ]
     },
     "execution_count": 23,
     "metadata": {},
     "output_type": "execute_result"
    }
   ],
   "source": [
    "billboard[\"track_id\"] = billboard.groupby([\"artist.inverted\", \"track\", \"time\", \"genre\"]).ngroup() # SOLUTION\n",
    "\n",
    "# BEGIN SOLUTION\n",
    "billboard_songs = billboard[[\"track_id\", \"artist.inverted\", \"track\", \"time\", \"genre\"]]\n",
    "billboard_songs = billboard_songs.drop_duplicates()\n",
    "# END SOLUTION\n",
    "billboard_songs = billboard_songs.reset_index() # SOLUTION\n",
    "billboard_songs.head()\n",
    "\n",
    "billboard_charts = billboard[[\"track_id\", \"date\", \"date.peaked\", \"week\", \"rank\"]] # SOLUTION\n",
    "billboard_charts.head()"
   ]
  },
  {
   "cell_type": "code",
   "execution_count": 24,
   "id": "ef5fc320",
   "metadata": {},
   "outputs": [],
   "source": [
    "## test ##\n",
    "assert_true(isinstance(billboard_songs, pd.DataFrame))"
   ]
  },
  {
   "cell_type": "code",
   "execution_count": 25,
   "id": "1c143377",
   "metadata": {},
   "outputs": [],
   "source": [
    "## test ##\n",
    "assert_true(isinstance(billboard_charts, pd.DataFrame))"
   ]
  },
  {
   "cell_type": "code",
   "execution_count": 26,
   "id": "c3e83d07",
   "metadata": {},
   "outputs": [],
   "source": [
    "## test ##\n",
    "assert_true(np.array_equal(np.unique(billboard_songs[\"track_id\"]),np.unique(billboard_charts[\"track_id\"])))"
   ]
  },
  {
   "cell_type": "code",
   "execution_count": 27,
   "id": "f8e50527",
   "metadata": {},
   "outputs": [],
   "source": [
    "## test ##\n",
    "assert_true(len(billboard_songs) == 317)"
   ]
  },
  {
   "cell_type": "code",
   "execution_count": 28,
   "id": "8731fc56",
   "metadata": {},
   "outputs": [],
   "source": [
    "## test ##\n",
    "assert_true(len(billboard_charts) == 24092)"
   ]
  },
  {
   "cell_type": "markdown",
   "id": "ac70a217",
   "metadata": {},
   "source": [
    "## 2 - EDA (6 points)"
   ]
  },
  {
   "cell_type": "markdown",
   "id": "d6c24566",
   "metadata": {},
   "source": [
    "### A (2 points)\n",
    "Let's answer one more question about billboard hits in the 2000s. Use the billboard, billboard_songs or billboard_charts dataframes."
   ]
  },
  {
   "cell_type": "markdown",
   "id": "9b87728b",
   "metadata": {},
   "source": [
    "**Question 6**: What was the number one hit (rank = 1) on 2000/07/29? This question may seem random (and it is), but this is the 2000s! This is the day on which Jennifer Aniston married Brad Pitt. Did they play this song? Who knows.\n",
    "\n",
    "* Define one variable\n",
    "    * \"name_song\": Name of the song that was at rank 1 on the given date"
   ]
  },
  {
   "cell_type": "markdown",
   "id": "5c39c235",
   "metadata": {},
   "source": [
    "```\n",
    "BEGIN QUESTION\n",
    "name: Question 6        # (required) the path to a requirements.txt file\n",
    "manual: false     # whether this is a manually-graded question\n",
    "points: 2      # how many points this question is worth; defaults to 1 internally\n",
    "check_cell: false  # whether to include a check cell after this question (for autograded questions only)\n",
    "```"
   ]
  },
  {
   "cell_type": "code",
   "execution_count": 29,
   "id": "e1079c75",
   "metadata": {
    "nbgrader": {
     "grade": false,
     "grade_id": "cell-75a4834772643fcd",
     "locked": false,
     "schema_version": 3,
     "solution": true,
     "task": false
    }
   },
   "outputs": [
    {
     "data": {
      "text/plain": [
       "\"It's Gonna Be Me\""
      ]
     },
     "execution_count": 29,
     "metadata": {},
     "output_type": "execute_result"
    }
   ],
   "source": [
    "# BEGIN SOLUTION\n",
    "id_song = billboard_charts.loc[(billboard_charts[\"rank\"] == 1) & (billboard_charts[\"date\"] == \"2000-07-29\")]\n",
    "# END SOLUTION\n",
    "name_song = billboard_songs[billboard_songs[\"track_id\"] == id_song[\"track_id\"].values[0]][\"track\"].values[0] # SOLUTION\n",
    "name_song"
   ]
  },
  {
   "cell_type": "code",
   "execution_count": 30,
   "id": "a57e5bc4",
   "metadata": {
    "nbgrader": {
     "grade": true,
     "grade_id": "cell-03b8dca8c8ea670c",
     "locked": true,
     "points": 2,
     "schema_version": 3,
     "solution": false,
     "task": false
    }
   },
   "outputs": [],
   "source": [
    "## test ##\n",
    "assert_true(name_song == \"It's Gonna Be Me\")"
   ]
  },
  {
   "cell_type": "markdown",
   "id": "826545e2",
   "metadata": {},
   "source": [
    "### 2b (4 points)\n",
    "Let's answer some questions about average heights. Use the height, height_tidy or height_melt dataframes."
   ]
  },
  {
   "cell_type": "markdown",
   "id": "62f3feaf",
   "metadata": {},
   "source": [
    "**Question 7**: What's the country with the tallest men?\n",
    "\n",
    "* Define two variables\n",
    "    * \"country_tallest_men\": Name of the country of tallest men as a string\n",
    "    * \"height_tallest_men\": Average height of men in this country in cm\n",
    "\n",
    "(Hint: Pandas function max() can help here!)"
   ]
  },
  {
   "cell_type": "markdown",
   "id": "2ed1d8b5",
   "metadata": {},
   "source": [
    "```\n",
    "BEGIN QUESTION\n",
    "name: Question 7        # (required) the path to a requirements.txt file\n",
    "manual: false     # whether this is a manually-graded question\n",
    "points: 1      # how many points this question is worth; defaults to 1 internally\n",
    "check_cell: false  # whether to include a check cell after this question (for autograded questions only)\n",
    "```"
   ]
  },
  {
   "cell_type": "code",
   "execution_count": 31,
   "id": "2f4b95b6",
   "metadata": {
    "nbgrader": {
     "grade": false,
     "grade_id": "cell-4283fe78120f5a5d",
     "locked": false,
     "schema_version": 3,
     "solution": true,
     "task": false
    }
   },
   "outputs": [],
   "source": [
    "# BEGIN SOLUTION\n",
    "tallest_men = height_melt.loc[height_melt[height_melt[\"Sex\"] == \"M\"][\"Height in Cm\"].idxmax()] \n",
    "# END SOLUTION\n",
    "\n",
    "country_tallest_men = tallest_men[\"Country Name\"] # SOLUTION\n",
    "height_tallest_men = tallest_men[\"Height in Cm\"] # SOLUTION"
   ]
  },
  {
   "cell_type": "code",
   "execution_count": 32,
   "id": "80dfbb45",
   "metadata": {},
   "outputs": [],
   "source": [
    "## test ##\n",
    "assert_true(country_tallest_men == \"Netherlands\")"
   ]
  },
  {
   "cell_type": "code",
   "execution_count": 33,
   "id": "7f01bf94",
   "metadata": {},
   "outputs": [],
   "source": [
    "## test ##\n",
    "assert_almost_equal(height_tallest_men, 183.78)"
   ]
  },
  {
   "cell_type": "markdown",
   "id": "97888fb2",
   "metadata": {},
   "source": [
    "**Question8**: In which country is the difference of average heights between men and women largest?\n",
    "\n",
    "* Define two variables\n",
    "    * \"country_largest_difference\": Name of the country where the average height difference between men and women is largest\n",
    "    * \"largest_difference\": Difference of average heights of men and women in this country in cm"
   ]
  },
  {
   "cell_type": "markdown",
   "id": "9cdeb807",
   "metadata": {},
   "source": [
    "```\n",
    "BEGIN QUESTION\n",
    "name: Question 8        # (required) the path to a requirements.txt file\n",
    "manual: false     # whether this is a manually-graded question\n",
    "points: 2      # how many points this question is worth; defaults to 1 internally\n",
    "check_cell: false  # whether to include a check cell after this question (for autograded questions only)\n",
    "```"
   ]
  },
  {
   "cell_type": "code",
   "execution_count": 34,
   "id": "cfed69ce",
   "metadata": {
    "nbgrader": {
     "grade": false,
     "grade_id": "cell-4e575ca703ccbd4e",
     "locked": false,
     "schema_version": 3,
     "solution": true,
     "task": false
    }
   },
   "outputs": [],
   "source": [
    "height[\"diff heights\"] = height[\"Male Height in Cm\"] - height[\"Female Height in Cm\"] # SOLUTION\n",
    "\n",
    "# BEGIN SOLUTION\n",
    "height.iloc[height[\"diff heights\"].idxmax()]\n",
    "# END SOLUTION\n",
    "\n",
    "country_largest_difference = height.iloc[height[\"diff heights\"].idxmax()][\"Country Name\"] # SOLUTION\n",
    "largest_difference = height.iloc[height[\"diff heights\"].idxmax()][\"diff heights\"] # SOLUTION"
   ]
  },
  {
   "cell_type": "code",
   "execution_count": 35,
   "id": "d0efe8fc",
   "metadata": {
    "nbgrader": {
     "grade": true,
     "grade_id": "cell-f94f6cefaae9dc5b",
     "locked": true,
     "points": 2,
     "schema_version": 3,
     "solution": false,
     "task": false
    }
   },
   "outputs": [],
   "source": [
    "## test ##\n",
    "assert_true(country_largest_difference == \"Puerto Rico\")"
   ]
  },
  {
   "cell_type": "code",
   "execution_count": 36,
   "id": "fee71108",
   "metadata": {},
   "outputs": [],
   "source": [
    "## test ##\n",
    "assert_almost_equal(largest_difference, 16.42)"
   ]
  },
  {
   "cell_type": "markdown",
   "id": "d4300e39",
   "metadata": {},
   "source": [
    "**Question 9**: What's (Pearson's) correlation value of average male and average female height?\n",
    "\n",
    "* Define a new variable \"corr_avg_heights\" that contains the correlation value of average male and female heights\n",
    "\n",
    "(Hint: Use Panda's function corr().)"
   ]
  },
  {
   "cell_type": "markdown",
   "id": "4cf05e2d",
   "metadata": {},
   "source": [
    "```\n",
    "BEGIN QUESTION\n",
    "name: Question 9        # (required) the path to a requirements.txt file\n",
    "manual: false     # whether this is a manually-graded question\n",
    "points: 1      # how many points this question is worth; defaults to 1 internally\n",
    "check_cell: false  # whether to include a check cell after this question (for autograded questions only)\n",
    "```"
   ]
  },
  {
   "cell_type": "code",
   "execution_count": 37,
   "id": "2ce947e3",
   "metadata": {
    "nbgrader": {
     "grade": false,
     "grade_id": "cell-b5438d2320f5d36d",
     "locked": false,
     "schema_version": 3,
     "solution": true,
     "task": false
    }
   },
   "outputs": [
    {
     "name": "stderr",
     "output_type": "stream",
     "text": [
      "/tmp/ipykernel_48470/85255859.py:1: FutureWarning: The default value of numeric_only in DataFrame.corr is deprecated. In a future version, it will default to False. Select only valid columns or specify the value of numeric_only to silence this warning.\n",
      "  corr_avg_heights = height.corr()[\"Male Height in Cm\"][\"Female Height in Cm\"] # SOLUTION\n"
     ]
    }
   ],
   "source": [
    "corr_avg_heights = height.corr()[\"Male Height in Cm\"][\"Female Height in Cm\"] # SOLUTION"
   ]
  },
  {
   "cell_type": "code",
   "execution_count": 38,
   "id": "a66b40ea",
   "metadata": {
    "nbgrader": {
     "grade": true,
     "grade_id": "cell-21e6f8a0134468cf",
     "locked": true,
     "points": 1,
     "schema_version": 3,
     "solution": false,
     "task": false
    }
   },
   "outputs": [
    {
     "ename": "TypeError",
     "evalue": "unsupported operand type(s) for -: 'str' and 'float'",
     "output_type": "error",
     "traceback": [
      "\u001b[0;31m---------------------------------------------------------------------------\u001b[0m",
      "\u001b[0;31mTypeError\u001b[0m                                 Traceback (most recent call last)",
      "Cell \u001b[0;32mIn[38], line 2\u001b[0m\n\u001b[1;32m      1\u001b[0m \u001b[38;5;66;03m## Hidden test ##\u001b[39;00m\n\u001b[0;32m----> 2\u001b[0m \u001b[43massert_almost_equal\u001b[49m\u001b[43m(\u001b[49m\u001b[43mcorr_avg_heights\u001b[49m\u001b[43m,\u001b[49m\u001b[38;5;241;43m0.9287870871294992\u001b[39;49m\u001b[43m)\u001b[49m\n",
      "File \u001b[0;32m~/anaconda3/lib/python3.9/unittest/case.py:868\u001b[0m, in \u001b[0;36mTestCase.assertAlmostEqual\u001b[0;34m(self, first, second, places, msg, delta)\u001b[0m\n\u001b[1;32m    865\u001b[0m \u001b[38;5;28;01mif\u001b[39;00m delta \u001b[38;5;129;01mis\u001b[39;00m \u001b[38;5;129;01mnot\u001b[39;00m \u001b[38;5;28;01mNone\u001b[39;00m \u001b[38;5;129;01mand\u001b[39;00m places \u001b[38;5;129;01mis\u001b[39;00m \u001b[38;5;129;01mnot\u001b[39;00m \u001b[38;5;28;01mNone\u001b[39;00m:\n\u001b[1;32m    866\u001b[0m     \u001b[38;5;28;01mraise\u001b[39;00m \u001b[38;5;167;01mTypeError\u001b[39;00m(\u001b[38;5;124m\"\u001b[39m\u001b[38;5;124mspecify delta or places not both\u001b[39m\u001b[38;5;124m\"\u001b[39m)\n\u001b[0;32m--> 868\u001b[0m diff \u001b[38;5;241m=\u001b[39m \u001b[38;5;28mabs\u001b[39m(\u001b[43mfirst\u001b[49m\u001b[43m \u001b[49m\u001b[38;5;241;43m-\u001b[39;49m\u001b[43m \u001b[49m\u001b[43msecond\u001b[49m)\n\u001b[1;32m    869\u001b[0m \u001b[38;5;28;01mif\u001b[39;00m delta \u001b[38;5;129;01mis\u001b[39;00m \u001b[38;5;129;01mnot\u001b[39;00m \u001b[38;5;28;01mNone\u001b[39;00m:\n\u001b[1;32m    870\u001b[0m     \u001b[38;5;28;01mif\u001b[39;00m diff \u001b[38;5;241m<\u001b[39m\u001b[38;5;241m=\u001b[39m delta:\n",
      "\u001b[0;31mTypeError\u001b[0m: unsupported operand type(s) for -: 'str' and 'float'"
     ]
    }
   ],
   "source": [
    "## test ##\n",
    "assert_almost_equal(corr_avg_heights,0.9287870871294992)"
   ]
  }
 ],
 "metadata": {
  "celltoolbar": "Create Assignment",
  "kernelspec": {
   "display_name": "Python 3 (ipykernel)",
   "language": "python",
   "name": "python3"
  },
  "language_info": {
   "codemirror_mode": {
    "name": "ipython",
    "version": 3
   },
   "file_extension": ".py",
   "mimetype": "text/x-python",
   "name": "python",
   "nbconvert_exporter": "python",
   "pygments_lexer": "ipython3",
   "version": "3.9.13"
  }
 },
 "nbformat": 4,
 "nbformat_minor": 5
}
