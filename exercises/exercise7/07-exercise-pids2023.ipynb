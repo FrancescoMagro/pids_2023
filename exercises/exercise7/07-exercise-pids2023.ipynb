{
 "cells": [
  {
   "cell_type": "code",
   "execution_count": 1,
   "id": "9f499025",
   "metadata": {},
   "outputs": [],
   "source": [
    "import sys\n",
    "!{sys.executable} -m pip install nose\n",
    "!{sys.executable} -m pip install otter-grader\n",
    "!{sys.executable} -m pip install seaborn"
   ]
  },
  {
   "cell_type": "markdown",
   "id": "ac4a225b",
   "metadata": {},
   "source": [
    "# Exercise sheet 7\n",
    "**Hello everyone!**\n",
    "\n",
    "**Points: 15 (+2 bonus)**\n",
    "\n",
    "Topics of this exercise sheet are:\n",
    "* Probabilities\n",
    "* Law of large numbers\n",
    "* Central limit theorem\n",
    "\n",
    "Please let us know if you have questions or problems! <br>\n",
    "Contact us during the exercise session, on [ADAM](https://adam.unibas.ch/goto_adam_crs_1266890.html), [Piazza](https://piazza.com/unibas.ch/spring2023/63982), or [via email](https://sada.dmi.unibas.ch/en/teaching/pids23).\n",
    "\n",
    "Your notebook will be automatically graded using gradescope. To get graded, you need to upload the file *07-exercise-pids2023.ipynb* to gradescope. If you are using JupyterHub, make sure you have saved the current notebook, then you can download this file by following: *File*->*Download* and save the file on you computer.\n",
    "\n",
    "The sheet is released before the exercise session on Tuesday. You have until the next exercise session on Tuesday to submit this sheet. Most of the questions of the exercise sheet can be handle during the session.\n",
    "\n",
    "**Handout date**: 18.04.2023 <br>\n",
    "**Submission date**: 25.04.2023 before 16:00 <br>\n",
    "\n",
    "\n",
    "### Please name the variables as suggested! Be careful with the type! Otherwise the grading system will fail you!"
   ]
  },
  {
   "cell_type": "code",
   "execution_count": 2,
   "id": "a71fd023",
   "metadata": {},
   "outputs": [],
   "source": [
    "import numpy as np\n",
    "import matplotlib.pyplot as plt\n",
    "from nose.tools import assert_is_instance, assert_equal, assert_almost_equal, assert_true\n",
    "from scipy.stats import bernoulli"
   ]
  },
  {
   "cell_type": "code",
   "execution_count": 3,
   "id": "d4093cbd",
   "metadata": {},
   "outputs": [],
   "source": [
    "import otter\n",
    "grader = otter.Notebook()"
   ]
  },
  {
   "cell_type": "markdown",
   "id": "3818e4f6",
   "metadata": {},
   "source": [
    "## 1) Central limit theorem (10 points)\n",
    "The central limit theorem is a key results of practical importance for data scientists. In this first part, we will work around this result to better understand it."
   ]
  },
  {
   "cell_type": "markdown",
   "id": "f3ddbfdd",
   "metadata": {},
   "source": [
    "\n",
    "Let's start with the simplest statistical example, the toss of a coin. We simulate the toss using the generation of a Bernoulli random variable in the library scipy. We display the empirical distribution (histogram) of the generated samples."
   ]
  },
  {
   "cell_type": "code",
   "execution_count": 4,
   "id": "74bed0ab",
   "metadata": {},
   "outputs": [],
   "source": [
    "toss_coin = bernoulli.rvs(p=0.5,size=100) \n",
    "plt.hist(toss_coin)   "
   ]
  },
  {
   "cell_type": "markdown",
   "id": "e78e4c85",
   "metadata": {},
   "source": [
    "### 1a (2 points)\n",
    "Reproduce this experiment $N=1000$ times. Store the result in an array *toss_coin_all* of size (1000,100)."
   ]
  },
  {
   "cell_type": "code",
   "execution_count": 5,
   "id": "5a7042e8",
   "metadata": {
    "nbgrader": {
     "grade": false,
     "grade_id": "cell-9faaf668e859520f",
     "locked": false,
     "schema_version": 3,
     "solution": true,
     "task": false
    }
   },
   "outputs": [],
   "source": [
    "N=1000\n",
    "..."
   ]
  },
  {
   "cell_type": "code",
   "execution_count": null,
   "id": "22ec63d5",
   "metadata": {
    "deletable": false,
    "editable": false
   },
   "outputs": [],
   "source": [
    "grader.check(\"Question 1a\")"
   ]
  },
  {
   "cell_type": "markdown",
   "id": "9cdf7ae1",
   "metadata": {},
   "source": [
    "### 1b (1 point)\n",
    "For each of the $N=1000$ experiment, compute the sum of the obtained values. Store the result in an array named *toss_sum*."
   ]
  },
  {
   "cell_type": "code",
   "execution_count": 9,
   "id": "b962b185",
   "metadata": {
    "nbgrader": {
     "grade": false,
     "grade_id": "cell-43a0a0442ecf9f4c",
     "locked": false,
     "schema_version": 3,
     "solution": true,
     "task": false
    }
   },
   "outputs": [],
   "source": [
    "toss_sum = ..."
   ]
  },
  {
   "cell_type": "code",
   "execution_count": null,
   "id": "c1bec79f",
   "metadata": {
    "deletable": false,
    "editable": false
   },
   "outputs": [],
   "source": [
    "grader.check(\"Question 1b\")"
   ]
  },
  {
   "cell_type": "markdown",
   "id": "005eb883",
   "metadata": {},
   "source": [
    "### 1c (2 points) \n",
    "Then, display the histogram of this result. Does it look like an empirical Gaussian distribution?"
   ]
  },
  {
   "cell_type": "markdown",
   "id": "489b8415",
   "metadata": {
    "deletable": false,
    "editable": false
   },
   "source": [
    "<!-- BEGIN QUESTION -->\n",
    "\n",
    "<!--\n",
    "BEGIN QUESTION\n",
    "name: Question 1c        # (required) the path to a requirements.txt file\n",
    "manual: true     # whether this is a manually-graded question\n",
    "points: 2      # how many points this question is worth; defaults to 1 internally\n",
    "check_cell: false  # whether to include a check cell after this question (for autograded questions only)\n",
    "-->"
   ]
  },
  {
   "cell_type": "code",
   "execution_count": 12,
   "id": "081f4b7b",
   "metadata": {},
   "outputs": [],
   "source": [
    "_ = plt.hist(toss_sum)"
   ]
  },
  {
   "cell_type": "markdown",
   "id": "99eb7691",
   "metadata": {},
   "source": [
    "<!-- END QUESTION -->\n",
    "\n",
    "\n",
    "\n",
    "### 1d (2 point)\n",
    "Now we want to fit a Gaussian distribution to the samples in the previsous part. In particualr, we want to fit a Gaussian distribution to the following random variable:\n",
    "\n",
    "$$\n",
    " S_N = \\sum_{i = 1}^N X_i\n",
    "$$\n",
    "As mentioned in the lecture, the probablity distribution of $S_N$ tends to a Gaussian distribution as N goes to infinity:\n",
    "$$\n",
    " S_N \\to \\mathcal{N}(N \\mu, N \\sigma^2)\n",
    "$$\n",
    "Now, display the probability density function (pdf) of the Gaussian random variable where the number of samples $N = 100$ and the mean and standard deviation of the Bernouli distribution $\\mu = 0.5$, $\\sigma = 0.5$. Please use the variable \"x\" defined below as the x-axis of your plot. Please use the scipy library and the example in this webpage: https://docs.scipy.org/doc/scipy/reference/generated/scipy.stats.norm.html."
   ]
  },
  {
   "cell_type": "markdown",
   "id": "ac5b1b22",
   "metadata": {
    "deletable": false,
    "editable": false
   },
   "source": [
    "<!-- BEGIN QUESTION -->\n",
    "\n",
    "<!--\n",
    "BEGIN QUESTION\n",
    "name: Question 1d        # (required) the path to a requirements.txt file\n",
    "manual: true     # whether this is a manually-graded question\n",
    "points: 2      # how many points this question is worth; defaults to 1 internally\n",
    "check_cell: false  # whether to include a check cell after this question (for autograded questions only)\n",
    "-->"
   ]
  },
  {
   "cell_type": "code",
   "execution_count": 13,
   "id": "11b7ed6f",
   "metadata": {
    "nbgrader": {
     "grade": false,
     "grade_id": "cell-78fc29e914b773a4",
     "locked": false,
     "schema_version": 3,
     "solution": true,
     "task": false
    }
   },
   "outputs": [],
   "source": [
    "from scipy.stats import norm\n",
    "\n",
    "N = 100\n",
    "mu = 0.5\n",
    "sigma = 0.5\n",
    "x = np.linspace(norm.ppf(0.01, N * mu, np.sqrt(N) * sigma),\n",
    "                norm.ppf(0.99, N * mu, np.sqrt(N) * sigma),\n",
    "                100)\n",
    "\n",
    "..."
   ]
  },
  {
   "cell_type": "markdown",
   "id": "baaf9ad9",
   "metadata": {},
   "source": [
    "<!-- END QUESTION -->\n",
    "\n",
    "\n",
    "\n",
    "### 1e (3 points)\n",
    "Display the empirical distribution of the sum of tossed coins and the pdf of the Gaussian random variable on the same plot. Please use the variable \"x\" defined below as the x-axis of your plot."
   ]
  },
  {
   "cell_type": "markdown",
   "id": "85278a0a",
   "metadata": {
    "deletable": false,
    "editable": false
   },
   "source": [
    "<!-- BEGIN QUESTION -->\n",
    "\n",
    "<!--\n",
    "BEGIN QUESTION\n",
    "name: Question 1e        # (required) the path to a requirements.txt file\n",
    "manual: true     # whether this is a manually-graded question\n",
    "points: 3      # how many points this question is worth; defaults to 1 internally\n",
    "check_cell: false  # whether to include a check cell after this question (for autograded questions only)\n",
    "-->"
   ]
  },
  {
   "cell_type": "code",
   "execution_count": 14,
   "id": "f60e8d00",
   "metadata": {
    "nbgrader": {
     "grade": false,
     "grade_id": "cell-ff2129147845b03d",
     "locked": false,
     "schema_version": 3,
     "solution": true,
     "task": false
    }
   },
   "outputs": [],
   "source": [
    "x = np.linspace(norm.ppf(0.01, N * mu, np.sqrt(N) * sigma),\n",
    "                norm.ppf(0.99, N * mu, np.sqrt(N) * sigma),\n",
    "                100)\n",
    "..."
   ]
  },
  {
   "cell_type": "markdown",
   "id": "f17dcbe6",
   "metadata": {},
   "source": [
    "<!-- END QUESTION -->\n",
    "\n",
    "\n",
    "\n",
    "What happen if $N$ is now larger than 1000? Try with different N! (no need to write a nice answer here, just change the value one or two times to see what is happening).\n",
    "***And don't forget to set it back to N=1000.***"
   ]
  },
  {
   "cell_type": "code",
   "execution_count": null,
   "id": "ac85a594",
   "metadata": {},
   "outputs": [],
   "source": []
  },
  {
   "cell_type": "markdown",
   "id": "88253fff",
   "metadata": {},
   "source": [
    "## 2) Law of large numbers (LLN) (5 points)\n",
    "The LLN is also a key tool used by all data scientists. This principle is the basis of what is called Monte Carlo simulation. <br>\n",
    "In this paragraph, we will use this result to estimate the mean of a Poisson random variable."
   ]
  },
  {
   "cell_type": "markdown",
   "id": "215e7a66",
   "metadata": {},
   "source": [
    "### 2a (1 point)\n",
    "Using the scipy library, display the probability mass function of the Poisson distribution for $\\lambda=5$. Please use the variable \"x\" defined below as the x-axis of your plot. Please use the scipy library and the example in this webpage: https://docs.scipy.org/doc/scipy/reference/generated/scipy.stats.poisson.html."
   ]
  },
  {
   "cell_type": "markdown",
   "id": "71902f1a",
   "metadata": {
    "deletable": false,
    "editable": false
   },
   "source": [
    "<!-- BEGIN QUESTION -->\n",
    "\n",
    "<!--\n",
    "BEGIN QUESTION\n",
    "name: Question 2a        # (required) the path to a requirements.txt file\n",
    "manual: true     # whether this is a manually-graded question\n",
    "points: 1      # how many points this question is worth; defaults to 1 internally\n",
    "check_cell: false  # whether to include a check cell after this question (for autograded questions only)\n",
    "-->"
   ]
  },
  {
   "cell_type": "code",
   "execution_count": 15,
   "id": "1d1432f1",
   "metadata": {
    "nbgrader": {
     "grade": false,
     "grade_id": "cell-5187511bc27d80b6",
     "locked": false,
     "schema_version": 3,
     "solution": true,
     "task": false
    }
   },
   "outputs": [],
   "source": [
    "from scipy.stats import poisson\n",
    "lam = 5\n",
    "x = np.arange(poisson.ppf(0.0001, lam),\n",
    "              poisson.ppf(0.9999, lam))\n",
    "\n",
    "..."
   ]
  },
  {
   "cell_type": "markdown",
   "id": "e2356744",
   "metadata": {},
   "source": [
    "<!-- END QUESTION -->\n",
    "\n",
    "\n",
    "\n",
    "### 2b (2 points)\n",
    "Generate $N=10000$ independent samples from the given poisson distribution ($\\lambda = 5$) and store them in the variable \"data\". Calculate the empirical mean when using the first $i = 11,12,13,...,10000$ samples from the \"data\" variable. You can use \"np.cumsum\" function in numpy which calculates the cumulative mean. Please plot the the calculated empirical means and compare them with the true mean of the given poisson distribution (expected value) $\\lambda = 5$."
   ]
  },
  {
   "cell_type": "markdown",
   "id": "b05fefef",
   "metadata": {
    "deletable": false,
    "editable": false
   },
   "source": [
    "<!-- BEGIN QUESTION -->\n",
    "\n",
    "<!--\n",
    "BEGIN QUESTION\n",
    "name: Question 2b        # (required) the path to a requirements.txt file\n",
    "manual: true     # whether this is a manually-graded question\n",
    "points: 2      # how many points this question is worth; defaults to 1 internally\n",
    "check_cell: false  # whether to include a check cell after this question (for autograded questions only)\n",
    "-->"
   ]
  },
  {
   "cell_type": "code",
   "execution_count": 16,
   "id": "c6613c9b",
   "metadata": {
    "nbgrader": {
     "grade": false,
     "grade_id": "cell-786d4f2af8ee5398",
     "locked": false,
     "schema_version": 3,
     "solution": true,
     "task": false
    }
   },
   "outputs": [],
   "source": [
    "N = 10000\n",
    "..."
   ]
  },
  {
   "cell_type": "markdown",
   "id": "1aab507f",
   "metadata": {},
   "source": [
    "<!-- END QUESTION -->\n",
    "\n",
    "\n",
    "\n",
    "### 2c (2 points)\n",
    "It is rather hard to see if the empirical mean is tending to the true one. Plot the absolute error between the empirical and the true mean ($y$-axis) against the number of samples used ($x$-axis). Use a log scale (for the error)."
   ]
  },
  {
   "cell_type": "markdown",
   "id": "90618012",
   "metadata": {
    "deletable": false,
    "editable": false
   },
   "source": [
    "<!-- BEGIN QUESTION -->\n",
    "\n",
    "<!--\n",
    "BEGIN QUESTION\n",
    "name: Question 2c        # (required) the path to a requirements.txt file\n",
    "manual: true     # whether this is a manually-graded question\n",
    "points: 2      # how many points this question is worth; defaults to 1 internally\n",
    "check_cell: false  # whether to include a check cell after this question (for autograded questions only)\n",
    "-->"
   ]
  },
  {
   "cell_type": "code",
   "execution_count": 17,
   "id": "f90e4330",
   "metadata": {
    "nbgrader": {
     "grade": false,
     "grade_id": "cell-7942b6a67e959773",
     "locked": false,
     "schema_version": 3,
     "solution": true,
     "task": false
    }
   },
   "outputs": [],
   "source": [
    "..."
   ]
  },
  {
   "cell_type": "markdown",
   "id": "2b4d94f5",
   "metadata": {},
   "source": [
    "<!-- END QUESTION -->\n",
    "\n",
    "\n",
    "\n",
    "## 3) (Bonus) Monte Carlo simulation (2 point)"
   ]
  },
  {
   "cell_type": "markdown",
   "id": "5e94a5dd",
   "metadata": {},
   "source": [
    "Did you notice that the previous plots change every time you run again the cells?\n",
    "This is because the average mean that we compute is still a random estimation. For some realization it may be close to the true mean, for other it may be far. <br>\n",
    "To get a clear conclusion, we might want to know what is happening in average, what is the average behaviour of this estimator. <br>\n",
    "<br>\n",
    "To do so, we will do a Monte Carlo simulation, i.e. reproduce the previous experiment several times and compute the average error.<br>\n"
   ]
  },
  {
   "cell_type": "markdown",
   "id": "696be7a9",
   "metadata": {},
   "source": [
    "### 3a (2 point) (Optional):\n",
    "Compute and store the absolute error between the average means (using $1,2,3,... 10000$ samples) and the true mean. Reproduce this experiment $M=100$ times, and display the average error. <br>\n",
    "Hint: for a better display, you can display ony error for $100, 101, ... 10000$ samples."
   ]
  },
  {
   "cell_type": "markdown",
   "id": "015ed53b",
   "metadata": {
    "deletable": false,
    "editable": false
   },
   "source": [
    "<!-- BEGIN QUESTION -->\n",
    "\n",
    "<!--\n",
    "BEGIN QUESTION\n",
    "name: Question 3a        # (required) the path to a requirements.txt file\n",
    "manual: true     # whether this is a manually-graded question\n",
    "points: 2      # how many points this question is worth; defaults to 1 internally\n",
    "check_cell: false  # whether to include a check cell after this question (for autograded questions only)\n",
    "-->"
   ]
  },
  {
   "cell_type": "code",
   "execution_count": 18,
   "id": "f792c0a9",
   "metadata": {
    "nbgrader": {
     "grade": false,
     "grade_id": "cell-45781b77bc7ed15b",
     "locked": false,
     "schema_version": 3,
     "solution": true,
     "task": false
    }
   },
   "outputs": [],
   "source": [
    "M = 100\n",
    "err_abs = np.zeros((M,N))\n",
    "err_abs = ...\n",
    "...\n",
    "start = 100\n",
    "plt.plot(err_abs.mean(0)[start:])"
   ]
  },
  {
   "cell_type": "markdown",
   "id": "b84ac433",
   "metadata": {},
   "source": [
    "<!-- END QUESTION -->\n",
    "\n",
    "\n",
    "\n",
    "Notice that the plot is not changing much (as in the begining of the LLN paragraph) every time you run the code. This is (maybe) your first Monte Carlo simulation!"
   ]
  },
  {
   "cell_type": "markdown",
   "id": "b9256ffe",
   "metadata": {},
   "source": [
    "We saw in this notebook that by reproducing a large number of time the same experiment, we are able to estimate information about the observation, such as the distribution of the mean of some quantities. However, in many practical situations, it is impossible to have acces to a very large amount of data. In the following of the course you will see that we can construct confidence interval from the observations. This tool will be key to known either or not we can trust the result obtained with a limited amount of data."
   ]
  },
  {
   "cell_type": "markdown",
   "id": "85701ab7",
   "metadata": {
    "deletable": false,
    "editable": false
   },
   "source": [
    "---\n",
    "\n",
    "To double-check your work, the cell below will rerun all of the autograder tests."
   ]
  },
  {
   "cell_type": "code",
   "execution_count": null,
   "id": "f7755612",
   "metadata": {
    "deletable": false,
    "editable": false
   },
   "outputs": [],
   "source": [
    "grader.check_all()"
   ]
  }
 ],
 "metadata": {
  "celltoolbar": "Create Assignment",
  "kernelspec": {
   "display_name": "Python 3",
   "language": "python",
   "name": "python3"
  },
  "language_info": {
   "codemirror_mode": {
    "name": "ipython",
    "version": 3
   },
   "file_extension": ".py",
   "mimetype": "text/x-python",
   "name": "python",
   "nbconvert_exporter": "python",
   "pygments_lexer": "ipython3",
   "version": "3.8.12"
  },
  "vscode": {
   "interpreter": {
    "hash": "07cb0c0be5d5c09ece9af089e9de2ad5458cdd62d0537c1d9b85ed67c101dd7b"
   }
  }
 },
 "nbformat": 4,
 "nbformat_minor": 5
}
