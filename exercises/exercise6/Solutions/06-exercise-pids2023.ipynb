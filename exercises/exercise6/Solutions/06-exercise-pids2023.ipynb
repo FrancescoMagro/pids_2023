{
 "cells": [
  {
   "cell_type": "code",
   "execution_count": null,
   "id": "a219c621",
   "metadata": {},
   "outputs": [],
   "source": [
    "import sys\n",
    "!{sys.executable} -m pip install nose\n",
    "!{sys.executable} -m pip install otter-grader\n",
    "!{sys.executable} -m pip install seaborn"
   ]
  },
  {
   "cell_type": "code",
   "execution_count": 3,
   "id": "c9da907b",
   "metadata": {},
   "outputs": [],
   "source": [
    "# Initialize Otter\n",
    "import otter\n",
    "grader = otter.Notebook(\"06-exercise-pids2023.ipynb\")"
   ]
  },
  {
   "cell_type": "markdown",
   "id": "39caf7f4",
   "metadata": {},
   "source": [
    "```\n",
    "BEGIN ASSIGNMENT\n",
    "requirements: requirements.txt\n",
    "init_cell: false\n",
    "export_cell: false\n",
    "template_pdf: false\n",
    "files:\n",
    "    - healthcare-dataset-stroke-data.csv\n",
    "generate:\n",
    "    token: ''\n",
    "    course_id: 62982        # required\n",
    "    assignment_id: 6    # required\n",
    "    filtering: true # true is the default\n",
    "generate:\n",
    "    seed: 42\n",
    "    show_stdout: true\n",
    "    show_hidden: true\n",
    "    show_all_public: true\n",
    "    visibility: visible\n",
    "```"
   ]
  },
  {
   "cell_type": "markdown",
   "id": "9b0a0807",
   "metadata": {},
   "source": [
    "# Exercise sheet 6\n",
    "**Hello everyone!**\n",
    "\n",
    "**Points: 15**\n",
    "\n",
    "Topics of this exercise sheet are:\n",
    "* Probabilities\n",
    "* Conditional Probabilities\n",
    "\n",
    "\n",
    "Please let us know if you have questions or problems! <br>\n",
    "Contact us during the exercise session, on [Piazza](https://piazza.com/class/leibdr4lk8n3w4), or [via email](https://sada.dmi.unibas.ch/en/teaching/pids23).\n",
    "\n",
    "Please submit this exercise sheet on **GRADESCOPE**.\n",
    "Naming conventions:\n",
    "* Name of notebook: \"06-exercise-pids2023.ipynb\"\n",
    "\n",
    "Your notebook will be automatically graded using gradescope. To get graded, you need to upload the file *06-exercise-pids2023.ipynb* to gradescope. If you are using JupyterHub, make sure you have saved the current notebook, then you can download this file by following: *File*->*Download* and save the file on you computer.\n",
    "\n",
    "The sheet is released before the exercise session on Tuesday. You have until the next exercise session on Tuesday to submit this sheet. Most of the questions of the exercise sheet can be handle during the session.\n",
    "\n",
    "**Handout date**: 04.04.2023 <br>\n",
    "**Submission date**: 18.04.2023 before 16:00 <br>\n",
    "\n",
    "\n",
    "### Please name the variables as suggested! Be careful with the type! Otherwise the grading system will fail you!"
   ]
  },
  {
   "cell_type": "code",
   "execution_count": 4,
   "id": "cdbe17e3",
   "metadata": {},
   "outputs": [],
   "source": [
    "import pandas as pd\n",
    "import seaborn as sns\n",
    "import matplotlib.pyplot as plt\n",
    "import numpy as np\n",
    "from nose.tools import assert_is_instance, assert_equal, assert_almost_equal, assert_true"
   ]
  },
  {
   "cell_type": "markdown",
   "id": "6467305a",
   "metadata": {},
   "source": [
    "## 1 (6 points)\n",
    "Let's start with some basic probability terms.\n",
    "\n",
    "### 1a (1 point)\n",
    "What is $\\Omega$ for 3 coin tosses? Use the Python 'set' data structure with tuples to describe each possible outcome. Check the slides for lecture 5 to see what $\\Omega$ is.\n",
    "Name the result 'omega_three_coin_tosses'. Use 0 for tails and 1 for heads."
   ]
  },
  {
   "cell_type": "markdown",
   "id": "db55cc55",
   "metadata": {},
   "source": [
    "```\n",
    "BEGIN QUESTION\n",
    "name: Question 1a      # (required) the path to a requirements.txt file\n",
    "manual: false     # whether this is a manually-graded question\n",
    "points: 1      # how many points this question is worth; defaults to 1 internally\n",
    "check_cell: true  # whether to include a check cell after this question (for autograded questions only)\n",
    "```"
   ]
  },
  {
   "cell_type": "code",
   "execution_count": 5,
   "id": "4ffa3e3d",
   "metadata": {
    "nbgrader": {
     "grade": false,
     "grade_id": "cell-85f0aa24377f6a04",
     "locked": false,
     "schema_version": 3,
     "solution": true,
     "task": false
    }
   },
   "outputs": [],
   "source": [
    "# omega_three_coin_tosses = set(...)\n",
    "omega_three_coin_tosses = set(((0,0,0), (0,0,1), (0,1,0), (0,1,1), (1,0,0), (1,0,1), (1,1,0), (1,1,1))) # SOLUTION"
   ]
  },
  {
   "cell_type": "code",
   "execution_count": 6,
   "id": "1d9ed29a",
   "metadata": {
    "nbgrader": {
     "grade": true,
     "grade_id": "cell-d6087221b91e6736",
     "locked": true,
     "points": 1,
     "schema_version": 3,
     "solution": false,
     "task": false
    }
   },
   "outputs": [],
   "source": [
    "## test ##\n",
    "assert_is_instance(omega_three_coin_tosses, set)"
   ]
  },
  {
   "cell_type": "code",
   "execution_count": 7,
   "id": "7207951e",
   "metadata": {},
   "outputs": [],
   "source": [
    "## test ##\n",
    "assert_true((0,0,0) in omega_three_coin_tosses)"
   ]
  },
  {
   "cell_type": "code",
   "execution_count": 8,
   "id": "4c4e5056",
   "metadata": {},
   "outputs": [],
   "source": [
    "## test ##\n",
    "assert_true((1,1,0) in omega_three_coin_tosses)"
   ]
  },
  {
   "cell_type": "code",
   "execution_count": 9,
   "id": "bf4f3cae",
   "metadata": {},
   "outputs": [],
   "source": [
    "## test ##\n",
    "assert_equal(len(omega_three_coin_tosses),8)"
   ]
  },
  {
   "cell_type": "markdown",
   "id": "cf71181c",
   "metadata": {},
   "source": [
    "### 1b (1 point)\n",
    "We roll two standard dice.\n",
    "What is $\\Omega$ for \"We roll the same number twice?\"\n",
    "\n",
    "Save your answer as a 'set' data structure under the name 'omega_same_number_twice'."
   ]
  },
  {
   "cell_type": "markdown",
   "id": "54f06821",
   "metadata": {},
   "source": [
    "```\n",
    "BEGIN QUESTION\n",
    "name: Question 1b      # (required) the path to a requirements.txt file\n",
    "manual: false     # whether this is a manually-graded question\n",
    "points: 1      # how many points this question is worth; defaults to 1 internally\n",
    "check_cell: true  # whether to include a check cell after this question (for autograded questions only)\n",
    "```"
   ]
  },
  {
   "cell_type": "code",
   "execution_count": 10,
   "id": "2f4217e1",
   "metadata": {
    "nbgrader": {
     "grade": false,
     "grade_id": "cell-e14669da3b7636be",
     "locked": false,
     "schema_version": 3,
     "solution": true,
     "task": false
    }
   },
   "outputs": [],
   "source": [
    "omega_same_number_twice = set(((1,1), (2,2), (3,3), (4,4), (5,5), (6,6))) # SOLUTION"
   ]
  },
  {
   "cell_type": "code",
   "execution_count": 11,
   "id": "9d0f9a68",
   "metadata": {
    "nbgrader": {
     "grade": true,
     "grade_id": "cell-f13015f9c3335967",
     "locked": true,
     "points": 1,
     "schema_version": 3,
     "solution": false,
     "task": false
    }
   },
   "outputs": [],
   "source": [
    "## test ##\n",
    "assert_is_instance(omega_same_number_twice, set)"
   ]
  },
  {
   "cell_type": "code",
   "execution_count": 12,
   "id": "ee5ce0c9",
   "metadata": {},
   "outputs": [],
   "source": [
    "## test ##\n",
    "assert_true((1,1) in omega_same_number_twice)"
   ]
  },
  {
   "cell_type": "code",
   "execution_count": 13,
   "id": "557aa356",
   "metadata": {},
   "outputs": [],
   "source": [
    "## test ## \n",
    "assert_equal(omega_same_number_twice, set(((1,1), (2,2), (3,3), (4,4), (5,5), (6,6))))"
   ]
  },
  {
   "cell_type": "code",
   "execution_count": 14,
   "id": "df061764",
   "metadata": {},
   "outputs": [],
   "source": [
    "## test ##\n",
    "assert_equal(len(omega_same_number_twice),6)"
   ]
  },
  {
   "cell_type": "markdown",
   "id": "e598b112",
   "metadata": {},
   "source": [
    "### 1c (1 point)\n",
    "We roll two standard dice. What is the probability for the sum of the two dice being lower than 30?\n",
    "Put the result in a variable named 'probability_lower_30' and make sure to right the probability as a fraction.\n",
    "\n",
    "For instance, if the question was \"what is the probability having two tails while flipping consecutively two coins?\", your answer should be 1/4 and not 0.25, because there is one event in the set of all 4 possible events where that appears. We ask for this specific format to make sure that you understand how to compute it."
   ]
  },
  {
   "cell_type": "markdown",
   "id": "cb93a6a9",
   "metadata": {},
   "source": [
    "```\n",
    "BEGIN QUESTION\n",
    "name: Question 1c      # (required) the path to a requirements.txt file\n",
    "manual: false     # whether this is a manually-graded question\n",
    "points: 1      # how many points this question is worth; defaults to 1 internally\n",
    "check_cell: true  # whether to include a check cell after this question (for autograded questions only)\n",
    "```"
   ]
  },
  {
   "cell_type": "code",
   "execution_count": 15,
   "id": "2292eba4",
   "metadata": {
    "nbgrader": {
     "grade": false,
     "grade_id": "cell-726e66c3dbc5c1f4",
     "locked": false,
     "schema_version": 3,
     "solution": true,
     "task": false
    }
   },
   "outputs": [],
   "source": [
    "probability_lower_30 = 36/36 # SOLUTION"
   ]
  },
  {
   "cell_type": "code",
   "execution_count": 16,
   "id": "8cb2ac5d",
   "metadata": {
    "nbgrader": {
     "grade": true,
     "grade_id": "cell-9a36a513e0e5666b",
     "locked": true,
     "points": 1,
     "schema_version": 3,
     "solution": false,
     "task": false
    }
   },
   "outputs": [],
   "source": [
    "## test ## \n",
    "assert_is_instance(probability_lower_30, float)"
   ]
  },
  {
   "cell_type": "code",
   "execution_count": 17,
   "id": "6726904e",
   "metadata": {},
   "outputs": [],
   "source": [
    "## test ##\n",
    "assert_equal(probability_lower_30, 1)"
   ]
  },
  {
   "cell_type": "markdown",
   "id": "3abf60ac",
   "metadata": {},
   "source": [
    "### 1d (1 point)\n",
    "We roll two standard dice. What is the probability for the sum of the two dice being lower or equal to 6?\n",
    "Put the result in a variable named 'probability_lower_6' and make sure to right the probability as a fraction."
   ]
  },
  {
   "cell_type": "markdown",
   "id": "892b53b3",
   "metadata": {},
   "source": [
    "```\n",
    "BEGIN QUESTION\n",
    "name: Question 1d      # (required) the path to a requirements.txt file\n",
    "manual: false     # whether this is a manually-graded question\n",
    "points: 1      # how many points this question is worth; defaults to 1 internally\n",
    "check_cell: true  # whether to include a check cell after this question (for autograded questions only)\n",
    "```"
   ]
  },
  {
   "cell_type": "code",
   "execution_count": 18,
   "id": "452c3740",
   "metadata": {
    "nbgrader": {
     "grade": false,
     "grade_id": "cell-3f1a63a0f6475004",
     "locked": false,
     "schema_version": 3,
     "solution": true,
     "task": false
    }
   },
   "outputs": [],
   "source": [
    "probability_lower_6 = 15/36 ## SOLUTION"
   ]
  },
  {
   "cell_type": "code",
   "execution_count": 19,
   "id": "daa037c1",
   "metadata": {
    "nbgrader": {
     "grade": true,
     "grade_id": "cell-912ffb901cab2c66",
     "locked": true,
     "points": 1,
     "schema_version": 3,
     "solution": false,
     "task": false
    }
   },
   "outputs": [],
   "source": [
    "## test ##\n",
    "assert_is_instance(probability_lower_6, float)\n",
    "assert_almost_equal(probability_lower_6, 0.41666666667, places=1)"
   ]
  },
  {
   "cell_type": "markdown",
   "id": "874f75ad",
   "metadata": {},
   "source": [
    "### 1e (2 point)\n",
    "We roll two standard dice. If the first die shows a \"6\", what is the probability of the sum of the two dice being equal or higher than 8?\n",
    "Put the result in a variable named 'probability_higher_8' and make sure to right the probability as a fraction."
   ]
  },
  {
   "cell_type": "markdown",
   "id": "bb281f61",
   "metadata": {},
   "source": [
    "```\n",
    "BEGIN QUESTION\n",
    "name: Question 1e      # (required) the path to a requirements.txt file\n",
    "manual: false     # whether this is a manually-graded question\n",
    "points: 2      # how many points this question is worth; defaults to 1 internally\n",
    "check_cell: true  # whether to include a check cell after this question (for autograded questions only)\n",
    "```"
   ]
  },
  {
   "cell_type": "code",
   "execution_count": 20,
   "id": "165cb922",
   "metadata": {
    "nbgrader": {
     "grade": false,
     "grade_id": "cell-37bbbd825b890acb",
     "locked": false,
     "schema_version": 3,
     "solution": true,
     "task": false
    }
   },
   "outputs": [],
   "source": [
    "probability_higher_8 = 5/6 # SOLUTION"
   ]
  },
  {
   "cell_type": "code",
   "execution_count": 21,
   "id": "1041d0be",
   "metadata": {
    "nbgrader": {
     "grade": true,
     "grade_id": "cell-79bfdfafc1dd07ae",
     "locked": true,
     "points": 2,
     "schema_version": 3,
     "solution": false,
     "task": false
    }
   },
   "outputs": [],
   "source": [
    "## test ## \n",
    "assert_is_instance(probability_higher_8, float)"
   ]
  },
  {
   "cell_type": "code",
   "execution_count": 22,
   "id": "5a2b90ec",
   "metadata": {},
   "outputs": [],
   "source": [
    "## test ## \n",
    "assert_almost_equal(probability_higher_8, 0.8333333333333334 , places=2)"
   ]
  },
  {
   "attachments": {},
   "cell_type": "markdown",
   "id": "51113844",
   "metadata": {},
   "source": [
    "## 2 (9 points)\n",
    "We will work with a dataset about strokes (sourced from [Kaggle](https://www.kaggle.com/datasets/fedesoriano/stroke-prediction-dataset))."
   ]
  },
  {
   "cell_type": "code",
   "execution_count": 37,
   "id": "37dcc368",
   "metadata": {},
   "outputs": [
    {
     "data": {
      "text/html": [
       "<div>\n",
       "<style scoped>\n",
       "    .dataframe tbody tr th:only-of-type {\n",
       "        vertical-align: middle;\n",
       "    }\n",
       "\n",
       "    .dataframe tbody tr th {\n",
       "        vertical-align: top;\n",
       "    }\n",
       "\n",
       "    .dataframe thead th {\n",
       "        text-align: right;\n",
       "    }\n",
       "</style>\n",
       "<table border=\"1\" class=\"dataframe\">\n",
       "  <thead>\n",
       "    <tr style=\"text-align: right;\">\n",
       "      <th></th>\n",
       "      <th>id</th>\n",
       "      <th>gender</th>\n",
       "      <th>age</th>\n",
       "      <th>hypertension</th>\n",
       "      <th>heart_disease</th>\n",
       "      <th>ever_married</th>\n",
       "      <th>work_type</th>\n",
       "      <th>Residence_type</th>\n",
       "      <th>avg_glucose_level</th>\n",
       "      <th>bmi</th>\n",
       "      <th>smoking_status</th>\n",
       "      <th>stroke</th>\n",
       "    </tr>\n",
       "  </thead>\n",
       "  <tbody>\n",
       "    <tr>\n",
       "      <th>0</th>\n",
       "      <td>9046</td>\n",
       "      <td>Male</td>\n",
       "      <td>67.0</td>\n",
       "      <td>0</td>\n",
       "      <td>1</td>\n",
       "      <td>Yes</td>\n",
       "      <td>Private</td>\n",
       "      <td>Urban</td>\n",
       "      <td>228.69</td>\n",
       "      <td>36.6</td>\n",
       "      <td>formerly smoked</td>\n",
       "      <td>1</td>\n",
       "    </tr>\n",
       "    <tr>\n",
       "      <th>1</th>\n",
       "      <td>51676</td>\n",
       "      <td>Female</td>\n",
       "      <td>61.0</td>\n",
       "      <td>0</td>\n",
       "      <td>0</td>\n",
       "      <td>Yes</td>\n",
       "      <td>Self-employed</td>\n",
       "      <td>Rural</td>\n",
       "      <td>202.21</td>\n",
       "      <td>NaN</td>\n",
       "      <td>never smoked</td>\n",
       "      <td>1</td>\n",
       "    </tr>\n",
       "    <tr>\n",
       "      <th>2</th>\n",
       "      <td>31112</td>\n",
       "      <td>Male</td>\n",
       "      <td>80.0</td>\n",
       "      <td>0</td>\n",
       "      <td>1</td>\n",
       "      <td>Yes</td>\n",
       "      <td>Private</td>\n",
       "      <td>Rural</td>\n",
       "      <td>105.92</td>\n",
       "      <td>32.5</td>\n",
       "      <td>never smoked</td>\n",
       "      <td>1</td>\n",
       "    </tr>\n",
       "    <tr>\n",
       "      <th>3</th>\n",
       "      <td>60182</td>\n",
       "      <td>Female</td>\n",
       "      <td>49.0</td>\n",
       "      <td>0</td>\n",
       "      <td>0</td>\n",
       "      <td>Yes</td>\n",
       "      <td>Private</td>\n",
       "      <td>Urban</td>\n",
       "      <td>171.23</td>\n",
       "      <td>34.4</td>\n",
       "      <td>smokes</td>\n",
       "      <td>1</td>\n",
       "    </tr>\n",
       "    <tr>\n",
       "      <th>4</th>\n",
       "      <td>1665</td>\n",
       "      <td>Female</td>\n",
       "      <td>79.0</td>\n",
       "      <td>1</td>\n",
       "      <td>0</td>\n",
       "      <td>Yes</td>\n",
       "      <td>Self-employed</td>\n",
       "      <td>Rural</td>\n",
       "      <td>174.12</td>\n",
       "      <td>24.0</td>\n",
       "      <td>never smoked</td>\n",
       "      <td>1</td>\n",
       "    </tr>\n",
       "    <tr>\n",
       "      <th>...</th>\n",
       "      <td>...</td>\n",
       "      <td>...</td>\n",
       "      <td>...</td>\n",
       "      <td>...</td>\n",
       "      <td>...</td>\n",
       "      <td>...</td>\n",
       "      <td>...</td>\n",
       "      <td>...</td>\n",
       "      <td>...</td>\n",
       "      <td>...</td>\n",
       "      <td>...</td>\n",
       "      <td>...</td>\n",
       "    </tr>\n",
       "    <tr>\n",
       "      <th>5105</th>\n",
       "      <td>18234</td>\n",
       "      <td>Female</td>\n",
       "      <td>80.0</td>\n",
       "      <td>1</td>\n",
       "      <td>0</td>\n",
       "      <td>Yes</td>\n",
       "      <td>Private</td>\n",
       "      <td>Urban</td>\n",
       "      <td>83.75</td>\n",
       "      <td>NaN</td>\n",
       "      <td>never smoked</td>\n",
       "      <td>0</td>\n",
       "    </tr>\n",
       "    <tr>\n",
       "      <th>5106</th>\n",
       "      <td>44873</td>\n",
       "      <td>Female</td>\n",
       "      <td>81.0</td>\n",
       "      <td>0</td>\n",
       "      <td>0</td>\n",
       "      <td>Yes</td>\n",
       "      <td>Self-employed</td>\n",
       "      <td>Urban</td>\n",
       "      <td>125.20</td>\n",
       "      <td>40.0</td>\n",
       "      <td>never smoked</td>\n",
       "      <td>0</td>\n",
       "    </tr>\n",
       "    <tr>\n",
       "      <th>5107</th>\n",
       "      <td>19723</td>\n",
       "      <td>Female</td>\n",
       "      <td>35.0</td>\n",
       "      <td>0</td>\n",
       "      <td>0</td>\n",
       "      <td>Yes</td>\n",
       "      <td>Self-employed</td>\n",
       "      <td>Rural</td>\n",
       "      <td>82.99</td>\n",
       "      <td>30.6</td>\n",
       "      <td>never smoked</td>\n",
       "      <td>0</td>\n",
       "    </tr>\n",
       "    <tr>\n",
       "      <th>5108</th>\n",
       "      <td>37544</td>\n",
       "      <td>Male</td>\n",
       "      <td>51.0</td>\n",
       "      <td>0</td>\n",
       "      <td>0</td>\n",
       "      <td>Yes</td>\n",
       "      <td>Private</td>\n",
       "      <td>Rural</td>\n",
       "      <td>166.29</td>\n",
       "      <td>25.6</td>\n",
       "      <td>formerly smoked</td>\n",
       "      <td>0</td>\n",
       "    </tr>\n",
       "    <tr>\n",
       "      <th>5109</th>\n",
       "      <td>44679</td>\n",
       "      <td>Female</td>\n",
       "      <td>44.0</td>\n",
       "      <td>0</td>\n",
       "      <td>0</td>\n",
       "      <td>Yes</td>\n",
       "      <td>Govt_job</td>\n",
       "      <td>Urban</td>\n",
       "      <td>85.28</td>\n",
       "      <td>26.2</td>\n",
       "      <td>Unknown</td>\n",
       "      <td>0</td>\n",
       "    </tr>\n",
       "  </tbody>\n",
       "</table>\n",
       "<p>5110 rows × 12 columns</p>\n",
       "</div>"
      ],
      "text/plain": [
       "         id  gender   age  hypertension  heart_disease ever_married  \\\n",
       "0      9046    Male  67.0             0              1          Yes   \n",
       "1     51676  Female  61.0             0              0          Yes   \n",
       "2     31112    Male  80.0             0              1          Yes   \n",
       "3     60182  Female  49.0             0              0          Yes   \n",
       "4      1665  Female  79.0             1              0          Yes   \n",
       "...     ...     ...   ...           ...            ...          ...   \n",
       "5105  18234  Female  80.0             1              0          Yes   \n",
       "5106  44873  Female  81.0             0              0          Yes   \n",
       "5107  19723  Female  35.0             0              0          Yes   \n",
       "5108  37544    Male  51.0             0              0          Yes   \n",
       "5109  44679  Female  44.0             0              0          Yes   \n",
       "\n",
       "          work_type Residence_type  avg_glucose_level   bmi   smoking_status  \\\n",
       "0           Private          Urban             228.69  36.6  formerly smoked   \n",
       "1     Self-employed          Rural             202.21   NaN     never smoked   \n",
       "2           Private          Rural             105.92  32.5     never smoked   \n",
       "3           Private          Urban             171.23  34.4           smokes   \n",
       "4     Self-employed          Rural             174.12  24.0     never smoked   \n",
       "...             ...            ...                ...   ...              ...   \n",
       "5105        Private          Urban              83.75   NaN     never smoked   \n",
       "5106  Self-employed          Urban             125.20  40.0     never smoked   \n",
       "5107  Self-employed          Rural              82.99  30.6     never smoked   \n",
       "5108        Private          Rural             166.29  25.6  formerly smoked   \n",
       "5109       Govt_job          Urban              85.28  26.2          Unknown   \n",
       "\n",
       "      stroke  \n",
       "0          1  \n",
       "1          1  \n",
       "2          1  \n",
       "3          1  \n",
       "4          1  \n",
       "...      ...  \n",
       "5105       0  \n",
       "5106       0  \n",
       "5107       0  \n",
       "5108       0  \n",
       "5109       0  \n",
       "\n",
       "[5110 rows x 12 columns]"
      ]
     },
     "execution_count": 37,
     "metadata": {},
     "output_type": "execute_result"
    }
   ],
   "source": [
    "stroke_df = pd.read_csv(\"healthcare-dataset-stroke-data.csv\")\n",
    "stroke_df"
   ]
  },
  {
   "cell_type": "markdown",
   "id": "74555284",
   "metadata": {},
   "source": [
    "### 2a (1 point)\n",
    "For a patient contained in this dataset, what is the probability that they had a stroke (P(stroke))?\n",
    "\n",
    "Make sure to save your answer in the variable 'probability_stroke' and that it is a float value"
   ]
  },
  {
   "cell_type": "markdown",
   "id": "e8bdf0df",
   "metadata": {},
   "source": [
    "```\n",
    "BEGIN QUESTION\n",
    "name: Question 2a      # (required) the path to a requirements.txt file\n",
    "manual: false     # whether this is a manually-graded question\n",
    "points: 1      # how many points this question is worth; defaults to 1 internally\n",
    "check_cell: true  # whether to include a check cell after this question (for autograded questions only)\n",
    "```"
   ]
  },
  {
   "cell_type": "code",
   "execution_count": 38,
   "id": "196a114b",
   "metadata": {
    "nbgrader": {
     "grade": false,
     "grade_id": "cell-d705987e21fb4422",
     "locked": false,
     "schema_version": 3,
     "solution": true,
     "task": false
    }
   },
   "outputs": [
    {
     "name": "stdout",
     "output_type": "stream",
     "text": [
      "0.0487279843444227\n"
     ]
    }
   ],
   "source": [
    "probability_stroke = stroke_df['stroke'].value_counts()[1] /(stroke_df['stroke'].value_counts()[1]  +  stroke_df['stroke'].value_counts()[0]) # SOLUTION\n",
    "print(probability_stroke)"
   ]
  },
  {
   "cell_type": "code",
   "execution_count": 39,
   "id": "4b2624b3",
   "metadata": {
    "nbgrader": {
     "grade": true,
     "grade_id": "cell-abfb253fab1b086d",
     "locked": true,
     "points": 1,
     "schema_version": 3,
     "solution": false,
     "task": false
    }
   },
   "outputs": [],
   "source": [
    "## test ## \n",
    "assert_is_instance(probability_stroke, float)"
   ]
  },
  {
   "cell_type": "code",
   "execution_count": 40,
   "id": "7adcabb6",
   "metadata": {},
   "outputs": [],
   "source": [
    "## test ##\n",
    "assert_almost_equal(probability_stroke, 0.04872 , places = 2)"
   ]
  },
  {
   "cell_type": "markdown",
   "id": "b5aa30ac",
   "metadata": {},
   "source": [
    "### 2b (1 point)\n",
    "For a patient contained in this dataset who had heart disease (heart_disease = 1), what is the probability that they had a stroke (P(stroke|heart_disease))?\n",
    "\n",
    "Make sure to save your answer in the variable 'probability_stroke_heart_disease' and that it is a float value."
   ]
  },
  {
   "cell_type": "markdown",
   "id": "b0cb6146",
   "metadata": {},
   "source": [
    "```\n",
    "BEGIN QUESTION\n",
    "name: Question 2b      # (required) the path to a requirements.txt file\n",
    "manual: false     # whether this is a manually-graded question\n",
    "points: 1      # how many points this question is worth; defaults to 1 internally\n",
    "check_cell: true  # whether to include a check cell after this question (for autograded questions only)\n",
    "```"
   ]
  },
  {
   "cell_type": "code",
   "execution_count": 41,
   "id": "5daf5224",
   "metadata": {
    "nbgrader": {
     "grade": false,
     "grade_id": "cell-5ee38af4cad7f998",
     "locked": false,
     "schema_version": 3,
     "solution": true,
     "task": false
    }
   },
   "outputs": [
    {
     "name": "stdout",
     "output_type": "stream",
     "text": [
      "0.17028985507246377\n"
     ]
    }
   ],
   "source": [
    "# BEGIN SOLUTION\n",
    "heart_disease = stroke_df[stroke_df[\"heart_disease\"] == 1]\n",
    "# END SOLUTION\n",
    "probability_stroke_heart_disease = heart_disease['stroke'].value_counts()[1] / (heart_disease['stroke'].value_counts()[1] + heart_disease['stroke'].value_counts()[0]) # SOLUTION\n",
    "print(probability_stroke_heart_disease)"
   ]
  },
  {
   "cell_type": "code",
   "execution_count": 42,
   "id": "c5502b76",
   "metadata": {
    "nbgrader": {
     "grade": true,
     "grade_id": "cell-4592808d760724cf",
     "locked": true,
     "points": 1,
     "schema_version": 3,
     "solution": false,
     "task": false
    }
   },
   "outputs": [],
   "source": [
    "## test ##\n",
    "assert_is_instance(probability_stroke_heart_disease, float)"
   ]
  },
  {
   "cell_type": "code",
   "execution_count": 43,
   "id": "6802f272",
   "metadata": {},
   "outputs": [],
   "source": [
    "## test ##\n",
    "assert_almost_equal(probability_stroke_heart_disease, 0.170 , places=2)"
   ]
  },
  {
   "cell_type": "markdown",
   "id": "38acf8d0",
   "metadata": {},
   "source": [
    "### 2c (3 points)\n",
    "What is the probability of P(stroke|hypertension)?\n",
    "Make sure to save your answer in the variable 'probability_stroke_hypertension' and that it is a float value.\n",
    "\n",
    "Hint: Check the slides for a very similar example about breast cancer"
   ]
  },
  {
   "cell_type": "markdown",
   "id": "85a45c3e",
   "metadata": {},
   "source": [
    "```\n",
    "BEGIN QUESTION\n",
    "name: Question 2c      # (required) the path to a requirements.txt file\n",
    "manual: false     # whether this is a manually-graded question\n",
    "points: 3      # how many points this question is worth; defaults to 1 internally\n",
    "check_cell: true  # whether to include a check cell after this question (for autograded questions only)\n",
    "```"
   ]
  },
  {
   "cell_type": "code",
   "execution_count": 44,
   "id": "891b80ab",
   "metadata": {
    "nbgrader": {
     "grade": false,
     "grade_id": "cell-2871bba4629240f8",
     "locked": false,
     "schema_version": 3,
     "solution": true,
     "task": false
    }
   },
   "outputs": [
    {
     "name": "stdout",
     "output_type": "stream",
     "text": [
      "0.13253012048192772\n"
     ]
    }
   ],
   "source": [
    "# BEGIN SOLUTION\n",
    "hypertension = stroke_df[stroke_df[\"hypertension\"] == 1]\n",
    "# END SOLUTION\n",
    "probability_stroke_hypertension = hypertension['stroke'].value_counts()[1] /(hypertension['stroke'].value_counts()[1] + hypertension['stroke'].value_counts()[0]) # SOLUTION\n",
    "print(probability_stroke_hypertension)"
   ]
  },
  {
   "cell_type": "code",
   "execution_count": 45,
   "id": "c5233a55",
   "metadata": {
    "nbgrader": {
     "grade": true,
     "grade_id": "cell-1a0d689f67daf28d",
     "locked": true,
     "points": 3,
     "schema_version": 3,
     "solution": false,
     "task": false
    }
   },
   "outputs": [],
   "source": [
    "## test ##\n",
    "assert_is_instance(probability_stroke_hypertension, float)"
   ]
  },
  {
   "cell_type": "code",
   "execution_count": 46,
   "id": "78de647c",
   "metadata": {},
   "outputs": [],
   "source": [
    "## test ##\n",
    "assert_almost_equal(probability_stroke_hypertension, 0.132 , places = 2)"
   ]
  },
  {
   "cell_type": "markdown",
   "id": "b1dfd6b2",
   "metadata": {},
   "source": [
    "### 2d (4 points)\n",
    "According to the [Mayo Clinic](https://www.mayoclinic.org/diseases-conditions/diabetes/diagnosis-treatment/drc-20371451), a \"blood sugar level less than 140 mg/dL (7.8 mmol/L) is normal\".\n",
    "\n",
    "* Make a new column called \"high_glucose\" in the dataframe 'stroke_df' that has a 1 if the avg_glucose_level measurement was equal to or higher than 140, and a 0 otherwise."
   ]
  },
  {
   "cell_type": "markdown",
   "id": "cf4ecf4e",
   "metadata": {},
   "source": [
    "```\n",
    "BEGIN QUESTION\n",
    "name: Question 2d -1      # (required) the path to a requirements.txt file\n",
    "manual: false     # whether this is a manually-graded question\n",
    "points: 2      # how many points this question is worth; defaults to 1 internally\n",
    "check_cell: true  # whether to include a check cell after this question (for autograded questions only)\n",
    "```"
   ]
  },
  {
   "cell_type": "code",
   "execution_count": 47,
   "id": "855f85ae",
   "metadata": {
    "nbgrader": {
     "grade": false,
     "grade_id": "cell-b62c57fe4875d77a",
     "locked": false,
     "schema_version": 3,
     "solution": true,
     "task": false
    }
   },
   "outputs": [],
   "source": [
    "stroke_df[\"high_glucose\"] = np.where(stroke_df[\"avg_glucose_level\"] >= 140, 1, 0) # SOLUTION"
   ]
  },
  {
   "cell_type": "code",
   "execution_count": 48,
   "id": "335cebc6",
   "metadata": {
    "nbgrader": {
     "grade": true,
     "grade_id": "cell-d2720ca4ba63af38",
     "locked": true,
     "points": 1,
     "schema_version": 3,
     "solution": false,
     "task": false
    }
   },
   "outputs": [],
   "source": [
    "## test ##\n",
    "assert_equal(stroke_df[\"high_glucose\"].value_counts()[0], 4289)\n",
    "assert_equal(stroke_df[\"high_glucose\"].value_counts()[1], 821)"
   ]
  },
  {
   "cell_type": "markdown",
   "id": "127f89a8",
   "metadata": {},
   "source": [
    "* Use this new column to calculate P(stroke|high_glucose).\n",
    "Make sure to save your answer in the variable 'probability_stroke_high_glucose' and that it is a float value."
   ]
  },
  {
   "cell_type": "markdown",
   "id": "97d5e19d",
   "metadata": {},
   "source": [
    "```\n",
    "BEGIN QUESTION\n",
    "name: Question 2d - 2      # (required) the path to a requirements.txt file\n",
    "manual: false     # whether this is a manually-graded question\n",
    "points: 1      # how many points this question is worth; defaults to 1 internally\n",
    "check_cell: true  # whether to include a check cell after this question (for autograded questions only)\n",
    "```"
   ]
  },
  {
   "cell_type": "code",
   "execution_count": 49,
   "id": "bf99b0be",
   "metadata": {
    "nbgrader": {
     "grade": false,
     "grade_id": "cell-96a4ca2cec45e2e3",
     "locked": false,
     "schema_version": 3,
     "solution": true,
     "task": false
    }
   },
   "outputs": [
    {
     "name": "stdout",
     "output_type": "stream",
     "text": [
      "0.11327649208282582\n"
     ]
    }
   ],
   "source": [
    "# BEGIN SOLUTION\n",
    "high_glucose = stroke_df[stroke_df[\"high_glucose\"] == 1]\n",
    "# END SOLUTION\n",
    "probability_stroke_high_glucose = high_glucose['stroke'].value_counts()[1] /(high_glucose['stroke'].value_counts()[1] + high_glucose['stroke'].value_counts()[0]) # SOLUTION\n",
    "print(probability_stroke_high_glucose)"
   ]
  },
  {
   "cell_type": "code",
   "execution_count": 50,
   "id": "dd45bfd9",
   "metadata": {
    "nbgrader": {
     "grade": true,
     "grade_id": "cell-561eda5d11855e2c",
     "locked": true,
     "points": 1,
     "schema_version": 3,
     "solution": false,
     "task": false
    }
   },
   "outputs": [],
   "source": [
    "## test ##\n",
    "assert_is_instance(probability_stroke_high_glucose, float)"
   ]
  },
  {
   "cell_type": "code",
   "execution_count": 51,
   "id": "806619fa",
   "metadata": {},
   "outputs": [],
   "source": [
    "## test ##\n",
    "assert_almost_equal(probability_stroke_high_glucose, 0.113 , places = 2)"
   ]
  },
  {
   "cell_type": "markdown",
   "id": "7941e795",
   "metadata": {},
   "source": [
    "* Calculate P(high_glucose|stroke)\n",
    "Make sure to save your answer in the variable 'probability_high_glucose_stroke' and that it is a float value."
   ]
  },
  {
   "cell_type": "markdown",
   "id": "aaa77186",
   "metadata": {},
   "source": [
    "```\n",
    "BEGIN QUESTION\n",
    "name: Question 2d - 3      # (required) the path to a requirements.txt file\n",
    "manual: false     # whether this is a manually-graded question\n",
    "points: 1      # how many points this question is worth; defaults to 1 internally\n",
    "check_cell: true  # whether to include a check cell after this question (for autograded questions only)\n",
    "```"
   ]
  },
  {
   "cell_type": "code",
   "execution_count": 52,
   "id": "9032d223",
   "metadata": {
    "nbgrader": {
     "grade": false,
     "grade_id": "cell-cc7cf764ecaa7013",
     "locked": false,
     "schema_version": 3,
     "solution": true,
     "task": false
    }
   },
   "outputs": [
    {
     "name": "stdout",
     "output_type": "stream",
     "text": [
      "0.37349397590361444\n"
     ]
    }
   ],
   "source": [
    "# BEGIN SOLUTION\n",
    "stroke = stroke_df[stroke_df[\"stroke\"] == 1]\n",
    "# END SOLUTION\n",
    "probability_high_glucose_stroke = stroke['high_glucose'].value_counts()[1] /(stroke['high_glucose'].value_counts()[1] + stroke['high_glucose'].value_counts()[0]) # SOLUTION\n",
    "print(probability_high_glucose_stroke)"
   ]
  },
  {
   "cell_type": "code",
   "execution_count": 53,
   "id": "1e3a8c97",
   "metadata": {
    "nbgrader": {
     "grade": true,
     "grade_id": "cell-7cfc8b9672c5960c",
     "locked": true,
     "points": 2,
     "schema_version": 3,
     "solution": false,
     "task": false
    }
   },
   "outputs": [],
   "source": [
    "## test ##\n",
    "assert_is_instance(probability_high_glucose_stroke, float)"
   ]
  },
  {
   "cell_type": "code",
   "execution_count": 54,
   "id": "1ad96529",
   "metadata": {},
   "outputs": [],
   "source": [
    "## test ##\n",
    "assert_almost_equal(probability_high_glucose_stroke, 0.373, places = 2)"
   ]
  }
 ],
 "metadata": {
  "celltoolbar": "Create Assignment",
  "kernelspec": {
   "display_name": "pids",
   "language": "python",
   "name": "python3"
  },
  "language_info": {
   "codemirror_mode": {
    "name": "ipython",
    "version": 3
   },
   "file_extension": ".py",
   "mimetype": "text/x-python",
   "name": "python",
   "nbconvert_exporter": "python",
   "pygments_lexer": "ipython3",
   "version": "3.8.16 (default, Mar  2 2023, 03:21:46) \n[GCC 11.2.0]"
  },
  "vscode": {
   "interpreter": {
    "hash": "913bf538e0268f95f9c968c6389b7e7d4c9127ecd5fa78580616ce9989c49c5f"
   }
  }
 },
 "nbformat": 4,
 "nbformat_minor": 5
}
