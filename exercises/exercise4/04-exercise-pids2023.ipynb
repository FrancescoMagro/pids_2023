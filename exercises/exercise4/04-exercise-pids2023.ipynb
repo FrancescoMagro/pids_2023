{
 "cells": [
  {
   "cell_type": "code",
   "execution_count": null,
   "id": "c4610cf1",
   "metadata": {},
   "outputs": [],
   "source": [
    "import sys\n",
    "!{sys.executable} -m pip install nose\n",
    "!{sys.executable} -m pip install otter-grader"
   ]
  },
  {
   "cell_type": "code",
   "execution_count": null,
   "id": "ca212d1e",
   "metadata": {},
   "outputs": [],
   "source": [
    "# Initialize Otter\n",
    "import otter\n",
    "grader = otter.Notebook(\"04-exercise-pids2023.ipynb\")"
   ]
  },
  {
   "cell_type": "markdown",
   "id": "634f2a58",
   "metadata": {
    "nbgrader": {
     "grade": false,
     "grade_id": "cell-1229f81499f5ebea",
     "locked": true,
     "schema_version": 3,
     "solution": false,
     "task": false
    }
   },
   "source": [
    "# Exercise sheet 4\n",
    "**Hello everyone!**\n",
    "\n",
    "# Points: 15\n",
    "\n",
    "Topics of this exercise sheet are:\n",
    "* Working with seaborn\n",
    "* Data visualization principles\n",
    "\n",
    "Please let us know if you have questions or problems! <br>\n",
    "Contact us during the exercise session, on [Piazza](https://piazza.com/class/leibdr4lk8n3w4), or [via email](https://sada.dmi.unibas.ch/en/teaching/pids23).\n",
    "\n",
    "Please submit this exercise sheet on **GRADESCOPE**.\n",
    "Naming conventions:\n",
    "* Name of notebook: \"04-exercise-pids2023.ipynb\"\n",
    "\n",
    "Your notebook will be automatically graded using gradescope. To get graded, you need to upload the file *04-exercise-pids2023.ipynb* to gradescope. If you are using JupyterHub, make sure you have saved the current notebook, then you can download this file by following: *File*->*Download* and save the file on you computer.\n",
    "\n",
    "The sheet is released before the exercise session on Tuesday. You have until the next exercise session on Tuesday to submit this sheet. Most of the questions of the exercise sheet can be handle during the session.\n",
    "\n",
    "**Handout date**: 21.03.2023 <br>\n",
    "**Submission date**: 28.03.2023 before 16:00 <br>\n",
    "\n",
    "\n",
    "### Please name the variables as suggested! Be careful with the type! Otherwise the grading system will fail you!"
   ]
  },
  {
   "cell_type": "code",
   "execution_count": 1,
   "id": "889437f7",
   "metadata": {
    "nbgrader": {
     "grade": false,
     "grade_id": "cell-87e8c3397dfc076e",
     "locked": true,
     "schema_version": 3,
     "solution": false,
     "task": false
    }
   },
   "outputs": [],
   "source": [
    "import pandas as pd\n",
    "import seaborn as sns\n",
    "import matplotlib.pyplot as plt\n",
    "import numpy as np\n",
    "from nose.tools import assert_is_instance, assert_equal, assert_almost_equal, assert_true"
   ]
  },
  {
   "cell_type": "markdown",
   "id": "2776be7e",
   "metadata": {
    "nbgrader": {
     "grade": false,
     "grade_id": "cell-7ee686f735cd4d6c",
     "locked": true,
     "schema_version": 3,
     "solution": false,
     "task": false
    }
   },
   "source": [
    "## Question 1 (7 points)\n",
    "\n",
    "We will use data from [Kaggle](https://www.kaggle.com/datasets/prasertk/healthy-lifestyle-cities-report-2021) about different cities around the world."
   ]
  },
  {
   "cell_type": "code",
   "execution_count": 2,
   "id": "5f3e58a5",
   "metadata": {
    "nbgrader": {
     "grade": false,
     "grade_id": "cell-cae8e70374ab5e6d",
     "locked": true,
     "schema_version": 3,
     "solution": false,
     "task": false
    }
   },
   "outputs": [],
   "source": [
    "cities = pd.read_csv(\"healthy_lifestyle_city_2021.csv\")\n",
    "cities"
   ]
  },
  {
   "cell_type": "markdown",
   "id": "a87e92e3",
   "metadata": {
    "nbgrader": {
     "grade": false,
     "grade_id": "cell-f30ccb790dff9fe2",
     "locked": true,
     "schema_version": 3,
     "solution": false,
     "task": false
    }
   },
   "source": [
    "### 1a) (2 points)\n",
    "* **Replace** the values in the columns:\n",
    "       -\"Cost of a bottle of water(City)\"\n",
    "       -\"Sunshine hours(City)\"\n",
    "       -\"Cost of a monthly gym membership(City)\"\n",
    "  with numerical values (float).\n",
    "  \n",
    "  **Hint:** Use the pandas functions .str and .as_type() and .replace()\n",
    "            \n",
    "  \n",
    "* **Replace** the values in column \"Obesity levels(Country)\" to be numerical values. This means that you need to convert the percentages in decimals. For example, a value \"20.40%\" should be converted to \"0.204\"."
   ]
  },
  {
   "cell_type": "code",
   "execution_count": 3,
   "id": "2a926c54",
   "metadata": {
    "nbgrader": {
     "grade": false,
     "grade_id": "cell-67e48526cb3d882c",
     "locked": false,
     "schema_version": 3,
     "solution": true,
     "task": false
    }
   },
   "outputs": [],
   "source": [
    "..."
   ]
  },
  {
   "cell_type": "markdown",
   "id": "c5707ad6",
   "metadata": {
    "nbgrader": {
     "grade": false,
     "grade_id": "cell-3d9402382f967adc",
     "locked": true,
     "schema_version": 3,
     "solution": false,
     "task": false
    }
   },
   "source": [
    "### 1b (1 point)\n",
    "What is the mean of the column \"Obesity levels(Country)\"?\n",
    "\n",
    "Assign this number to the variable *mean_obesity_level*."
   ]
  },
  {
   "cell_type": "code",
   "execution_count": 5,
   "id": "21cc610b",
   "metadata": {
    "nbgrader": {
     "grade": false,
     "grade_id": "cell-8c8767ce075ccffb",
     "locked": false,
     "schema_version": 3,
     "solution": true,
     "task": false
    }
   },
   "outputs": [],
   "source": [
    "mean_obesity_level = ..."
   ]
  },
  {
   "cell_type": "markdown",
   "id": "dcb0cac2",
   "metadata": {
    "nbgrader": {
     "grade": false,
     "grade_id": "cell-535e41a827712440",
     "locked": true,
     "schema_version": 3,
     "solution": false,
     "task": false
    }
   },
   "source": [
    "### 1c (1 point)\n",
    "Is the mean a good measure to summarize the values of \"Obesity levels(Country)\"?\n",
    "\n",
    "* Create a histogram ( with 13 bins) for the column \"Obesity levels(Country)\" using the seaborn plot function.\n",
    "\n",
    "* Which of the following distributions describes best the distribution you see on the histogramm of Obesity levels?\n",
    "        - Gaussian\n",
    "        - Bimodal\n",
    "        - Binomial\n",
    "        - Poisson\n",
    "  \n",
    "    * Assign the correct distribution (its name as a string) to the variable \"distribution\". Beware: Python is case sensitiv.\n",
    "    \n",
    "    \n",
    "* Is the mean a good measure to summarize the values of \"Obesity levels(Country)\"? Yes or No?\n",
    "    * Assign \"yes\" or \"no\" (as strings) to the variable called \"answer\"."
   ]
  },
  {
   "cell_type": "code",
   "execution_count": 7,
   "id": "29ece05f",
   "metadata": {
    "nbgrader": {
     "grade": false,
     "grade_id": "cell-73833e6a3bef14f2",
     "locked": false,
     "schema_version": 3,
     "solution": true,
     "task": false
    }
   },
   "outputs": [],
   "source": [
    "Obesity_levels_hist = ...\n",
    "distribution = ...\n",
    "answer = ..."
   ]
  },
  {
   "cell_type": "markdown",
   "id": "c4b37f77",
   "metadata": {
    "nbgrader": {
     "grade": false,
     "grade_id": "cell-631f01b5f3a50947",
     "locked": true,
     "schema_version": 3,
     "solution": false,
     "task": false
    }
   },
   "source": [
    "### 1d) (2 points)\n",
    "Please make a new column (for the existing data frame) called \"Continent\" containing the continent of each city (type: string). <br>\n",
    "If a city is in multiple continents, choose one (it will make the following plots cleaner). <br>\n",
    "Use this list of continent names: Africa, America, Antarctica, Australia, Asia, Europe, Oceania.\n",
    "\n",
    "**Hint:** There is no fancy function you need, just patience."
   ]
  },
  {
   "cell_type": "code",
   "execution_count": 11,
   "id": "a748d980",
   "metadata": {
    "nbgrader": {
     "grade": false,
     "grade_id": "cell-36f40a02cef87b84",
     "locked": false,
     "schema_version": 3,
     "solution": true,
     "task": false
    }
   },
   "outputs": [],
   "source": [
    "..."
   ]
  },
  {
   "cell_type": "markdown",
   "id": "14f4f480",
   "metadata": {
    "nbgrader": {
     "grade": false,
     "grade_id": "cell-9342741838d32621",
     "locked": true,
     "schema_version": 3,
     "solution": false,
     "task": false
    }
   },
   "source": [
    "### 1e) (1 point)\n",
    "What does the column \"Continent\" have to do with question 1c? (Hint: This is pretty similar to the penguin flipper lengths from the lecture)\n",
    "\n",
    "* Using the seaborn histogram function (bins=10) display the column \"Obesity levels(Country)\" in a way such that countries on the same continent show up in the same color.\n",
    "* How many bins for the continent of asia do you see?\n",
    "    * Assign this number to the variable called *asia_bins*"
   ]
  },
  {
   "cell_type": "code",
   "execution_count": 13,
   "id": "d96dac38",
   "metadata": {
    "nbgrader": {
     "grade": false,
     "grade_id": "cell-2520395026cab69f",
     "locked": false,
     "schema_version": 3,
     "solution": true,
     "task": false
    }
   },
   "outputs": [],
   "source": [
    "asia_bins= ...\n",
    "color_code_plot= ...\n",
    "...\n",
    "#We can now see that countries in Asia have very different obesity levels than countries in other continents.\n",
    "#This means that we should take e.g. a mean per continent."
   ]
  },
  {
   "cell_type": "markdown",
   "id": "5e7950d4",
   "metadata": {
    "nbgrader": {
     "grade": false,
     "grade_id": "cell-8badaa62016a4890",
     "locked": true,
     "schema_version": 3,
     "solution": false,
     "task": false
    }
   },
   "source": [
    "![](https://upload.wikimedia.org/wikipedia/commons/8/89/Melbourne_skyline_from_Williamstown.png)"
   ]
  },
  {
   "cell_type": "markdown",
   "id": "4e94b96c",
   "metadata": {
    "nbgrader": {
     "grade": false,
     "grade_id": "cell-74aa8649cf06473d",
     "locked": true,
     "schema_version": 3,
     "solution": false,
     "task": false
    }
   },
   "source": [
    "## Question 2 (6 points)\n",
    "You have gotten the job as data visualization expert in Melbourne. 🎉 Congratulations! <br>\n",
    "Your first task is to make a stunning plot to convince everyone that Melbourne is the best city in the whole wide world! We want to print it on posters! Or at least in the national tourism brochure.\n",
    "\n",
    "* Make **one plot** using any and all (evil) principles of data visualization. If you need inspiration, look at the examples on the lecture slides or here: https://www.youtube.com/watch?v=E91bGT9BjYk or google \"misleading data visualization\".\n",
    "* If necessary, write (max) 3 sentences to explain your plot (Comment out those sentenses with \"#\").\n",
    "\n",
    "(NB: This is a manually graded Question)"
   ]
  },
  {
   "cell_type": "markdown",
   "id": "e8577de4",
   "metadata": {
    "deletable": false,
    "editable": false,
    "nbgrader": {
     "grade": false,
     "grade_id": "cell-a87310bacd77f388",
     "locked": true,
     "schema_version": 3,
     "solution": false,
     "task": false
    }
   },
   "source": [
    "<!-- BEGIN QUESTION -->\n",
    "\n",
    "<!--\n",
    "BEGIN QUESTION\n",
    "name: Question 2      # (required) the path to a requirements.txt file\n",
    "manual: true     # whether this is a manually-graded question\n",
    "points: 6     # how many points this question is worth; defaults to 1 internally\n",
    "check_cell: false  # whether to include a check cell after this question (for autograded questions only)\n",
    "-->"
   ]
  },
  {
   "cell_type": "code",
   "execution_count": null,
   "id": "b2b40eff",
   "metadata": {},
   "outputs": [],
   "source": [
    "## solution ##\n",
    "plt.plot(...);"
   ]
  },
  {
   "cell_type": "markdown",
   "id": "e23b29fb",
   "metadata": {
    "nbgrader": {
     "grade": false,
     "grade_id": "cell-6cb3f5a1cf371788",
     "locked": true,
     "schema_version": 3,
     "solution": false,
     "task": false
    }
   },
   "source": [
    "<!-- END QUESTION -->\n",
    "\n",
    "\n",
    "\n",
    "## Question 3 (2 points)\n",
    "\n",
    "Where did this data even come from? Find one instance where a data point in the cities dataframe looks false. Write one sentence explaining why it is false and provide a source proving your claim.\n",
    "\n",
    "(NB: This is a manually graded Question)"
   ]
  },
  {
   "cell_type": "markdown",
   "id": "220e18a3",
   "metadata": {
    "deletable": false,
    "editable": false
   },
   "source": [
    "<!-- BEGIN QUESTION -->\n",
    "\n",
    "<!--\n",
    "BEGIN QUESTION\n",
    "name: Question 3      # (required) the path to a requirements.txt file\n",
    "manual: true     # whether this is a manually-graded question\n",
    "points: 2     # how many points this question is worth; defaults to 1 internally\n",
    "check_cell: false  # whether to include a check cell after this question (for autograded questions only)\n",
    "-->"
   ]
  },
  {
   "cell_type": "code",
   "execution_count": 16,
   "id": "dbcce2ab",
   "metadata": {
    "nbgrader": {
     "grade": true,
     "grade_id": "cell-b705817b0aa8fe76",
     "locked": false,
     "points": 0,
     "schema_version": 3,
     "solution": true,
     "task": false
    }
   },
   "outputs": [],
   "source": [
    "## solution ##\n",
    "plt.plot(...);"
   ]
  },
  {
   "cell_type": "markdown",
   "id": "9cbf6b58",
   "metadata": {
    "deletable": false,
    "editable": false
   },
   "source": [
    "---\n",
    "\n",
    "To double-check your work, the cell below will rerun all of the autograder tests."
   ]
  },
  {
   "cell_type": "code",
   "execution_count": null,
   "id": "ed04d8d4",
   "metadata": {
    "deletable": false,
    "editable": false
   },
   "outputs": [],
   "source": [
    "grader.check_all()"
   ]
  }
 ],
 "metadata": {
  "celltoolbar": "Create Assignment",
  "kernelspec": {
   "display_name": "Python 3 (ipykernel)",
   "language": "python",
   "name": "python3"
  },
  "language_info": {
   "codemirror_mode": {
    "name": "ipython",
    "version": 3
   },
   "file_extension": ".py",
   "mimetype": "text/x-python",
   "name": "python",
   "nbconvert_exporter": "python",
   "pygments_lexer": "ipython3",
   "version": "3.9.13"
  }
 },
 "nbformat": 4,
 "nbformat_minor": 5
}
